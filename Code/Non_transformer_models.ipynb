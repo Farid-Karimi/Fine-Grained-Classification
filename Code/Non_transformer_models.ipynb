{
 "cells": [
  {
   "cell_type": "markdown",
   "metadata": {},
   "source": [
    "# Non Transformer Models"
   ]
  },
  {
   "cell_type": "markdown",
   "metadata": {},
   "source": [
    "## Imports"
   ]
  },
  {
   "cell_type": "code",
   "execution_count": null,
   "metadata": {
    "id": "SEFkTgMbRUIT"
   },
   "outputs": [],
   "source": [
    "# @title Install dependencies\n",
    "!pip install pandas --quiet\n",
    "\n",
    "!pip install torchtext --quiet\n"
   ]
  },
  {
   "cell_type": "code",
   "execution_count": null,
   "metadata": {
    "cellView": "form",
    "id": "jZysmsOpSPvd"
   },
   "outputs": [],
   "source": [
    "# @title Importing Libraries\n",
    "import os\n",
    "import json\n",
    "import csv\n",
    "import numpy as np\n",
    "import pandas as pd\n",
    "import matplotlib.pyplot as plt\n",
    "import seaborn as sns\n",
    "\n",
    "from collections import Counter\n",
    "from tqdm.notebook import tqdm\n",
    "import nltk\n",
    "from nltk.stem import WordNetLemmatizer\n",
    "\n",
    "import torch\n",
    "import torch.nn as nn\n",
    "import torch.optim as optim\n",
    "import torch.nn.functional as F\n",
    "from torch.utils.data import TensorDataset, DataLoader\n",
    "\n",
    "\n",
    "from sklearn.utils import shuffle\n",
    "from sklearn.metrics import classification_report\n",
    "from sklearn.linear_model import LogisticRegression\n",
    "from sklearn.model_selection import train_test_split\n",
    "from sklearn.feature_extraction.text import CountVectorizer\n",
    "from sklearn.feature_extraction.text import TfidfVectorizer\n",
    "from sklearn.svm import SVC\n",
    "from sklearn.metrics import classification_report, confusion_matrix\n",
    "\n",
    "from imblearn.over_sampling import SMOTE"
   ]
  },
  {
   "cell_type": "markdown",
   "metadata": {},
   "source": [
    "## title Converting JSON to CSV"
   ]
  },
  {
   "cell_type": "code",
   "execution_count": null,
   "metadata": {
    "cellView": "form",
    "id": "8iRqwyIEeBPJ"
   },
   "outputs": [],
   "source": [
    "folder_path = \"/content\"\n",
    "output_folder = os.path.join(folder_path, \"csv\")\n",
    "\n",
    "if not os.path.exists(output_folder):\n",
    "  os.makedirs(output_folder)\n",
    "\n",
    "def json_to_csv(json_file, csv_file):\n",
    "  with open (json_file, 'r') as f_in, open (csv_file, 'w', newline = '') as f_out:\n",
    "    writer = csv.writer(f_out)\n",
    "    writer.writerow([\"text\", \"label\", \"label_text\"])\n",
    "\n",
    "    for line in f_in:\n",
    "      data = json.loads(line)\n",
    "      writer.writerow([data[\"text\"], data[\"label\"], data[\"label_text\"]])\n",
    "\n",
    "for file_name in [\"train.jsonl\", \"dev.jsonl\", \"test.jsonl\"]:\n",
    "  json_file = os.path.join(folder_path, file_name)\n",
    "  csv_file = os.path.join(output_folder, os.path.splitext(file_name)[0] + \".csv\")\n",
    "  json_to_csv(json_file, csv_file)"
   ]
  },
  {
   "cell_type": "code",
   "execution_count": null,
   "metadata": {
    "id": "u-dCkB3CyR-J"
   },
   "outputs": [],
   "source": [
    "def plot_confusion_matrix(y_true, y_pred,\n",
    "                          class_dict=\n",
    "                           {0: 'Very Negative', 1: 'Negative', 2: 'Neutral', 3: 'Positive', 4: 'Very Positive'}):\n",
    "\n",
    "    cm = confusion_matrix(y_true, y_pred)\n",
    "    plt.figure(figsize=(10, 7))\n",
    "    sns.heatmap(cm, annot=True, fmt='d', cmap='Blues', xticklabels=list(class_dict.values()), yticklabels=list(class_dict.values()))\n",
    "    plt.xlabel('Predicted Labels')\n",
    "    plt.ylabel('True Labels')\n",
    "    plt.title('Confusion Matrix')\n",
    "    plt.show()"
   ]
  },
  {
   "cell_type": "markdown",
   "metadata": {},
   "source": [
    "## Loading Data"
   ]
  },
  {
   "cell_type": "code",
   "execution_count": null,
   "metadata": {
    "colab": {
     "base_uri": "https://localhost:8080/",
     "height": 383
    },
    "collapsed": true,
    "id": "bo7N33IAxV9H",
    "outputId": "a6414551-0afb-4e13-a474-e863669f4f81"
   },
   "outputs": [
    {
     "data": {
      "application/vnd.google.colaboratory.intrinsic+json": {
       "summary": "{\n  \"name\": \"df_dev\",\n  \"rows\": 1101,\n  \"fields\": [\n    {\n      \"column\": \"text\",\n      \"properties\": {\n        \"dtype\": \"string\",\n        \"num_unique_values\": 1100,\n        \"samples\": [\n          \"ramsay , as in ratcatcher , remains a filmmaker with an acid viewpoint and a real gift for teasing chilly poetry out of lives and settings that might otherwise seem drab and sordid .\",\n          \"scores no points for originality , wit , or intelligence .\",\n          \"too restrained to be a freak show , too mercenary and obvious to be cerebral , too dull and pretentious to be engaging ... the isle defies an easy categorization .\"\n        ],\n        \"semantic_type\": \"\",\n        \"description\": \"\"\n      }\n    },\n    {\n      \"column\": \"label\",\n      \"properties\": {\n        \"dtype\": \"number\",\n        \"std\": 1,\n        \"min\": 0,\n        \"max\": 4,\n        \"num_unique_values\": 5,\n        \"samples\": [\n          1,\n          4,\n          0\n        ],\n        \"semantic_type\": \"\",\n        \"description\": \"\"\n      }\n    },\n    {\n      \"column\": \"label_text\",\n      \"properties\": {\n        \"dtype\": \"category\",\n        \"num_unique_values\": 5,\n        \"samples\": [\n          \"negative\",\n          \"very positive\",\n          \"very negative\"\n        ],\n        \"semantic_type\": \"\",\n        \"description\": \"\"\n      }\n    }\n  ]\n}",
       "type": "dataframe",
       "variable_name": "df_dev"
      },
      "text/html": [
       "\n",
       "  <div id=\"df-63600395-3d04-4462-92e2-b0e8dfaa6c2c\" class=\"colab-df-container\">\n",
       "    <div>\n",
       "<style scoped>\n",
       "    .dataframe tbody tr th:only-of-type {\n",
       "        vertical-align: middle;\n",
       "    }\n",
       "\n",
       "    .dataframe tbody tr th {\n",
       "        vertical-align: top;\n",
       "    }\n",
       "\n",
       "    .dataframe thead th {\n",
       "        text-align: right;\n",
       "    }\n",
       "</style>\n",
       "<table border=\"1\" class=\"dataframe\">\n",
       "  <thead>\n",
       "    <tr style=\"text-align: right;\">\n",
       "      <th></th>\n",
       "      <th>text</th>\n",
       "      <th>label</th>\n",
       "      <th>label_text</th>\n",
       "    </tr>\n",
       "  </thead>\n",
       "  <tbody>\n",
       "    <tr>\n",
       "      <th>0</th>\n",
       "      <td>in his first stab at the form , jacquot takes ...</td>\n",
       "      <td>2</td>\n",
       "      <td>neutral</td>\n",
       "    </tr>\n",
       "    <tr>\n",
       "      <th>1</th>\n",
       "      <td>one long string of cliches .</td>\n",
       "      <td>1</td>\n",
       "      <td>negative</td>\n",
       "    </tr>\n",
       "    <tr>\n",
       "      <th>2</th>\n",
       "      <td>if you 've ever entertained the notion of doin...</td>\n",
       "      <td>1</td>\n",
       "      <td>negative</td>\n",
       "    </tr>\n",
       "    <tr>\n",
       "      <th>3</th>\n",
       "      <td>k-19 exploits our substantial collective fear ...</td>\n",
       "      <td>0</td>\n",
       "      <td>very negative</td>\n",
       "    </tr>\n",
       "    <tr>\n",
       "      <th>4</th>\n",
       "      <td>it 's played in the most straight-faced fashio...</td>\n",
       "      <td>1</td>\n",
       "      <td>negative</td>\n",
       "    </tr>\n",
       "    <tr>\n",
       "      <th>5</th>\n",
       "      <td>there is a fabric of complex ideas here , and ...</td>\n",
       "      <td>3</td>\n",
       "      <td>positive</td>\n",
       "    </tr>\n",
       "    <tr>\n",
       "      <th>6</th>\n",
       "      <td>it may seem long at 110 minutes if you 're not...</td>\n",
       "      <td>2</td>\n",
       "      <td>neutral</td>\n",
       "    </tr>\n",
       "    <tr>\n",
       "      <th>7</th>\n",
       "      <td>while the stoically delivered hokum of hart 's...</td>\n",
       "      <td>2</td>\n",
       "      <td>neutral</td>\n",
       "    </tr>\n",
       "    <tr>\n",
       "      <th>8</th>\n",
       "      <td>although laced with humor and a few fanciful t...</td>\n",
       "      <td>3</td>\n",
       "      <td>positive</td>\n",
       "    </tr>\n",
       "    <tr>\n",
       "      <th>9</th>\n",
       "      <td>it all feels like a monty python sketch gone h...</td>\n",
       "      <td>0</td>\n",
       "      <td>very negative</td>\n",
       "    </tr>\n",
       "  </tbody>\n",
       "</table>\n",
       "</div>\n",
       "    <div class=\"colab-df-buttons\">\n",
       "\n",
       "  <div class=\"colab-df-container\">\n",
       "    <button class=\"colab-df-convert\" onclick=\"convertToInteractive('df-63600395-3d04-4462-92e2-b0e8dfaa6c2c')\"\n",
       "            title=\"Convert this dataframe to an interactive table.\"\n",
       "            style=\"display:none;\">\n",
       "\n",
       "  <svg xmlns=\"http://www.w3.org/2000/svg\" height=\"24px\" viewBox=\"0 -960 960 960\">\n",
       "    <path d=\"M120-120v-720h720v720H120Zm60-500h600v-160H180v160Zm220 220h160v-160H400v160Zm0 220h160v-160H400v160ZM180-400h160v-160H180v160Zm440 0h160v-160H620v160ZM180-180h160v-160H180v160Zm440 0h160v-160H620v160Z\"/>\n",
       "  </svg>\n",
       "    </button>\n",
       "\n",
       "  <style>\n",
       "    .colab-df-container {\n",
       "      display:flex;\n",
       "      gap: 12px;\n",
       "    }\n",
       "\n",
       "    .colab-df-convert {\n",
       "      background-color: #E8F0FE;\n",
       "      border: none;\n",
       "      border-radius: 50%;\n",
       "      cursor: pointer;\n",
       "      display: none;\n",
       "      fill: #1967D2;\n",
       "      height: 32px;\n",
       "      padding: 0 0 0 0;\n",
       "      width: 32px;\n",
       "    }\n",
       "\n",
       "    .colab-df-convert:hover {\n",
       "      background-color: #E2EBFA;\n",
       "      box-shadow: 0px 1px 2px rgba(60, 64, 67, 0.3), 0px 1px 3px 1px rgba(60, 64, 67, 0.15);\n",
       "      fill: #174EA6;\n",
       "    }\n",
       "\n",
       "    .colab-df-buttons div {\n",
       "      margin-bottom: 4px;\n",
       "    }\n",
       "\n",
       "    [theme=dark] .colab-df-convert {\n",
       "      background-color: #3B4455;\n",
       "      fill: #D2E3FC;\n",
       "    }\n",
       "\n",
       "    [theme=dark] .colab-df-convert:hover {\n",
       "      background-color: #434B5C;\n",
       "      box-shadow: 0px 1px 3px 1px rgba(0, 0, 0, 0.15);\n",
       "      filter: drop-shadow(0px 1px 2px rgba(0, 0, 0, 0.3));\n",
       "      fill: #FFFFFF;\n",
       "    }\n",
       "  </style>\n",
       "\n",
       "    <script>\n",
       "      const buttonEl =\n",
       "        document.querySelector('#df-63600395-3d04-4462-92e2-b0e8dfaa6c2c button.colab-df-convert');\n",
       "      buttonEl.style.display =\n",
       "        google.colab.kernel.accessAllowed ? 'block' : 'none';\n",
       "\n",
       "      async function convertToInteractive(key) {\n",
       "        const element = document.querySelector('#df-63600395-3d04-4462-92e2-b0e8dfaa6c2c');\n",
       "        const dataTable =\n",
       "          await google.colab.kernel.invokeFunction('convertToInteractive',\n",
       "                                                    [key], {});\n",
       "        if (!dataTable) return;\n",
       "\n",
       "        const docLinkHtml = 'Like what you see? Visit the ' +\n",
       "          '<a target=\"_blank\" href=https://colab.research.google.com/notebooks/data_table.ipynb>data table notebook</a>'\n",
       "          + ' to learn more about interactive tables.';\n",
       "        element.innerHTML = '';\n",
       "        dataTable['output_type'] = 'display_data';\n",
       "        await google.colab.output.renderOutput(dataTable, element);\n",
       "        const docLink = document.createElement('div');\n",
       "        docLink.innerHTML = docLinkHtml;\n",
       "        element.appendChild(docLink);\n",
       "      }\n",
       "    </script>\n",
       "  </div>\n",
       "\n",
       "\n",
       "<div id=\"df-3e7a3183-0522-4d5b-a006-fb4c899598d3\">\n",
       "  <button class=\"colab-df-quickchart\" onclick=\"quickchart('df-3e7a3183-0522-4d5b-a006-fb4c899598d3')\"\n",
       "            title=\"Suggest charts\"\n",
       "            style=\"display:none;\">\n",
       "\n",
       "<svg xmlns=\"http://www.w3.org/2000/svg\" height=\"24px\"viewBox=\"0 0 24 24\"\n",
       "     width=\"24px\">\n",
       "    <g>\n",
       "        <path d=\"M19 3H5c-1.1 0-2 .9-2 2v14c0 1.1.9 2 2 2h14c1.1 0 2-.9 2-2V5c0-1.1-.9-2-2-2zM9 17H7v-7h2v7zm4 0h-2V7h2v10zm4 0h-2v-4h2v4z\"/>\n",
       "    </g>\n",
       "</svg>\n",
       "  </button>\n",
       "\n",
       "<style>\n",
       "  .colab-df-quickchart {\n",
       "      --bg-color: #E8F0FE;\n",
       "      --fill-color: #1967D2;\n",
       "      --hover-bg-color: #E2EBFA;\n",
       "      --hover-fill-color: #174EA6;\n",
       "      --disabled-fill-color: #AAA;\n",
       "      --disabled-bg-color: #DDD;\n",
       "  }\n",
       "\n",
       "  [theme=dark] .colab-df-quickchart {\n",
       "      --bg-color: #3B4455;\n",
       "      --fill-color: #D2E3FC;\n",
       "      --hover-bg-color: #434B5C;\n",
       "      --hover-fill-color: #FFFFFF;\n",
       "      --disabled-bg-color: #3B4455;\n",
       "      --disabled-fill-color: #666;\n",
       "  }\n",
       "\n",
       "  .colab-df-quickchart {\n",
       "    background-color: var(--bg-color);\n",
       "    border: none;\n",
       "    border-radius: 50%;\n",
       "    cursor: pointer;\n",
       "    display: none;\n",
       "    fill: var(--fill-color);\n",
       "    height: 32px;\n",
       "    padding: 0;\n",
       "    width: 32px;\n",
       "  }\n",
       "\n",
       "  .colab-df-quickchart:hover {\n",
       "    background-color: var(--hover-bg-color);\n",
       "    box-shadow: 0 1px 2px rgba(60, 64, 67, 0.3), 0 1px 3px 1px rgba(60, 64, 67, 0.15);\n",
       "    fill: var(--button-hover-fill-color);\n",
       "  }\n",
       "\n",
       "  .colab-df-quickchart-complete:disabled,\n",
       "  .colab-df-quickchart-complete:disabled:hover {\n",
       "    background-color: var(--disabled-bg-color);\n",
       "    fill: var(--disabled-fill-color);\n",
       "    box-shadow: none;\n",
       "  }\n",
       "\n",
       "  .colab-df-spinner {\n",
       "    border: 2px solid var(--fill-color);\n",
       "    border-color: transparent;\n",
       "    border-bottom-color: var(--fill-color);\n",
       "    animation:\n",
       "      spin 1s steps(1) infinite;\n",
       "  }\n",
       "\n",
       "  @keyframes spin {\n",
       "    0% {\n",
       "      border-color: transparent;\n",
       "      border-bottom-color: var(--fill-color);\n",
       "      border-left-color: var(--fill-color);\n",
       "    }\n",
       "    20% {\n",
       "      border-color: transparent;\n",
       "      border-left-color: var(--fill-color);\n",
       "      border-top-color: var(--fill-color);\n",
       "    }\n",
       "    30% {\n",
       "      border-color: transparent;\n",
       "      border-left-color: var(--fill-color);\n",
       "      border-top-color: var(--fill-color);\n",
       "      border-right-color: var(--fill-color);\n",
       "    }\n",
       "    40% {\n",
       "      border-color: transparent;\n",
       "      border-right-color: var(--fill-color);\n",
       "      border-top-color: var(--fill-color);\n",
       "    }\n",
       "    60% {\n",
       "      border-color: transparent;\n",
       "      border-right-color: var(--fill-color);\n",
       "    }\n",
       "    80% {\n",
       "      border-color: transparent;\n",
       "      border-right-color: var(--fill-color);\n",
       "      border-bottom-color: var(--fill-color);\n",
       "    }\n",
       "    90% {\n",
       "      border-color: transparent;\n",
       "      border-bottom-color: var(--fill-color);\n",
       "    }\n",
       "  }\n",
       "</style>\n",
       "\n",
       "  <script>\n",
       "    async function quickchart(key) {\n",
       "      const quickchartButtonEl =\n",
       "        document.querySelector('#' + key + ' button');\n",
       "      quickchartButtonEl.disabled = true;  // To prevent multiple clicks.\n",
       "      quickchartButtonEl.classList.add('colab-df-spinner');\n",
       "      try {\n",
       "        const charts = await google.colab.kernel.invokeFunction(\n",
       "            'suggestCharts', [key], {});\n",
       "      } catch (error) {\n",
       "        console.error('Error during call to suggestCharts:', error);\n",
       "      }\n",
       "      quickchartButtonEl.classList.remove('colab-df-spinner');\n",
       "      quickchartButtonEl.classList.add('colab-df-quickchart-complete');\n",
       "    }\n",
       "    (() => {\n",
       "      let quickchartButtonEl =\n",
       "        document.querySelector('#df-3e7a3183-0522-4d5b-a006-fb4c899598d3 button');\n",
       "      quickchartButtonEl.style.display =\n",
       "        google.colab.kernel.accessAllowed ? 'block' : 'none';\n",
       "    })();\n",
       "  </script>\n",
       "</div>\n",
       "\n",
       "    </div>\n",
       "  </div>\n"
      ],
      "text/plain": [
       "                                                text  label     label_text\n",
       "0  in his first stab at the form , jacquot takes ...      2        neutral\n",
       "1                       one long string of cliches .      1       negative\n",
       "2  if you 've ever entertained the notion of doin...      1       negative\n",
       "3  k-19 exploits our substantial collective fear ...      0  very negative\n",
       "4  it 's played in the most straight-faced fashio...      1       negative\n",
       "5  there is a fabric of complex ideas here , and ...      3       positive\n",
       "6  it may seem long at 110 minutes if you 're not...      2        neutral\n",
       "7  while the stoically delivered hokum of hart 's...      2        neutral\n",
       "8  although laced with humor and a few fanciful t...      3       positive\n",
       "9  it all feels like a monty python sketch gone h...      0  very negative"
      ]
     },
     "execution_count": 5,
     "metadata": {},
     "output_type": "execute_result"
    }
   ],
   "source": [
    "train_path = \"/content/csv/train.csv\"\n",
    "dev_path = \"/content/csv/dev.csv\"\n",
    "test_path = \"/content/csv/test.csv\"\n",
    "\n",
    "\n",
    "df_train = pd.read_csv(train_path)\n",
    "df_dev = pd.read_csv(dev_path)\n",
    "df_test = pd.read_csv(test_path)\n",
    "\n",
    "df_dev.head(10)"
   ]
  },
  {
   "cell_type": "code",
   "execution_count": null,
   "metadata": {
    "colab": {
     "base_uri": "https://localhost:8080/"
    },
    "id": "sgKmonWjz3vP",
    "outputId": "178bf22c-1c2c-42ab-d970-9f5f3d6a1e71"
   },
   "outputs": [
    {
     "name": "stdout",
     "output_type": "stream",
     "text": [
      "[0]. 4: a stirring , funny and finally transporting re-imagining of beauty and the beast and 1930s horror films\n",
      "[1]. 1: apparently reassembled from the cutting-room floor of any given daytime soap .\n",
      "[2]. 1: they presume their audience wo n't sit still for a sociology lesson , however entertainingly presented , so they trot out the conventional science-fiction elements of bug-eyed monsters and futuristic women in skimpy clothes .\n",
      "[3]. 2: the entire movie is filled with deja vu moments .\n",
      "[4]. 3: this is a visually stunning rumination on love , memory , history and the war between art and commerce .\n"
     ]
    }
   ],
   "source": [
    "x_train_text = df_train.text.values\n",
    "y_train_label = df_train.label.values\n",
    "\n",
    "x_dev_text = df_dev.text.values\n",
    "y_dev_label = df_dev.label.values\n",
    "\n",
    "x_test_text = df_test.text.values\n",
    "y_test_label = df_test.label.values\n",
    "\n",
    "index = 5\n",
    "\n",
    "for i, (text, label) in enumerate(zip(x_train_text[:index], y_train_label[:index])):\n",
    "  print(f\"[{i}]. {label}: {text}\")"
   ]
  },
  {
   "cell_type": "code",
   "execution_count": null,
   "metadata": {
    "colab": {
     "base_uri": "https://localhost:8080/",
     "height": 324
    },
    "id": "MjT6bSlgnSBc",
    "outputId": "d0c9f2c4-52c0-4104-eb93-a8bcf7e22cfb"
   },
   "outputs": [
    {
     "name": "stderr",
     "output_type": "stream",
     "text": [
      "<ipython-input-7-1ca7a7a0b28b>:2: MatplotlibDeprecationWarning: The seaborn styles shipped by Matplotlib are deprecated since 3.6, as they no longer correspond to the styles shipped by seaborn. However, they will remain available as 'seaborn-v0_8-<style>'. Alternatively, directly use the seaborn API instead.\n",
      "  plt.style.use('seaborn')\n"
     ]
    },
    {
     "data": {
      "text/plain": [
       "<Axes: title={'center': 'Testing Set Score Count'}, xlabel='label', ylabel='count'>"
      ]
     },
     "execution_count": 7,
     "metadata": {},
     "output_type": "execute_result"
    },
    {
     "data": {
      "image/png": "[encoded data removed]",
      "text/plain": [
       "<Figure size 2000x400 with 3 Axes>"
      ]
     },
     "metadata": {},
     "output_type": "display_data"
    }
   ],
   "source": [
    "plt.figure(figsize=(20, 4))\n",
    "plt.style.use('seaborn')\n",
    "plt.subplot(1, 3, 1)\n",
    "plt.title(\"Training Set Score Count\")\n",
    "sns.countplot(df_train, x=\"label\")\n",
    "\n",
    "plt.subplot(1, 3, 2)\n",
    "plt.title(\"Validation Set Score Count\")\n",
    "sns.countplot(df_dev, x=\"label\")\n",
    "\n",
    "plt.subplot(1, 3, 3)\n",
    "plt.title(\"Testing Set Score Count\")\n",
    "sns.countplot(df_test, x=\"label\")"
   ]
  },
  {
   "cell_type": "markdown",
   "metadata": {},
   "source": [
    "## Preprocessing"
   ]
  },
  {
   "cell_type": "code",
   "execution_count": null,
   "metadata": {
    "colab": {
     "base_uri": "https://localhost:8080/"
    },
    "collapsed": true,
    "id": "J8nhs7ArBQDI",
    "outputId": "1dae07a0-b696-4ff3-8cd9-9755153ad4af"
   },
   "outputs": [
    {
     "name": "stderr",
     "output_type": "stream",
     "text": [
      "[nltk_data] Downloading package punkt to /root/nltk_data...\n",
      "[nltk_data]   Package punkt is already up-to-date!\n",
      "[nltk_data] Downloading package wordnet to /root/nltk_data...\n",
      "[nltk_data]   Package wordnet is already up-to-date!\n"
     ]
    }
   ],
   "source": [
    "# Tokenizer function that also handles special characters and abbreviation\n",
    "import nltk\n",
    "from nltk.corpus import wordnet\n",
    "from nltk.stem import WordNetLemmatizer\n",
    "\n",
    "nltk.download('punkt') ## one time only process\n",
    "nltk.download('wordnet')\n",
    "\n",
    "def tokenize(text):\n",
    "\n",
    "  tokens = nltk.word_tokenize(text)\n",
    "  lemmatizer = WordNetLemmatizer()\n",
    "\n",
    "  new_tokens = []\n",
    "\n",
    "  bad_tokens = [',' , '.' , \"this\" , \"at\" , \"is\" , \"'s\" , \"a\" , \"are\" , \"of\" , \"for\" ,\n",
    "                \"at\" , \"as\" , \"with\" , \"from\" , \"the\" , \"and\" , \"to\" , \"it\" , \"that\" ,\n",
    "                \"in\" , \"its\" , \"an\" , \"n't\" , \"be\", 'on' , '...' , 'by',\n",
    "                '--', 'than']\n",
    "\n",
    "  # for token in tokens:\n",
    "  #     if token not in bad_tokens:\n",
    "  #         lemma = lemmatizer.lemmatize(token.lower())\n",
    "  #         new_tokens.append(lemma)\n",
    "\n",
    "  # Removing bad_tokens\n",
    "  filtered_tokens = [token for token in tokens if token not in bad_tokens]\n",
    "\n",
    "  new_tokens = [lemmatizer.lemmatize(token, pos='v') for token in filtered_tokens]\n",
    "\n",
    "  return new_tokens"
   ]
  },
  {
   "cell_type": "code",
   "execution_count": null,
   "metadata": {
    "colab": {
     "base_uri": "https://localhost:8080/",
     "height": 133,
     "referenced_widgets": [
      "753b2daf70464042be8f62d513ada565",
      "a363c7151eb3443eb1c7758117d1ae0a",
      "2642c03e392341deba669d55cebfa884",
      "ec853a1a1bdc484ca9a71d83149488e6",
      "69798d61927241a6902c116e8ff091d1",
      "30367d1ccbdf4222a88d0c1d38d6f3a5",
      "74ad2264a46e4513b17080933ea99127",
      "1fe38c87494249eca1a8760d1f127822",
      "c422e1982da144dfba8be66156f457f6",
      "0f3ecc641c1142ba971a137b53704f96",
      "77f0d12b2c284733bfbb9dbea6edde2e",
      "c9aa9a2f2cf64178aec741114f535e57",
      "d2b76f72a1ef42ebb3fd26267cd64b92",
      "847e59f0305c4ff28eb45937a6f6aa87",
      "38eab7379b644db59a103f9bc020fad9",
      "ce04247c9ea24888a51833a9d7a0767d",
      "51457d2f9158453188ed35f80abaeb78",
      "1f3e5eb75b494f6d8000f1f9a206ce93",
      "ac703d6b6bbf4eb7ba4863e31b7e1ecc",
      "624375b83d6d402f9adfaf6b0a5de08b",
      "357e10cfcd354aeea97f2e97fe7f343d",
      "f449db5b8a3447e6b6d529a4822600ec",
      "2268ae54c03e40a79114748517e599c4",
      "c3b605fe68e042ddb76a7ec19a650464",
      "d89e29642e8140df8099ea0f966a26e5",
      "246792c70fb7496c9cc1fefcf35f1adc",
      "cfd8811d0955492a813f62890c4fe1c2",
      "93a62b3f15f94ff7b44ff43aa177e96e",
      "3e6b0f9392904d589dab63559b6839bc",
      "79b91134e7b3429391079ced17473af8",
      "cfdaed2848d843c48885a200f856ab38",
      "c55024096de849e1985c0faa347c18ed",
      "3c855e7e4f1b42a69427759db25fd5fe"
     ]
    },
    "id": "ooZYlaGuXTEu",
    "outputId": "cafe67e9-249d-47a3-ded2-af1b6aab2541"
   },
   "outputs": [
    {
     "data": {
      "application/vnd.jupyter.widget-view+json": {
       "model_id": "753b2daf70464042be8f62d513ada565",
       "version_major": 2,
       "version_minor": 0
      },
      "text/plain": [
       "  0%|          | 0/8544 [00:00<?, ?it/s]"
      ]
     },
     "metadata": {},
     "output_type": "display_data"
    },
    {
     "data": {
      "application/vnd.jupyter.widget-view+json": {
       "model_id": "c9aa9a2f2cf64178aec741114f535e57",
       "version_major": 2,
       "version_minor": 0
      },
      "text/plain": [
       "  0%|          | 0/2210 [00:00<?, ?it/s]"
      ]
     },
     "metadata": {},
     "output_type": "display_data"
    },
    {
     "data": {
      "application/vnd.jupyter.widget-view+json": {
       "model_id": "2268ae54c03e40a79114748517e599c4",
       "version_major": 2,
       "version_minor": 0
      },
      "text/plain": [
       "  0%|          | 0/2210 [00:00<?, ?it/s]"
      ]
     },
     "metadata": {},
     "output_type": "display_data"
    }
   ],
   "source": [
    "x_train_token = [tokenize(s) for s in tqdm(x_train_text)]\n",
    "x_test_token = [tokenize(s) for s in tqdm(x_test_text)]\n",
    "x_dev_token = [tokenize(s) for s in tqdm(x_test_text)]"
   ]
  },
  {
   "cell_type": "code",
   "execution_count": null,
   "metadata": {
    "colab": {
     "base_uri": "https://localhost:8080/"
    },
    "id": "O_uxG6gyatnr",
    "outputId": "ff4dcaf5-df73-44ed-8692-58cfecec8a75"
   },
   "outputs": [
    {
     "name": "stdout",
     "output_type": "stream",
     "text": [
      "Number of different Tokens in our Dataset: 15675\n",
      "['film', 'but', 'have', 'movie', 'you', 'do', 'not', 'make', 'be', 'like']\n"
     ]
    }
   ],
   "source": [
    "words = Counter()\n",
    "for s in x_train_token:\n",
    "  for w in s:\n",
    "    words[w] += 1\n",
    "\n",
    "for s in x_dev_token:\n",
    "  for w in s:\n",
    "    words[w] += 1\n",
    "\n",
    "for s in x_test_token:\n",
    "  for w in s:\n",
    "    words[w] += 1\n",
    "\n",
    "sorted_words = list(words.keys())\n",
    "sorted_words.sort(key=lambda w: words[w], reverse=True)\n",
    "print(f\"Number of different Tokens in our Dataset: {len(sorted_words)}\")\n",
    "print(sorted_words[:10])"
   ]
  },
  {
   "cell_type": "code",
   "execution_count": null,
   "metadata": {
    "colab": {
     "base_uri": "https://localhost:8080/",
     "height": 523
    },
    "id": "4JeqhcMmat2h",
    "outputId": "7aca489a-0138-443c-d3a4-0759ee99170d"
   },
   "outputs": [
    {
     "data": {
      "image/png": "[encoded data removed]",
      "text/plain": [
       "<Figure size 1500x600 with 1 Axes>"
      ]
     },
     "metadata": {},
     "output_type": "display_data"
    }
   ],
   "source": [
    "top_words = sorted_words[:100]\n",
    "top_counts = [words[w] for w in top_words]\n",
    "\n",
    "plt.figure(figsize=(15, 6))\n",
    "plt.bar(range(100), top_counts, tick_label=top_words)\n",
    "plt.xticks(rotation=90)\n",
    "plt.xlabel('Words')\n",
    "plt.ylabel('Frequency')\n",
    "plt.title('Top 100 Most Frequent Words')\n",
    "plt.show()"
   ]
  },
  {
   "cell_type": "code",
   "execution_count": null,
   "metadata": {
    "colab": {
     "base_uri": "https://localhost:8080/",
     "height": 289,
     "referenced_widgets": [
      "98016d7b71b345bbb4ad139f0742fa00",
      "15e28dedbadd45f385295712bf610722",
      "7cce8cdb00b7499b96dca79bda6a6fd5",
      "13cbf4dd63064d6f8e9d59675f0ce7a7",
      "559718ff96564e5dbff2062b440d75ba",
      "18ad9d7b16b041d797c6b69ea6f35d1f",
      "27c89d8328c249ecbcd508083b8cbfac",
      "e913a9ba3fc745f7b7586e765c61dad8",
      "800b8f3106b6421b865e077b03ff5a95",
      "6ce6cf63c537455e97ad70e4e5cc35cf",
      "2cfc25e0a71f468aa7ab24bac3da2a4e",
      "ed9d4a5484b541499bc5ab75a121f5c5",
      "9cdc48fd39b64bf38a1fa6db900cfe5b",
      "eac4bb4b36a44922bf09d73df57dec9d",
      "e4510e9064ed454e9c545871809f2227",
      "4d767d13e98d4c38a0964b797ebe115c",
      "502eeb1294124fd5b3ea37b6c03780c8",
      "303b4936aafa408f8ace4c95b7a717b4",
      "04015ad0ee994a629ad1d11075105fa2",
      "4c54ef09b79c4e9587a8d82ec0d5b75b",
      "028cd2c2722d49869c6f521dcdd3395c",
      "bf8e990ab56e42bb93f9d90b48a7fb76",
      "73d081087a914b35a21a6cf62212d3c8",
      "f766a02eb67c4d9fb1715170faf5f61b",
      "52df4cc3319f41e99340f0a1ac664fdd",
      "cbc13a568db6430f8adc01e70498236f",
      "ab64366e3e874301bdc7b3908230ffed",
      "94584913477543b3ab210db470e6706d",
      "9b13712f54914caeaaca727e4ae3d3c8",
      "ec88ffe8c0d84e6b99373929a26eafc0",
      "150b8d72ddad41d39801cc5001e28760",
      "7ae01872527b4a6f88a74d9e91bdb3b0",
      "cd34ee19fb8f4932b32368a48feaffa9"
     ]
    },
    "id": "B2J2UqcVVXen",
    "outputId": "0e0449c8-18a4-4d14-f6ee-3f1e9e31df68"
   },
   "outputs": [
    {
     "data": {
      "application/vnd.jupyter.widget-view+json": {
       "model_id": "98016d7b71b345bbb4ad139f0742fa00",
       "version_major": 2,
       "version_minor": 0
      },
      "text/plain": [
       "  0%|          | 0/8544 [00:00<?, ?it/s]"
      ]
     },
     "metadata": {},
     "output_type": "display_data"
    },
    {
     "data": {
      "application/vnd.jupyter.widget-view+json": {
       "model_id": "ed9d4a5484b541499bc5ab75a121f5c5",
       "version_major": 2,
       "version_minor": 0
      },
      "text/plain": [
       "  0%|          | 0/1101 [00:00<?, ?it/s]"
      ]
     },
     "metadata": {},
     "output_type": "display_data"
    },
    {
     "data": {
      "application/vnd.jupyter.widget-view+json": {
       "model_id": "73d081087a914b35a21a6cf62212d3c8",
       "version_major": 2,
       "version_minor": 0
      },
      "text/plain": [
       "  0%|          | 0/2210 [00:00<?, ?it/s]"
      ]
     },
     "metadata": {},
     "output_type": "display_data"
    },
    {
     "name": "stdout",
     "output_type": "stream",
     "text": [
      "Before Vectorize:  the entire movie is filled with deja vu moments .\n",
      "After Vectorize: \n",
      "  (0, 1059)\t0.43958866357758797\n",
      "  (0, 1465)\t0.42207145939013924\n",
      "  (0, 2882)\t0.2920877073239267\n",
      "  (0, 4821)\t0.43958866357758797\n",
      "  (0, 1058)\t0.43958866357758797\n",
      "  (0, 2922)\t0.1646966662282993\n",
      "  (0, 1464)\t0.3601400881518536\n"
     ]
    }
   ],
   "source": [
    "x_train_tokenized = [' '.join(tokenize(text)) for text in tqdm(x_train_text)]\n",
    "x_dev_tokenized = [' '.join(tokenize(text)) for text in tqdm(x_dev_text)]\n",
    "x_test_tokenized = [' '.join(tokenize(text)) for text in tqdm(x_test_text)]\n",
    "\n",
    "# Vectorization\n",
    "vectorizer = CountVectorizer(binary=True)\n",
    "vectorizer = TfidfVectorizer(binary=True, stop_words='english', ngram_range=(1, 2), max_features=5000)\n",
    "x_train_cv = vectorizer.fit_transform(x_train_tokenized)\n",
    "x_dev_cv = vectorizer.transform(x_dev_tokenized)\n",
    "x_test_cv = vectorizer.transform(x_test_tokenized)\n",
    "\n",
    "print('Before Vectorize: ', x_train_text[3])\n",
    "print('After Vectorize: ')\n",
    "print(x_train_cv[3])"
   ]
  },
  {
   "cell_type": "code",
   "execution_count": null,
   "metadata": {
    "colab": {
     "base_uri": "https://localhost:8080/"
    },
    "id": "aTUKfdnQLJg_",
    "outputId": "5b5ce321-0b25-4f65-fd3f-4c0cbe0c867f"
   },
   "outputs": [
    {
     "name": "stdout",
     "output_type": "stream",
     "text": [
      "campanella get tone just right funny middle sad middle hopeful\n",
      "['campanella', 'get', 'tone', 'just', 'right', 'funny', 'middle', 'sad', 'middle', 'hopeful']\n",
      "  (0, 2143)\t0.4271947133027353\n",
      "  (0, 3751)\t0.35974238357911537\n",
      "  (0, 2813)\t0.3565919132581833\n",
      "  (0, 3662)\t0.31397505894614325\n",
      "  (0, 2389)\t0.2415953437352695\n",
      "  (0, 4548)\t0.34809540138668243\n",
      "  (0, 600)\t0.46539975563485175\n",
      "  (0, 1896)\t0.2573253058203683\n"
     ]
    }
   ],
   "source": [
    "print(x_train_tokenized[7])\n",
    "print(x_train_token[7])\n",
    "print(x_train_cv[7])"
   ]
  },
  {
   "cell_type": "markdown",
   "metadata": {
    "id": "Elocy6Jc70Tu"
   },
   "source": [
    "## SMOTE Oversampling"
   ]
  },
  {
   "cell_type": "code",
   "execution_count": null,
   "metadata": {
    "id": "g1ujQu8c7-V2"
   },
   "outputs": [],
   "source": [
    "# from collections import Counter\n",
    "\n",
    "# counter_before = Counter(y_train_label)\n",
    "\n",
    "# df_train = pd.read_csv(train_path)\n",
    "\n",
    "# smote = SMOTE(random_state = 2024)\n",
    "# x_train_resampled, y_train_resampled = smote.fit_resample(x_train_cv, y_train_label)\n",
    "\n",
    "\n",
    "# counter_after = Counter(y_train_resampled)\n",
    "\n",
    "# fig, (ax1, ax2) = plt.subplots(1, 2, figsize=(12, 6))\n",
    "\n",
    "# # Before SMOTE\n",
    "# ax1.bar(counter_before.keys(), counter_before.values())\n",
    "# ax1.set_title('Class Distribution Before SMOTE')\n",
    "# ax1.set_xlabel('Class')\n",
    "# ax1.set_ylabel('Count')\n",
    "\n",
    "# # After SMOTE\n",
    "# ax2.bar(counter_after.keys(), counter_after.values())\n",
    "# ax2.set_title('Class Distribution After SMOTE')\n",
    "# ax2.set_xlabel('Class')\n",
    "# ax2.set_ylabel('Count')\n",
    "\n",
    "# plt.tight_layout()\n",
    "# plt.show()\n"
   ]
  },
  {
   "cell_type": "code",
   "execution_count": null,
   "metadata": {
    "id": "gmf6Nqjd-hHM"
   },
   "outputs": [],
   "source": [
    "# x_train_cv = x_train_resampled\n",
    "# y_train_label2 = y_train_label\n",
    "# y_train_label = y_train_resampled"
   ]
  },
  {
   "cell_type": "markdown",
   "metadata": {},
   "source": [
    "## Machin Learning Models"
   ]
  },
  {
   "cell_type": "markdown",
   "metadata": {
    "id": "Ibjhk1ukt2Yr"
   },
   "source": [
    "### Logistic regression"
   ]
  },
  {
   "cell_type": "code",
   "execution_count": null,
   "metadata": {
    "colab": {
     "base_uri": "https://localhost:8080/",
     "height": 94
    },
    "id": "VnMHMWvMVXVg",
    "outputId": "2e32415f-2de8-412c-8a2b-a80fa407f315"
   },
   "outputs": [
    {
     "data": {
      "text/html": [
       "<style>#sk-container-id-1 {color: black;background-color: white;}#sk-container-id-1 pre{padding: 0;}#sk-container-id-1 div.sk-toggleable {background-color: white;}#sk-container-id-1 label.sk-toggleable__label {cursor: pointer;display: block;width: 100%;margin-bottom: 0;padding: 0.3em;box-sizing: border-box;text-align: center;}#sk-container-id-1 label.sk-toggleable__label-arrow:before {content: \"▸\";float: left;margin-right: 0.25em;color: #696969;}#sk-container-id-1 label.sk-toggleable__label-arrow:hover:before {color: black;}#sk-container-id-1 div.sk-estimator:hover label.sk-toggleable__label-arrow:before {color: black;}#sk-container-id-1 div.sk-toggleable__content {max-height: 0;max-width: 0;overflow: hidden;text-align: left;background-color: #f0f8ff;}#sk-container-id-1 div.sk-toggleable__content pre {margin: 0.2em;color: black;border-radius: 0.25em;background-color: #f0f8ff;}#sk-container-id-1 input.sk-toggleable__control:checked~div.sk-toggleable__content {max-height: 200px;max-width: 100%;overflow: auto;}#sk-container-id-1 input.sk-toggleable__control:checked~label.sk-toggleable__label-arrow:before {content: \"▾\";}#sk-container-id-1 div.sk-estimator input.sk-toggleable__control:checked~label.sk-toggleable__label {background-color: #d4ebff;}#sk-container-id-1 div.sk-label input.sk-toggleable__control:checked~label.sk-toggleable__label {background-color: #d4ebff;}#sk-container-id-1 input.sk-hidden--visually {border: 0;clip: rect(1px 1px 1px 1px);clip: rect(1px, 1px, 1px, 1px);height: 1px;margin: -1px;overflow: hidden;padding: 0;position: absolute;width: 1px;}#sk-container-id-1 div.sk-estimator {font-family: monospace;background-color: #f0f8ff;border: 1px dotted black;border-radius: 0.25em;box-sizing: border-box;margin-bottom: 0.5em;}#sk-container-id-1 div.sk-estimator:hover {background-color: #d4ebff;}#sk-container-id-1 div.sk-parallel-item::after {content: \"\";width: 100%;border-bottom: 1px solid gray;flex-grow: 1;}#sk-container-id-1 div.sk-label:hover label.sk-toggleable__label {background-color: #d4ebff;}#sk-container-id-1 div.sk-serial::before {content: \"\";position: absolute;border-left: 1px solid gray;box-sizing: border-box;top: 0;bottom: 0;left: 50%;z-index: 0;}#sk-container-id-1 div.sk-serial {display: flex;flex-direction: column;align-items: center;background-color: white;padding-right: 0.2em;padding-left: 0.2em;position: relative;}#sk-container-id-1 div.sk-item {position: relative;z-index: 1;}#sk-container-id-1 div.sk-parallel {display: flex;align-items: stretch;justify-content: center;background-color: white;position: relative;}#sk-container-id-1 div.sk-item::before, #sk-container-id-1 div.sk-parallel-item::before {content: \"\";position: absolute;border-left: 1px solid gray;box-sizing: border-box;top: 0;bottom: 0;left: 50%;z-index: -1;}#sk-container-id-1 div.sk-parallel-item {display: flex;flex-direction: column;z-index: 1;position: relative;background-color: white;}#sk-container-id-1 div.sk-parallel-item:first-child::after {align-self: flex-end;width: 50%;}#sk-container-id-1 div.sk-parallel-item:last-child::after {align-self: flex-start;width: 50%;}#sk-container-id-1 div.sk-parallel-item:only-child::after {width: 0;}#sk-container-id-1 div.sk-dashed-wrapped {border: 1px dashed gray;margin: 0 0.4em 0.5em 0.4em;box-sizing: border-box;padding-bottom: 0.4em;background-color: white;}#sk-container-id-1 div.sk-label label {font-family: monospace;font-weight: bold;display: inline-block;line-height: 1.2em;}#sk-container-id-1 div.sk-label-container {text-align: center;}#sk-container-id-1 div.sk-container {/* jupyter's `normalize.less` sets `[hidden] { display: none; }` but bootstrap.min.css set `[hidden] { display: none !important; }` so we also need the `!important` here to be able to override the default hidden behavior on the sphinx rendered scikit-learn.org. See: https://github.com/scikit-learn/scikit-learn/issues/21755 */display: inline-block !important;position: relative;}#sk-container-id-1 div.sk-text-repr-fallback {display: none;}</style><div id=\"sk-container-id-1\" class=\"sk-top-container\"><div class=\"sk-text-repr-fallback\"><pre>LogisticRegression(max_iter=1000, solver=&#x27;saga&#x27;)</pre><b>In a Jupyter environment, please rerun this cell to show the HTML representation or trust the notebook. <br />On GitHub, the HTML representation is unable to render, please try loading this page with nbviewer.org.</b></div><div class=\"sk-container\" hidden><div class=\"sk-item\"><div class=\"sk-estimator sk-toggleable\"><input class=\"sk-toggleable__control sk-hidden--visually\" id=\"sk-estimator-id-1\" type=\"checkbox\" checked><label for=\"sk-estimator-id-1\" class=\"sk-toggleable__label sk-toggleable__label-arrow\">LogisticRegression</label><div class=\"sk-toggleable__content\"><pre>LogisticRegression(max_iter=1000, solver=&#x27;saga&#x27;)</pre></div></div></div></div></div>"
      ],
      "text/plain": [
       "LogisticRegression(max_iter=1000, solver='saga')"
      ]
     },
     "execution_count": 16,
     "metadata": {},
     "output_type": "execute_result"
    }
   ],
   "source": [
    "# @title Model Training\n",
    "model = LogisticRegression(solver='saga', max_iter=1000, multi_class='auto')\n",
    "model.fit(x_train_cv, y_train_label)"
   ]
  },
  {
   "cell_type": "code",
   "execution_count": null,
   "metadata": {
    "colab": {
     "base_uri": "https://localhost:8080/",
     "height": 1000
    },
    "id": "3tp6SwROVXHH",
    "outputId": "433c3962-ceb6-4621-ef8d-a7f19ec21d9e"
   },
   "outputs": [
    {
     "name": "stdout",
     "output_type": "stream",
     "text": [
      "Dev Set Evaluation:\n",
      "              precision    recall  f1-score   support\n",
      "\n",
      "           0       0.42      0.16      0.23       139\n",
      "           1       0.40      0.55      0.46       289\n",
      "           2       0.29      0.16      0.21       229\n",
      "           3       0.36      0.54      0.43       279\n",
      "           4       0.43      0.26      0.32       165\n",
      "\n",
      "    accuracy                           0.37      1101\n",
      "   macro avg       0.38      0.33      0.33      1101\n",
      "weighted avg       0.37      0.37      0.35      1101\n",
      "\n"
     ]
    },
    {
     "data": {
      "image/png": "[encoded data removed]",
      "text/plain": [
       "<Figure size 1000x700 with 2 Axes>"
      ]
     },
     "metadata": {},
     "output_type": "display_data"
    },
    {
     "name": "stdout",
     "output_type": "stream",
     "text": [
      "Test Set Evaluation:\n",
      "              precision    recall  f1-score   support\n",
      "\n",
      "           0       0.42      0.15      0.22       279\n",
      "           1       0.45      0.58      0.51       633\n",
      "           2       0.24      0.15      0.19       389\n",
      "           3       0.36      0.62      0.45       510\n",
      "           4       0.59      0.27      0.37       399\n",
      "\n",
      "    accuracy                           0.40      2210\n",
      "   macro avg       0.41      0.35      0.35      2210\n",
      "weighted avg       0.41      0.40      0.38      2210\n",
      "\n"
     ]
    },
    {
     "data": {
      "image/png": "[encoded data removed]",
      "text/plain": [
       "<Figure size 1000x700 with 2 Axes>"
      ]
     },
     "metadata": {},
     "output_type": "display_data"
    }
   ],
   "source": [
    "# Evaluate on dev set\n",
    "y_dev_pred = model.predict(x_dev_cv)\n",
    "print(\"Dev Set Evaluation:\")\n",
    "print(classification_report(y_dev_label, y_dev_pred))\n",
    "plot_confusion_matrix(y_dev_label, y_dev_pred)\n",
    "\n",
    "# Evaluate on test set\n",
    "y_test_pred = model.predict(x_test_cv)\n",
    "print(\"Test Set Evaluation:\")\n",
    "print(classification_report(y_test_label, y_test_pred))\n",
    "plot_confusion_matrix(y_test_label, y_test_pred)"
   ]
  },
  {
   "cell_type": "markdown",
   "metadata": {
    "id": "IwhS38oPtKrw"
   },
   "source": [
    "### Logistic Regression with liblinear"
   ]
  },
  {
   "cell_type": "code",
   "execution_count": null,
   "metadata": {
    "colab": {
     "base_uri": "https://localhost:8080/",
     "height": 94
    },
    "id": "04LrGbxCdZll",
    "outputId": "8c27d09f-2530-4090-cacd-e25ec46fc12a"
   },
   "outputs": [
    {
     "data": {
      "text/html": [
       "<style>#sk-container-id-2 {color: black;background-color: white;}#sk-container-id-2 pre{padding: 0;}#sk-container-id-2 div.sk-toggleable {background-color: white;}#sk-container-id-2 label.sk-toggleable__label {cursor: pointer;display: block;width: 100%;margin-bottom: 0;padding: 0.3em;box-sizing: border-box;text-align: center;}#sk-container-id-2 label.sk-toggleable__label-arrow:before {content: \"▸\";float: left;margin-right: 0.25em;color: #696969;}#sk-container-id-2 label.sk-toggleable__label-arrow:hover:before {color: black;}#sk-container-id-2 div.sk-estimator:hover label.sk-toggleable__label-arrow:before {color: black;}#sk-container-id-2 div.sk-toggleable__content {max-height: 0;max-width: 0;overflow: hidden;text-align: left;background-color: #f0f8ff;}#sk-container-id-2 div.sk-toggleable__content pre {margin: 0.2em;color: black;border-radius: 0.25em;background-color: #f0f8ff;}#sk-container-id-2 input.sk-toggleable__control:checked~div.sk-toggleable__content {max-height: 200px;max-width: 100%;overflow: auto;}#sk-container-id-2 input.sk-toggleable__control:checked~label.sk-toggleable__label-arrow:before {content: \"▾\";}#sk-container-id-2 div.sk-estimator input.sk-toggleable__control:checked~label.sk-toggleable__label {background-color: #d4ebff;}#sk-container-id-2 div.sk-label input.sk-toggleable__control:checked~label.sk-toggleable__label {background-color: #d4ebff;}#sk-container-id-2 input.sk-hidden--visually {border: 0;clip: rect(1px 1px 1px 1px);clip: rect(1px, 1px, 1px, 1px);height: 1px;margin: -1px;overflow: hidden;padding: 0;position: absolute;width: 1px;}#sk-container-id-2 div.sk-estimator {font-family: monospace;background-color: #f0f8ff;border: 1px dotted black;border-radius: 0.25em;box-sizing: border-box;margin-bottom: 0.5em;}#sk-container-id-2 div.sk-estimator:hover {background-color: #d4ebff;}#sk-container-id-2 div.sk-parallel-item::after {content: \"\";width: 100%;border-bottom: 1px solid gray;flex-grow: 1;}#sk-container-id-2 div.sk-label:hover label.sk-toggleable__label {background-color: #d4ebff;}#sk-container-id-2 div.sk-serial::before {content: \"\";position: absolute;border-left: 1px solid gray;box-sizing: border-box;top: 0;bottom: 0;left: 50%;z-index: 0;}#sk-container-id-2 div.sk-serial {display: flex;flex-direction: column;align-items: center;background-color: white;padding-right: 0.2em;padding-left: 0.2em;position: relative;}#sk-container-id-2 div.sk-item {position: relative;z-index: 1;}#sk-container-id-2 div.sk-parallel {display: flex;align-items: stretch;justify-content: center;background-color: white;position: relative;}#sk-container-id-2 div.sk-item::before, #sk-container-id-2 div.sk-parallel-item::before {content: \"\";position: absolute;border-left: 1px solid gray;box-sizing: border-box;top: 0;bottom: 0;left: 50%;z-index: -1;}#sk-container-id-2 div.sk-parallel-item {display: flex;flex-direction: column;z-index: 1;position: relative;background-color: white;}#sk-container-id-2 div.sk-parallel-item:first-child::after {align-self: flex-end;width: 50%;}#sk-container-id-2 div.sk-parallel-item:last-child::after {align-self: flex-start;width: 50%;}#sk-container-id-2 div.sk-parallel-item:only-child::after {width: 0;}#sk-container-id-2 div.sk-dashed-wrapped {border: 1px dashed gray;margin: 0 0.4em 0.5em 0.4em;box-sizing: border-box;padding-bottom: 0.4em;background-color: white;}#sk-container-id-2 div.sk-label label {font-family: monospace;font-weight: bold;display: inline-block;line-height: 1.2em;}#sk-container-id-2 div.sk-label-container {text-align: center;}#sk-container-id-2 div.sk-container {/* jupyter's `normalize.less` sets `[hidden] { display: none; }` but bootstrap.min.css set `[hidden] { display: none !important; }` so we also need the `!important` here to be able to override the default hidden behavior on the sphinx rendered scikit-learn.org. See: https://github.com/scikit-learn/scikit-learn/issues/21755 */display: inline-block !important;position: relative;}#sk-container-id-2 div.sk-text-repr-fallback {display: none;}</style><div id=\"sk-container-id-2\" class=\"sk-top-container\"><div class=\"sk-text-repr-fallback\"><pre>LogisticRegression(max_iter=1000, solver=&#x27;liblinear&#x27;)</pre><b>In a Jupyter environment, please rerun this cell to show the HTML representation or trust the notebook. <br />On GitHub, the HTML representation is unable to render, please try loading this page with nbviewer.org.</b></div><div class=\"sk-container\" hidden><div class=\"sk-item\"><div class=\"sk-estimator sk-toggleable\"><input class=\"sk-toggleable__control sk-hidden--visually\" id=\"sk-estimator-id-2\" type=\"checkbox\" checked><label for=\"sk-estimator-id-2\" class=\"sk-toggleable__label sk-toggleable__label-arrow\">LogisticRegression</label><div class=\"sk-toggleable__content\"><pre>LogisticRegression(max_iter=1000, solver=&#x27;liblinear&#x27;)</pre></div></div></div></div></div>"
      ],
      "text/plain": [
       "LogisticRegression(max_iter=1000, solver='liblinear')"
      ]
     },
     "execution_count": 18,
     "metadata": {},
     "output_type": "execute_result"
    }
   ],
   "source": [
    "logistic_model = LogisticRegression(solver='liblinear', max_iter=1000, multi_class='auto')\n",
    "logistic_model.fit(x_train_cv, y_train_label)"
   ]
  },
  {
   "cell_type": "code",
   "execution_count": null,
   "metadata": {
    "colab": {
     "base_uri": "https://localhost:8080/",
     "height": 1000
    },
    "id": "npUFL0bCzuK9",
    "outputId": "fde28f0d-c3d3-4828-94d3-1473d31f9513"
   },
   "outputs": [
    {
     "name": "stdout",
     "output_type": "stream",
     "text": [
      "Logistic Regression (liblinear) - Dev Set Evaluation:\n",
      "              precision    recall  f1-score   support\n",
      "\n",
      "           0       0.41      0.14      0.21       139\n",
      "           1       0.39      0.56      0.46       289\n",
      "           2       0.28      0.13      0.17       229\n",
      "           3       0.36      0.57      0.44       279\n",
      "           4       0.42      0.23      0.30       165\n",
      "\n",
      "    accuracy                           0.37      1101\n",
      "   macro avg       0.37      0.33      0.32      1101\n",
      "weighted avg       0.37      0.37      0.34      1101\n",
      "\n"
     ]
    },
    {
     "data": {
      "image/png": "[encoded data removed]",
      "text/plain": [
       "<Figure size 1000x700 with 2 Axes>"
      ]
     },
     "metadata": {},
     "output_type": "display_data"
    },
    {
     "name": "stdout",
     "output_type": "stream",
     "text": [
      "Logistic Regression (liblinear) - Test Set Evaluation:\n",
      "              precision    recall  f1-score   support\n",
      "\n",
      "           0       0.44      0.12      0.19       279\n",
      "           1       0.45      0.60      0.51       633\n",
      "           2       0.24      0.13      0.17       389\n",
      "           3       0.36      0.64      0.46       510\n",
      "           4       0.59      0.25      0.35       399\n",
      "\n",
      "    accuracy                           0.40      2210\n",
      "   macro avg       0.42      0.35      0.33      2210\n",
      "weighted avg       0.41      0.40      0.37      2210\n",
      "\n"
     ]
    },
    {
     "data": {
      "image/png": "[encoded data removed]",
      "text/plain": [
       "<Figure size 1000x700 with 2 Axes>"
      ]
     },
     "metadata": {},
     "output_type": "display_data"
    }
   ],
   "source": [
    "# Evaluate on dev set\n",
    "y_dev_pred = logistic_model.predict(x_dev_cv)\n",
    "print(\"Logistic Regression (liblinear) - Dev Set Evaluation:\")\n",
    "print(classification_report(y_dev_label, y_dev_pred))\n",
    "plot_confusion_matrix(y_dev_label, y_dev_pred)\n",
    "\n",
    "# Evaluate on test set\n",
    "y_test_pred = logistic_model.predict(x_test_cv)\n",
    "print(\"Logistic Regression (liblinear) - Test Set Evaluation:\")\n",
    "print(classification_report(y_test_label, y_test_pred))\n",
    "plot_confusion_matrix(y_test_label, y_test_pred)"
   ]
  },
  {
   "cell_type": "markdown",
   "metadata": {},
   "source": [
    "### Random Forest"
   ]
  },
  {
   "cell_type": "code",
   "execution_count": null,
   "metadata": {
    "colab": {
     "base_uri": "https://localhost:8080/",
     "height": 94
    },
    "id": "OgUBpT0seQVA",
    "outputId": "f27066e1-a84c-42b9-9587-b82fadfcd3aa"
   },
   "outputs": [
    {
     "data": {
      "text/html": [
       "<style>#sk-container-id-3 {color: black;background-color: white;}#sk-container-id-3 pre{padding: 0;}#sk-container-id-3 div.sk-toggleable {background-color: white;}#sk-container-id-3 label.sk-toggleable__label {cursor: pointer;display: block;width: 100%;margin-bottom: 0;padding: 0.3em;box-sizing: border-box;text-align: center;}#sk-container-id-3 label.sk-toggleable__label-arrow:before {content: \"▸\";float: left;margin-right: 0.25em;color: #696969;}#sk-container-id-3 label.sk-toggleable__label-arrow:hover:before {color: black;}#sk-container-id-3 div.sk-estimator:hover label.sk-toggleable__label-arrow:before {color: black;}#sk-container-id-3 div.sk-toggleable__content {max-height: 0;max-width: 0;overflow: hidden;text-align: left;background-color: #f0f8ff;}#sk-container-id-3 div.sk-toggleable__content pre {margin: 0.2em;color: black;border-radius: 0.25em;background-color: #f0f8ff;}#sk-container-id-3 input.sk-toggleable__control:checked~div.sk-toggleable__content {max-height: 200px;max-width: 100%;overflow: auto;}#sk-container-id-3 input.sk-toggleable__control:checked~label.sk-toggleable__label-arrow:before {content: \"▾\";}#sk-container-id-3 div.sk-estimator input.sk-toggleable__control:checked~label.sk-toggleable__label {background-color: #d4ebff;}#sk-container-id-3 div.sk-label input.sk-toggleable__control:checked~label.sk-toggleable__label {background-color: #d4ebff;}#sk-container-id-3 input.sk-hidden--visually {border: 0;clip: rect(1px 1px 1px 1px);clip: rect(1px, 1px, 1px, 1px);height: 1px;margin: -1px;overflow: hidden;padding: 0;position: absolute;width: 1px;}#sk-container-id-3 div.sk-estimator {font-family: monospace;background-color: #f0f8ff;border: 1px dotted black;border-radius: 0.25em;box-sizing: border-box;margin-bottom: 0.5em;}#sk-container-id-3 div.sk-estimator:hover {background-color: #d4ebff;}#sk-container-id-3 div.sk-parallel-item::after {content: \"\";width: 100%;border-bottom: 1px solid gray;flex-grow: 1;}#sk-container-id-3 div.sk-label:hover label.sk-toggleable__label {background-color: #d4ebff;}#sk-container-id-3 div.sk-serial::before {content: \"\";position: absolute;border-left: 1px solid gray;box-sizing: border-box;top: 0;bottom: 0;left: 50%;z-index: 0;}#sk-container-id-3 div.sk-serial {display: flex;flex-direction: column;align-items: center;background-color: white;padding-right: 0.2em;padding-left: 0.2em;position: relative;}#sk-container-id-3 div.sk-item {position: relative;z-index: 1;}#sk-container-id-3 div.sk-parallel {display: flex;align-items: stretch;justify-content: center;background-color: white;position: relative;}#sk-container-id-3 div.sk-item::before, #sk-container-id-3 div.sk-parallel-item::before {content: \"\";position: absolute;border-left: 1px solid gray;box-sizing: border-box;top: 0;bottom: 0;left: 50%;z-index: -1;}#sk-container-id-3 div.sk-parallel-item {display: flex;flex-direction: column;z-index: 1;position: relative;background-color: white;}#sk-container-id-3 div.sk-parallel-item:first-child::after {align-self: flex-end;width: 50%;}#sk-container-id-3 div.sk-parallel-item:last-child::after {align-self: flex-start;width: 50%;}#sk-container-id-3 div.sk-parallel-item:only-child::after {width: 0;}#sk-container-id-3 div.sk-dashed-wrapped {border: 1px dashed gray;margin: 0 0.4em 0.5em 0.4em;box-sizing: border-box;padding-bottom: 0.4em;background-color: white;}#sk-container-id-3 div.sk-label label {font-family: monospace;font-weight: bold;display: inline-block;line-height: 1.2em;}#sk-container-id-3 div.sk-label-container {text-align: center;}#sk-container-id-3 div.sk-container {/* jupyter's `normalize.less` sets `[hidden] { display: none; }` but bootstrap.min.css set `[hidden] { display: none !important; }` so we also need the `!important` here to be able to override the default hidden behavior on the sphinx rendered scikit-learn.org. See: https://github.com/scikit-learn/scikit-learn/issues/21755 */display: inline-block !important;position: relative;}#sk-container-id-3 div.sk-text-repr-fallback {display: none;}</style><div id=\"sk-container-id-3\" class=\"sk-top-container\"><div class=\"sk-text-repr-fallback\"><pre>RandomForestClassifier(random_state=42)</pre><b>In a Jupyter environment, please rerun this cell to show the HTML representation or trust the notebook. <br />On GitHub, the HTML representation is unable to render, please try loading this page with nbviewer.org.</b></div><div class=\"sk-container\" hidden><div class=\"sk-item\"><div class=\"sk-estimator sk-toggleable\"><input class=\"sk-toggleable__control sk-hidden--visually\" id=\"sk-estimator-id-3\" type=\"checkbox\" checked><label for=\"sk-estimator-id-3\" class=\"sk-toggleable__label sk-toggleable__label-arrow\">RandomForestClassifier</label><div class=\"sk-toggleable__content\"><pre>RandomForestClassifier(random_state=42)</pre></div></div></div></div></div>"
      ],
      "text/plain": [
       "RandomForestClassifier(random_state=42)"
      ]
     },
     "execution_count": 20,
     "metadata": {},
     "output_type": "execute_result"
    }
   ],
   "source": [
    "from sklearn.ensemble import RandomForestClassifier\n",
    "\n",
    "rf_model = RandomForestClassifier(n_estimators=100, random_state=42)\n",
    "rf_model.fit(x_train_cv, y_train_label)"
   ]
  },
  {
   "cell_type": "code",
   "execution_count": null,
   "metadata": {
    "colab": {
     "base_uri": "https://localhost:8080/",
     "height": 1000
    },
    "id": "hfPcQo32zfjE",
    "outputId": "b0f0ef15-60c1-4da6-f6ca-3012117ca2ba"
   },
   "outputs": [
    {
     "name": "stdout",
     "output_type": "stream",
     "text": [
      "Random Forest Classifier - Dev Set Evaluation:\n",
      "              precision    recall  f1-score   support\n",
      "\n",
      "           0       0.32      0.15      0.21       139\n",
      "           1       0.34      0.46      0.39       289\n",
      "           2       0.31      0.21      0.25       229\n",
      "           3       0.36      0.51      0.42       279\n",
      "           4       0.37      0.21      0.26       165\n",
      "\n",
      "    accuracy                           0.34      1101\n",
      "   macro avg       0.34      0.31      0.31      1101\n",
      "weighted avg       0.34      0.34      0.33      1101\n",
      "\n"
     ]
    },
    {
     "data": {
      "image/png": "[encoded data removed]",
      "text/plain": [
       "<Figure size 1000x700 with 2 Axes>"
      ]
     },
     "metadata": {},
     "output_type": "display_data"
    },
    {
     "name": "stdout",
     "output_type": "stream",
     "text": [
      "Random Forest Classifier - Test Set Evaluation:\n",
      "              precision    recall  f1-score   support\n",
      "\n",
      "           0       0.30      0.11      0.16       279\n",
      "           1       0.40      0.53      0.46       633\n",
      "           2       0.27      0.24      0.25       389\n",
      "           3       0.33      0.49      0.40       510\n",
      "           4       0.49      0.22      0.30       399\n",
      "\n",
      "    accuracy                           0.36      2210\n",
      "   macro avg       0.36      0.32      0.31      2210\n",
      "weighted avg       0.37      0.36      0.34      2210\n",
      "\n"
     ]
    },
    {
     "data": {
      "image/png": "[encoded data removed]",
      "text/plain": [
       "<Figure size 1000x700 with 2 Axes>"
      ]
     },
     "metadata": {},
     "output_type": "display_data"
    }
   ],
   "source": [
    "# Evaluate on dev set\n",
    "y_dev_pred = rf_model.predict(x_dev_cv)\n",
    "print(\"Random Forest Classifier - Dev Set Evaluation:\")\n",
    "print(classification_report(y_dev_label, y_dev_pred))\n",
    "plot_confusion_matrix(y_dev_label, y_dev_pred)\n",
    "\n",
    "# Evaluate on test set\n",
    "y_test_pred = rf_model.predict(x_test_cv)\n",
    "print(\"Random Forest Classifier - Test Set Evaluation:\")\n",
    "print(classification_report(y_test_label, y_test_pred))\n",
    "plot_confusion_matrix(y_test_label, y_test_pred)"
   ]
  },
  {
   "cell_type": "markdown",
   "metadata": {
    "id": "fd_xLxtLte08"
   },
   "source": [
    "### Support Vector Machine (SVM)"
   ]
  },
  {
   "cell_type": "code",
   "execution_count": null,
   "metadata": {
    "colab": {
     "base_uri": "https://localhost:8080/",
     "height": 94
    },
    "id": "gFeyZqQStp9a",
    "outputId": "3e0b5d3e-2b35-4634-ef73-85d0a5bb765c"
   },
   "outputs": [
    {
     "data": {
      "text/html": [
       "<style>#sk-container-id-4 {color: black;background-color: white;}#sk-container-id-4 pre{padding: 0;}#sk-container-id-4 div.sk-toggleable {background-color: white;}#sk-container-id-4 label.sk-toggleable__label {cursor: pointer;display: block;width: 100%;margin-bottom: 0;padding: 0.3em;box-sizing: border-box;text-align: center;}#sk-container-id-4 label.sk-toggleable__label-arrow:before {content: \"▸\";float: left;margin-right: 0.25em;color: #696969;}#sk-container-id-4 label.sk-toggleable__label-arrow:hover:before {color: black;}#sk-container-id-4 div.sk-estimator:hover label.sk-toggleable__label-arrow:before {color: black;}#sk-container-id-4 div.sk-toggleable__content {max-height: 0;max-width: 0;overflow: hidden;text-align: left;background-color: #f0f8ff;}#sk-container-id-4 div.sk-toggleable__content pre {margin: 0.2em;color: black;border-radius: 0.25em;background-color: #f0f8ff;}#sk-container-id-4 input.sk-toggleable__control:checked~div.sk-toggleable__content {max-height: 200px;max-width: 100%;overflow: auto;}#sk-container-id-4 input.sk-toggleable__control:checked~label.sk-toggleable__label-arrow:before {content: \"▾\";}#sk-container-id-4 div.sk-estimator input.sk-toggleable__control:checked~label.sk-toggleable__label {background-color: #d4ebff;}#sk-container-id-4 div.sk-label input.sk-toggleable__control:checked~label.sk-toggleable__label {background-color: #d4ebff;}#sk-container-id-4 input.sk-hidden--visually {border: 0;clip: rect(1px 1px 1px 1px);clip: rect(1px, 1px, 1px, 1px);height: 1px;margin: -1px;overflow: hidden;padding: 0;position: absolute;width: 1px;}#sk-container-id-4 div.sk-estimator {font-family: monospace;background-color: #f0f8ff;border: 1px dotted black;border-radius: 0.25em;box-sizing: border-box;margin-bottom: 0.5em;}#sk-container-id-4 div.sk-estimator:hover {background-color: #d4ebff;}#sk-container-id-4 div.sk-parallel-item::after {content: \"\";width: 100%;border-bottom: 1px solid gray;flex-grow: 1;}#sk-container-id-4 div.sk-label:hover label.sk-toggleable__label {background-color: #d4ebff;}#sk-container-id-4 div.sk-serial::before {content: \"\";position: absolute;border-left: 1px solid gray;box-sizing: border-box;top: 0;bottom: 0;left: 50%;z-index: 0;}#sk-container-id-4 div.sk-serial {display: flex;flex-direction: column;align-items: center;background-color: white;padding-right: 0.2em;padding-left: 0.2em;position: relative;}#sk-container-id-4 div.sk-item {position: relative;z-index: 1;}#sk-container-id-4 div.sk-parallel {display: flex;align-items: stretch;justify-content: center;background-color: white;position: relative;}#sk-container-id-4 div.sk-item::before, #sk-container-id-4 div.sk-parallel-item::before {content: \"\";position: absolute;border-left: 1px solid gray;box-sizing: border-box;top: 0;bottom: 0;left: 50%;z-index: -1;}#sk-container-id-4 div.sk-parallel-item {display: flex;flex-direction: column;z-index: 1;position: relative;background-color: white;}#sk-container-id-4 div.sk-parallel-item:first-child::after {align-self: flex-end;width: 50%;}#sk-container-id-4 div.sk-parallel-item:last-child::after {align-self: flex-start;width: 50%;}#sk-container-id-4 div.sk-parallel-item:only-child::after {width: 0;}#sk-container-id-4 div.sk-dashed-wrapped {border: 1px dashed gray;margin: 0 0.4em 0.5em 0.4em;box-sizing: border-box;padding-bottom: 0.4em;background-color: white;}#sk-container-id-4 div.sk-label label {font-family: monospace;font-weight: bold;display: inline-block;line-height: 1.2em;}#sk-container-id-4 div.sk-label-container {text-align: center;}#sk-container-id-4 div.sk-container {/* jupyter's `normalize.less` sets `[hidden] { display: none; }` but bootstrap.min.css set `[hidden] { display: none !important; }` so we also need the `!important` here to be able to override the default hidden behavior on the sphinx rendered scikit-learn.org. See: https://github.com/scikit-learn/scikit-learn/issues/21755 */display: inline-block !important;position: relative;}#sk-container-id-4 div.sk-text-repr-fallback {display: none;}</style><div id=\"sk-container-id-4\" class=\"sk-top-container\"><div class=\"sk-text-repr-fallback\"><pre>SVC(kernel=&#x27;linear&#x27;, max_iter=10000)</pre><b>In a Jupyter environment, please rerun this cell to show the HTML representation or trust the notebook. <br />On GitHub, the HTML representation is unable to render, please try loading this page with nbviewer.org.</b></div><div class=\"sk-container\" hidden><div class=\"sk-item\"><div class=\"sk-estimator sk-toggleable\"><input class=\"sk-toggleable__control sk-hidden--visually\" id=\"sk-estimator-id-4\" type=\"checkbox\" checked><label for=\"sk-estimator-id-4\" class=\"sk-toggleable__label sk-toggleable__label-arrow\">SVC</label><div class=\"sk-toggleable__content\"><pre>SVC(kernel=&#x27;linear&#x27;, max_iter=10000)</pre></div></div></div></div></div>"
      ],
      "text/plain": [
       "SVC(kernel='linear', max_iter=10000)"
      ]
     },
     "execution_count": 22,
     "metadata": {},
     "output_type": "execute_result"
    }
   ],
   "source": [
    "svm_model = SVC(kernel=\"linear\", max_iter=10000)\n",
    "svm_model.fit(x_train_cv, y_train_label)"
   ]
  },
  {
   "cell_type": "code",
   "execution_count": null,
   "metadata": {
    "colab": {
     "base_uri": "https://localhost:8080/",
     "height": 1000
    },
    "id": "40GVgdxXy-_H",
    "outputId": "51a1dfc6-bc6f-4762-ff99-982b64683e16"
   },
   "outputs": [
    {
     "name": "stdout",
     "output_type": "stream",
     "text": [
      "Dev Set Evaluation:\n",
      "              precision    recall  f1-score   support\n",
      "\n",
      "           0       0.41      0.21      0.28       139\n",
      "           1       0.39      0.53      0.45       289\n",
      "           2       0.31      0.19      0.23       229\n",
      "           3       0.37      0.53      0.44       279\n",
      "           4       0.46      0.27      0.34       165\n",
      "\n",
      "    accuracy                           0.38      1101\n",
      "   macro avg       0.39      0.35      0.35      1101\n",
      "weighted avg       0.38      0.38      0.36      1101\n",
      "\n"
     ]
    },
    {
     "data": {
      "image/png": "[encoded data removed]",
      "text/plain": [
       "<Figure size 1000x700 with 2 Axes>"
      ]
     },
     "metadata": {},
     "output_type": "display_data"
    },
    {
     "name": "stdout",
     "output_type": "stream",
     "text": [
      "test Set Evaluation:\n",
      "              precision    recall  f1-score   support\n",
      "\n",
      "           0       0.36      0.17      0.23       279\n",
      "           1       0.44      0.58      0.50       633\n",
      "           2       0.22      0.15      0.17       389\n",
      "           3       0.37      0.58      0.45       510\n",
      "           4       0.62      0.29      0.39       399\n",
      "\n",
      "    accuracy                           0.40      2210\n",
      "   macro avg       0.40      0.35      0.35      2210\n",
      "weighted avg       0.41      0.40      0.38      2210\n",
      "\n"
     ]
    },
    {
     "data": {
      "image/png": "[encoded data removed]",
      "text/plain": [
       "<Figure size 1000x700 with 2 Axes>"
      ]
     },
     "metadata": {},
     "output_type": "display_data"
    }
   ],
   "source": [
    "y_dev_pred = svm_model.predict(x_dev_cv)\n",
    "print(\"Dev Set Evaluation:\")\n",
    "print(classification_report(y_dev_label, y_dev_pred))\n",
    "\n",
    "plot_confusion_matrix(y_dev_label, y_dev_pred)\n",
    "\n",
    "y_test_pred = svm_model.predict(x_test_cv)\n",
    "print(\"test Set Evaluation:\")\n",
    "print(classification_report(y_test_label, y_test_pred))\n",
    "\n",
    "plot_confusion_matrix(y_test_label, y_test_pred)"
   ]
  },
  {
   "cell_type": "markdown",
   "metadata": {
    "id": "dr4J6fpa0S5M"
   },
   "source": [
    "## Modern Deep Learning Models"
   ]
  },
  {
   "cell_type": "code",
   "execution_count": null,
   "metadata": {
    "colab": {
     "base_uri": "https://localhost:8080/",
     "height": 1000
    },
    "id": "9ZP2D6Rc0ah7",
    "outputId": "497f7abd-cf5b-4f0d-9c2b-cc775ee48da7"
   },
   "outputs": [
    {
     "name": "stdout",
     "output_type": "stream",
     "text": [
      "Epoch 1/100, Loss: 1.5756630897521973, Accuracy: 0.2646301498127341, Learning Rate: 0.1\n",
      "Epoch 2/100, Loss: 1.647628903388977, Accuracy: 0.270248127340824, Learning Rate: 0.1\n",
      "Epoch 3/100, Loss: 1.5465013980865479, Accuracy: 0.27879213483146065, Learning Rate: 0.1\n",
      "Epoch 4/100, Loss: 1.5863398313522339, Accuracy: 0.289559925093633, Learning Rate: 0.1\n",
      "Epoch 5/100, Loss: 1.5093873739242554, Accuracy: 0.30489232209737827, Learning Rate: 0.1\n",
      "Epoch 6/100, Loss: 1.5520654916763306, Accuracy: 0.32572565543071164, Learning Rate: 0.1\n",
      "Epoch 7/100, Loss: 1.6217666864395142, Accuracy: 0.32420411985018727, Learning Rate: 0.1\n",
      "Epoch 8/100, Loss: 1.508515477180481, Accuracy: 0.35428370786516855, Learning Rate: 0.1\n",
      "Epoch 9/100, Loss: 1.526269793510437, Accuracy: 0.38295880149812733, Learning Rate: 0.1\n",
      "Epoch 10/100, Loss: 1.5504510402679443, Accuracy: 0.3916198501872659, Learning Rate: 0.1\n",
      "Epoch 11/100, Loss: 1.40017831325531, Accuracy: 0.39957865168539325, Learning Rate: 0.1\n",
      "Epoch 12/100, Loss: 1.37284517288208, Accuracy: 0.40730337078651685, Learning Rate: 0.1\n",
      "Epoch 13/100, Loss: 1.3473578691482544, Accuracy: 0.4157303370786517, Learning Rate: 0.1\n",
      "Epoch 14/100, Loss: 1.3518741130828857, Accuracy: 0.42146535580524347, Learning Rate: 0.1\n",
      "Epoch 15/100, Loss: 1.3366522789001465, Accuracy: 0.4345739700374532, Learning Rate: 0.1\n",
      "Epoch 16/100, Loss: 1.319098711013794, Accuracy: 0.44452247191011235, Learning Rate: 0.1\n",
      "Epoch 17/100, Loss: 1.1367835998535156, Accuracy: 0.46289794007490637, Learning Rate: 0.1\n",
      "Epoch 18/100, Loss: 1.2781553268432617, Accuracy: 0.48197565543071164, Learning Rate: 0.1\n",
      "Epoch 19/100, Loss: 1.0853205919265747, Accuracy: 0.511938202247191, Learning Rate: 0.1\n",
      "Epoch 20/100, Loss: 1.154451847076416, Accuracy: 0.5283239700374532, Learning Rate: 0.1\n",
      "Epoch 21/100, Loss: 1.0790828466415405, Accuracy: 0.5550093632958801, Learning Rate: 0.1\n",
      "Epoch 22/100, Loss: 0.9425283670425415, Accuracy: 0.5780664794007491, Learning Rate: 0.1\n",
      "Epoch 23/100, Loss: 0.9705748558044434, Accuracy: 0.605688202247191, Learning Rate: 0.1\n",
      "Epoch 24/100, Loss: 0.9924707412719727, Accuracy: 0.6234784644194756, Learning Rate: 0.1\n",
      "Epoch 25/100, Loss: 0.8632727265357971, Accuracy: 0.6438436329588015, Learning Rate: 0.1\n",
      "Epoch 26/100, Loss: 0.937483549118042, Accuracy: 0.6585908239700374, Learning Rate: 0.1\n",
      "Epoch 27/100, Loss: 0.7713732719421387, Accuracy: 0.6705290262172284, Learning Rate: 0.1\n",
      "Epoch 28/100, Loss: 1.0077496767044067, Accuracy: 0.690191947565543, Learning Rate: 0.1\n",
      "Epoch 29/100, Loss: 0.971410870552063, Accuracy: 0.7014279026217228, Learning Rate: 0.1\n",
      "Epoch 30/100, Loss: 0.8944652080535889, Accuracy: 0.7124297752808989, Learning Rate: 0.010000000000000002\n",
      "Epoch 31/100, Loss: 0.7817697525024414, Accuracy: 0.7570224719101124, Learning Rate: 0.010000000000000002\n",
      "Epoch 32/100, Loss: 0.7917104959487915, Accuracy: 0.759246254681648, Learning Rate: 0.010000000000000002\n",
      "Epoch 33/100, Loss: 0.8244577050209045, Accuracy: 0.7599485018726592, Learning Rate: 0.010000000000000002\n",
      "Epoch 34/100, Loss: 0.8614922761917114, Accuracy: 0.7626404494382022, Learning Rate: 0.010000000000000002\n",
      "Epoch 35/100, Loss: 0.8835287094116211, Accuracy: 0.7641619850187266, Learning Rate: 0.010000000000000002\n",
      "Epoch 36/100, Loss: 0.6587241291999817, Accuracy: 0.764630149812734, Learning Rate: 0.010000000000000002\n",
      "Epoch 37/100, Loss: 0.7053027153015137, Accuracy: 0.7680243445692884, Learning Rate: 0.010000000000000002\n",
      "Epoch 38/100, Loss: 0.5457077026367188, Accuracy: 0.7709503745318352, Learning Rate: 0.010000000000000002\n",
      "Epoch 39/100, Loss: 0.8296182751655579, Accuracy: 0.7668539325842697, Learning Rate: 0.010000000000000002\n",
      "Epoch 40/100, Loss: 0.6901286840438843, Accuracy: 0.7684925093632958, Learning Rate: 0.010000000000000002\n",
      "Epoch 41/100, Loss: 0.8495202660560608, Accuracy: 0.7708333333333334, Learning Rate: 0.010000000000000002\n",
      "Epoch 42/100, Loss: 0.6338015794754028, Accuracy: 0.7724719101123596, Learning Rate: 0.010000000000000002\n",
      "Epoch 43/100, Loss: 0.7140182852745056, Accuracy: 0.7721207865168539, Learning Rate: 0.010000000000000002\n",
      "Epoch 44/100, Loss: 0.6768360733985901, Accuracy: 0.7772705992509363, Learning Rate: 0.010000000000000002\n",
      "Epoch 45/100, Loss: 0.6347646713256836, Accuracy: 0.7753979400749064, Learning Rate: 0.010000000000000002\n",
      "Epoch 46/100, Loss: 0.6486033201217651, Accuracy: 0.7789091760299626, Learning Rate: 0.010000000000000002\n",
      "Epoch 47/100, Loss: 0.7191596031188965, Accuracy: 0.7811329588014981, Learning Rate: 0.010000000000000002\n",
      "Epoch 48/100, Loss: 0.6998374462127686, Accuracy: 0.7804307116104869, Learning Rate: 0.010000000000000002\n",
      "Epoch 49/100, Loss: 0.850062370300293, Accuracy: 0.7817181647940075, Learning Rate: 0.010000000000000002\n",
      "Epoch 50/100, Loss: 0.7090306282043457, Accuracy: 0.7844101123595506, Learning Rate: 0.010000000000000002\n",
      "Epoch 51/100, Loss: 0.7622905373573303, Accuracy: 0.7824204119850188, Learning Rate: 0.010000000000000002\n",
      "Epoch 52/100, Loss: 0.6548810005187988, Accuracy: 0.7868679775280899, Learning Rate: 0.010000000000000002\n",
      "Epoch 53/100, Loss: 0.6095438003540039, Accuracy: 0.7845271535580525, Learning Rate: 0.010000000000000002\n",
      "Epoch 54/100, Loss: 0.7958317399024963, Accuracy: 0.7869850187265918, Learning Rate: 0.010000000000000002\n",
      "Epoch 55/100, Loss: 0.777194619178772, Accuracy: 0.7894428838951311, Learning Rate: 0.010000000000000002\n",
      "Epoch 56/100, Loss: 0.6498320698738098, Accuracy: 0.7860486891385767, Learning Rate: 0.010000000000000002\n",
      "Epoch 57/100, Loss: 0.759636640548706, Accuracy: 0.7888576779026217, Learning Rate: 0.010000000000000002\n",
      "Epoch 58/100, Loss: 0.6069428324699402, Accuracy: 0.7919007490636704, Learning Rate: 0.010000000000000002\n",
      "Epoch 59/100, Loss: 0.5787148475646973, Accuracy: 0.7942415730337079, Learning Rate: 0.010000000000000002\n",
      "Epoch 60/100, Loss: 0.702464759349823, Accuracy: 0.7948267790262172, Learning Rate: 0.0010000000000000002\n",
      "Epoch 61/100, Loss: 0.8570787906646729, Accuracy: 0.795060861423221, Learning Rate: 0.0010000000000000002\n",
      "Epoch 62/100, Loss: 0.6321315169334412, Accuracy: 0.7988061797752809, Learning Rate: 0.0010000000000000002\n",
      "Epoch 63/100, Loss: 0.6715036034584045, Accuracy: 0.8000936329588015, Learning Rate: 0.0010000000000000002\n",
      "Epoch 64/100, Loss: 0.7591009736061096, Accuracy: 0.799625468164794, Learning Rate: 0.0010000000000000002\n",
      "Epoch 65/100, Loss: 0.5341037511825562, Accuracy: 0.7991573033707865, Learning Rate: 0.0010000000000000002\n",
      "Epoch 66/100, Loss: 0.7683707475662231, Accuracy: 0.8002106741573034, Learning Rate: 0.0010000000000000002\n",
      "Epoch 67/100, Loss: 0.5454629063606262, Accuracy: 0.7997425093632958, Learning Rate: 0.0010000000000000002\n",
      "Epoch 68/100, Loss: 0.823203444480896, Accuracy: 0.7997425093632958, Learning Rate: 0.0010000000000000002\n",
      "Epoch 69/100, Loss: 0.5028031468391418, Accuracy: 0.7997425093632958, Learning Rate: 0.0010000000000000002\n",
      "Epoch 70/100, Loss: 0.556192934513092, Accuracy: 0.8003277153558053, Learning Rate: 0.0010000000000000002\n",
      "Epoch 71/100, Loss: 0.8207283616065979, Accuracy: 0.8007958801498127, Learning Rate: 0.0010000000000000002\n",
      "Epoch 72/100, Loss: 0.7307815551757812, Accuracy: 0.8013810861423221, Learning Rate: 0.0010000000000000002\n",
      "Epoch 73/100, Loss: 0.6371226906776428, Accuracy: 0.8000936329588015, Learning Rate: 0.0010000000000000002\n",
      "Epoch 74/100, Loss: 0.6903485059738159, Accuracy: 0.8004447565543071, Learning Rate: 0.0010000000000000002\n",
      "Epoch 75/100, Loss: 0.7390025854110718, Accuracy: 0.8010299625468165, Learning Rate: 0.0010000000000000002\n",
      "Epoch 76/100, Loss: 0.5704695582389832, Accuracy: 0.800561797752809, Learning Rate: 0.0010000000000000002\n",
      "Epoch 77/100, Loss: 0.6274849772453308, Accuracy: 0.8018492509363296, Learning Rate: 0.0010000000000000002\n",
      "Epoch 78/100, Loss: 0.5139806866645813, Accuracy: 0.800561797752809, Learning Rate: 0.0010000000000000002\n",
      "Epoch 79/100, Loss: 0.6745141744613647, Accuracy: 0.8012640449438202, Learning Rate: 0.0010000000000000002\n",
      "Epoch 80/100, Loss: 0.7025181651115417, Accuracy: 0.8017322097378277, Learning Rate: 0.0010000000000000002\n",
      "Epoch 81/100, Loss: 0.6782748103141785, Accuracy: 0.8007958801498127, Learning Rate: 0.0010000000000000002\n",
      "Epoch 82/100, Loss: 0.7061194181442261, Accuracy: 0.8016151685393258, Learning Rate: 0.0010000000000000002\n",
      "Epoch 83/100, Loss: 0.6974669098854065, Accuracy: 0.8011470037453183, Learning Rate: 0.0010000000000000002\n",
      "Epoch 84/100, Loss: 0.5969020128250122, Accuracy: 0.8019662921348315, Learning Rate: 0.0010000000000000002\n",
      "Epoch 85/100, Loss: 0.798985481262207, Accuracy: 0.8019662921348315, Learning Rate: 0.0010000000000000002\n",
      "Epoch 86/100, Loss: 0.6918226480484009, Accuracy: 0.8026685393258427, Learning Rate: 0.0010000000000000002\n",
      "Epoch 87/100, Loss: 0.6674548387527466, Accuracy: 0.8020833333333334, Learning Rate: 0.0010000000000000002\n",
      "Epoch 88/100, Loss: 0.6646982431411743, Accuracy: 0.8026685393258427, Learning Rate: 0.0010000000000000002\n",
      "Epoch 89/100, Loss: 0.6765203475952148, Accuracy: 0.8016151685393258, Learning Rate: 0.0010000000000000002\n",
      "Epoch 90/100, Loss: 0.7842584848403931, Accuracy: 0.8016151685393258, Learning Rate: 0.00010000000000000003\n",
      "Epoch 91/100, Loss: 0.5875683426856995, Accuracy: 0.8025514981273408, Learning Rate: 0.00010000000000000003\n",
      "Epoch 92/100, Loss: 0.5758183598518372, Accuracy: 0.8026685393258427, Learning Rate: 0.00010000000000000003\n",
      "Epoch 93/100, Loss: 0.503670871257782, Accuracy: 0.8026685393258427, Learning Rate: 0.00010000000000000003\n",
      "Epoch 94/100, Loss: 0.6199447512626648, Accuracy: 0.8030196629213483, Learning Rate: 0.00010000000000000003\n",
      "Epoch 95/100, Loss: 0.7029610276222229, Accuracy: 0.8026685393258427, Learning Rate: 0.00010000000000000003\n",
      "Epoch 96/100, Loss: 0.8854034543037415, Accuracy: 0.8030196629213483, Learning Rate: 0.00010000000000000003\n",
      "Epoch 97/100, Loss: 0.757680356502533, Accuracy: 0.803253745318352, Learning Rate: 0.00010000000000000003\n",
      "Epoch 98/100, Loss: 0.6410335302352905, Accuracy: 0.8027855805243446, Learning Rate: 0.00010000000000000003\n",
      "Epoch 99/100, Loss: 0.6234193444252014, Accuracy: 0.8031367041198502, Learning Rate: 0.00010000000000000003\n",
      "Epoch 100/100, Loss: 0.7348290085792542, Accuracy: 0.803253745318352, Learning Rate: 0.00010000000000000003\n"
     ]
    },
    {
     "data": {
      "image/png": "[encoded data removed]",
      "text/plain": [
       "<Figure size 800x550 with 1 Axes>"
      ]
     },
     "metadata": {},
     "output_type": "display_data"
    },
    {
     "name": "stdout",
     "output_type": "stream",
     "text": [
      "              precision    recall  f1-score   support\n",
      "\n",
      "           0       0.36      0.26      0.30       279\n",
      "           1       0.47      0.50      0.48       633\n",
      "           2       0.25      0.23      0.24       389\n",
      "           3       0.37      0.50      0.42       510\n",
      "           4       0.53      0.39      0.45       399\n",
      "\n",
      "    accuracy                           0.40      2210\n",
      "   macro avg       0.40      0.37      0.38      2210\n",
      "weighted avg       0.40      0.40      0.40      2210\n",
      "\n"
     ]
    }
   ],
   "source": [
    "class NeuralNetwork(nn.Module):\n",
    "    def __init__(self, input_size, hidden_size, num_classes):\n",
    "        super(NeuralNetwork, self).__init__()\n",
    "        self.fc1 = nn.Linear(input_size, hidden_size)\n",
    "        self.relu = nn.ReLU()\n",
    "        self.fc2 = nn.Linear(hidden_size, num_classes)\n",
    "\n",
    "    def forward(self, x):\n",
    "        out = self.fc1(x)\n",
    "        out = self.relu(out)\n",
    "        out = self.fc2(out)\n",
    "        return out\n",
    "\n",
    "# Assume x_train_cv, y_train_label, x_test_cv, and y_test_label are predefined\n",
    "input_size = x_train_cv.shape[1]\n",
    "hidden_size = 100\n",
    "num_classes = 5\n",
    "learning_rate = 0.1\n",
    "batch_size = 32\n",
    "num_epochs = 100\n",
    "\n",
    "# Convert data to tensors\n",
    "x_train_tensor = torch.Tensor(x_train_cv.toarray())\n",
    "y_train_tensor = torch.Tensor(y_train_label).long()\n",
    "\n",
    "# Create dataset and dataloader\n",
    "train_dataset = TensorDataset(x_train_tensor, y_train_tensor)\n",
    "train_loader = DataLoader(train_dataset, batch_size=batch_size, shuffle=True)\n",
    "\n",
    "# Initialize the model, loss function, optimizer, and learning rate scheduler\n",
    "model = NeuralNetwork(input_size, hidden_size, num_classes)\n",
    "criterion = nn.CrossEntropyLoss()\n",
    "optimizer = optim.SGD(model.parameters(), lr=learning_rate)\n",
    "scheduler = optim.lr_scheduler.StepLR(optimizer, step_size=30, gamma=0.1)\n",
    "\n",
    "# Train the model\n",
    "accuracy_values = []\n",
    "\n",
    "for epoch in range(num_epochs):\n",
    "    total_samples = 0\n",
    "    correct_predictions = 0\n",
    "\n",
    "    for inputs, labels in train_loader:\n",
    "        inputs = inputs.float()\n",
    "        labels = labels.squeeze().long()\n",
    "\n",
    "        outputs = model(inputs)\n",
    "\n",
    "        loss = criterion(outputs, labels)\n",
    "\n",
    "        optimizer.zero_grad()\n",
    "        loss.backward()\n",
    "        optimizer.step()\n",
    "\n",
    "        _, predicted = torch.max(outputs.data, 1)\n",
    "        total_samples += labels.size(0)\n",
    "        correct_predictions += (predicted == labels).sum().item()\n",
    "\n",
    "    accuracy = correct_predictions / total_samples\n",
    "    accuracy_values.append(accuracy)\n",
    "\n",
    "    scheduler.step()  # Adjust the learning rate based on the scheduler\n",
    "\n",
    "    print(f\"Epoch {epoch+1}/{num_epochs}, Loss: {loss.item()}, Accuracy: {accuracy}, Learning Rate: {scheduler.get_last_lr()[0]}\")\n",
    "\n",
    "# Plot the training accuracy\n",
    "plt.plot(range(1, num_epochs + 1), accuracy_values)\n",
    "plt.xlabel('Epoch')\n",
    "plt.ylabel('Accuracy')\n",
    "plt.title('Training Accuracy')\n",
    "plt.show()\n",
    "\n",
    "# Test the model\n",
    "x_test_tensor = torch.Tensor(x_test_cv.toarray())\n",
    "y_test_tensor = torch.Tensor(y_test_label).long()\n",
    "\n",
    "with torch.no_grad():\n",
    "    x_test_tensor = x_test_tensor.float()\n",
    "    outputs = model(x_test_tensor)\n",
    "    _, predicted = torch.max(outputs.data, 1)\n",
    "\n",
    "print(classification_report(y_test_label, predicted))\n"
   ]
  },
  {
   "cell_type": "markdown",
   "metadata": {
    "id": "eKDq340f-9xM"
   },
   "source": [
    "## Testing flair with different embedings"
   ]
  },
  {
   "cell_type": "code",
   "execution_count": null,
   "metadata": {
    "id": "tRWBat3z_Ck8"
   },
   "outputs": [],
   "source": [
    "!pip install flair --quiet"
   ]
  },
  {
   "cell_type": "code",
   "execution_count": null,
   "metadata": {
    "id": "zqG82uZRGiuJ"
   },
   "outputs": [],
   "source": [
    "import flair\n",
    "from flair.data import Sentence\n",
    "from flair.embeddings import ELMoEmbeddings, DocumentPoolEmbeddings\n",
    "from flair.models import TextClassifier\n",
    "from flair.trainers import ModelTrainer\n",
    "from flair.datasets import CSVClassificationCorpus"
   ]
  },
  {
   "cell_type": "code",
   "execution_count": null,
   "metadata": {
    "id": "8Acp-KHUPBTC"
   },
   "outputs": [],
   "source": [
    "!pip install allennlp==0.9.0"
   ]
  },
  {
   "cell_type": "code",
   "execution_count": null,
   "metadata": {
    "id": "4-XmHj8sL0EH"
   },
   "outputs": [],
   "source": [
    "df_train[['text', 'label']].to_csv('/content/train_flair.csv', index=False, header=False)\n",
    "df_dev[['text', 'label']].to_csv('/content/dev_flair.csv', index=False, header=False)\n",
    "df_test[['text', 'label']].to_csv('/content/test_flair.csv', index=False, header=False)\n",
    "\n",
    "columns = {0: 'text', 1: 'label'}\n",
    "\n",
    "corpus = CSVClassificationCorpus(data_folder=\"/content\", train_file='train_flair.csv',\n",
    "                                 test_file='test_flair.csv', dev_file='dev_flair.csv',\n",
    "                                 column_name_map=columns, delimiter=',',\n",
    "                                 skip_header=False, label_type='label')\n",
    "\n",
    "label_dict = corpus.make_label_dictionary(label_type='label')\n",
    "\n",
    "embedding_types = [ELMoEmbeddings('original')]\n",
    "\n",
    "document_embeddings = DocumentPoolEmbeddings(embedding_types)\n",
    "\n",
    "classifier = TextClassifier(document_embeddings, label_dictionary=label_dict, label_type='label')\n",
    "\n",
    "trainer = ModelTrainer(classifier, corpus)\n",
    "\n",
    "trainer.train(base_path='flair_model', learning_rate=0.1,\n",
    "              mini_batch_size=32, max_epochs=10)\n"
   ]
  },
  {
   "cell_type": "code",
   "execution_count": null,
   "metadata": {
    "id": "K5YKgVqeusTl"
   },
   "outputs": [],
   "source": [
    "# Load the best model\n",
    "classifier = TextClassifier.load('flair_model/final-model.pt')\n",
    "\n",
    "# Evaluate on test set\n",
    "result = classifier.evaluate(corpus.test)\n",
    "print(result.detailed_results)"
   ]
  },
  {
   "cell_type": "markdown",
   "metadata": {
    "id": "um6KwkbXOjRk"
   },
   "source": [
    "## Recurrent Neural Network (RNN)"
   ]
  },
  {
   "cell_type": "code",
   "execution_count": null,
   "metadata": {
    "colab": {
     "base_uri": "https://localhost:8080/"
    },
    "id": "gG7qsKFOOqYQ",
    "outputId": "0563c96d-f412-45ea-9185-471d7bb20091"
   },
   "outputs": [
    {
     "name": "stdout",
     "output_type": "stream",
     "text": [
      "GPU is enabled in this notebook.\n"
     ]
    }
   ],
   "source": [
    "def set_device():\n",
    "  device = \"cuda\" if torch.cuda.is_available() else \"cpu\"\n",
    "  if device != \"cuda\":\n",
    "    print(\"WARNING: For this notebook to perform best, \"\n",
    "          \"if possible, in the menu under `Runtime` -> \"\n",
    "          \"`Change runtime type.`  select `GPU` \")\n",
    "  else:\n",
    "    print(\"GPU is enabled in this notebook.\")\n",
    "\n",
    "  return device\n",
    "# Set the device (check if gpu is available)\n",
    "device = set_device()"
   ]
  },
  {
   "cell_type": "code",
   "execution_count": null,
   "metadata": {
    "colab": {
     "base_uri": "https://localhost:8080/"
    },
    "id": "OY_IzU9jO6Zz",
    "outputId": "6bf2b735-7a4b-42d2-85ad-16d4c5a73bde"
   },
   "outputs": [
    {
     "data": {
      "text/plain": [
       "['film', 'but', 'have', 'movie', 'you', 'do', 'not', 'make', 'be', 'like']"
      ]
     },
     "execution_count": 35,
     "metadata": {},
     "output_type": "execute_result"
    }
   ],
   "source": [
    "sorted_words[:10]"
   ]
  },
  {
   "cell_type": "code",
   "execution_count": null,
   "metadata": {
    "id": "hQFNHjAQREly"
   },
   "outputs": [],
   "source": [
    "num_words_dict = 30000\n",
    "# We reserve two numbers for special tokens.\n",
    "most_used_words = sorted_words[:num_words_dict-2]"
   ]
  },
  {
   "cell_type": "code",
   "execution_count": null,
   "metadata": {
    "id": "XLXgdfD2RG3T"
   },
   "outputs": [],
   "source": [
    "# dictionary to go from words to idx\n",
    "word_to_idx = {}\n",
    "# dictionary to go from idx to words (just in case)\n",
    "idx_to_word = {}\n",
    "\n",
    "\n",
    "# We include the special tokens first\n",
    "PAD_token = 0\n",
    "UNK_token = 1\n",
    "\n",
    "word_to_idx['PAD'] = PAD_token\n",
    "word_to_idx['UNK'] = UNK_token\n",
    "\n",
    "idx_to_word[PAD_token] = 'PAD'\n",
    "idx_to_word[UNK_token] = 'UNK'\n",
    "\n",
    "# We popullate our dictionaries with the most used words\n",
    "for num,word in enumerate(most_used_words):\n",
    "  word_to_idx[word] = num + 2\n",
    "  idx_to_word[num+2] = word"
   ]
  },
  {
   "cell_type": "code",
   "execution_count": null,
   "metadata": {
    "colab": {
     "base_uri": "https://localhost:8080/"
    },
    "id": "bAm8GjJvRKJT",
    "outputId": "5d16b150-d0f7-4ea2-e0a2-72475b1ee500"
   },
   "outputs": [
    {
     "name": "stdout",
     "output_type": "stream",
     "text": [
      "Before converting:  ['campanella', 'get', 'tone', 'just', 'right', 'funny', 'middle', 'sad', 'middle', 'hopeful']\n",
      "After converting:  [4429, 43, 375, 31, 208, 58, 761, 507, 761, 2000]\n"
     ]
    }
   ],
   "source": [
    "# A function to convert list of tokens to list of indexes\n",
    "def tokens_to_idx(sentences_tokens,word_to_idx):\n",
    "  sentences_idx = []\n",
    "  for sent in sentences_tokens:\n",
    "    sent_idx = []\n",
    "    for word in sent:\n",
    "      if word in word_to_idx:\n",
    "        sent_idx.append(word_to_idx[word])\n",
    "      else:\n",
    "        sent_idx.append(word_to_idx['UNK'])\n",
    "    sentences_idx.append(sent_idx)\n",
    "  return sentences_idx\n",
    "x_train_idx = tokens_to_idx(x_train_token,word_to_idx)\n",
    "x_test_idx = tokens_to_idx(x_test_token,word_to_idx)\n",
    "some_number = 7\n",
    "print('Before converting: ', x_train_token[some_number])\n",
    "print('After converting: ', x_train_idx[some_number])"
   ]
  },
  {
   "cell_type": "code",
   "execution_count": null,
   "metadata": {
    "colab": {
     "base_uri": "https://localhost:8080/"
    },
    "id": "usrsOHk5RQeq",
    "outputId": "b04938c9-1e17-4a2e-d735-5dd76d5c03e4"
   },
   "outputs": [
    {
     "name": "stdout",
     "output_type": "stream",
     "text": [
      "Max movie review length:  38\n",
      "Mean movie review length:  11.0\n",
      "99% percent under:  28.0\n"
     ]
    }
   ],
   "source": [
    "movie_reviews_lens = np.asarray([len(sentence) for sentence in x_train_idx])\n",
    "print('Max movie review length: ',movie_reviews_lens.max())\n",
    "print('Mean movie review length: ',np.median(movie_reviews_lens))\n",
    "print('99% percent under: ',np.quantile(movie_reviews_lens,0.99))"
   ]
  },
  {
   "cell_type": "code",
   "execution_count": null,
   "metadata": {
    "id": "vQNtF9RMSrOm"
   },
   "outputs": [],
   "source": [
    " # We choose the max length\n",
    " max__length = 30"
   ]
  },
  {
   "cell_type": "code",
   "execution_count": null,
   "metadata": {
    "id": "I15wQmzGRnPt"
   },
   "outputs": [],
   "source": [
    "# A function to make all the sequence have the same lenght\n",
    "# Note that the output is a Numpy matrix\n",
    "def padding(sentences, seq_len):\n",
    "  features = np.zeros((len(sentences), seq_len),dtype=int)\n",
    "  for ii, review in enumerate(sentences):\n",
    "    len_review = len(review)\n",
    "    if len_review != 0:\n",
    "      if len_review <= seq_len:\n",
    "        # If its shorter, we fill with zeros (the padding Token index)\n",
    "        features[ii, -len(review):] = np.array(review)[:seq_len]\n",
    "      if len_review > seq_len:\n",
    "        # If its larger, we take the last 'seq_len' indexes\n",
    "        features[ii, :] = np.array(review)[-seq_len:]\n",
    "  return features"
   ]
  },
  {
   "cell_type": "code",
   "execution_count": null,
   "metadata": {
    "id": "5lZe1GmSRvDz"
   },
   "outputs": [],
   "source": [
    "# We convert our list of tokens into a numpy matrix\n",
    "# where all instances have the same length\n",
    "x_train_pad = padding(x_train_idx,max__length)\n",
    "x_test_pad = padding(x_test_idx,max__length)\n",
    "\n",
    "# We convert our target list a numpy matrix\n",
    "y_train_np = np.asarray(y_train_label)\n",
    "y_test_np = np.asarray(y_test_label)"
   ]
  },
  {
   "cell_type": "code",
   "execution_count": null,
   "metadata": {
    "colab": {
     "base_uri": "https://localhost:8080/"
    },
    "id": "wB2xTCINT6Mh",
    "outputId": "0ed53984-92c4-428f-a552-24fa835ede29"
   },
   "outputs": [
    {
     "name": "stdout",
     "output_type": "stream",
     "text": [
      "Before padding:  [59, 4424, 55, 129, 374, 422, 94, 5347, 1421, 716, 4425, 453, 19, 59, 3765, 35, 985, 5348, 581, 6748, 1613, 4426, 290, 5349, 1500]\n",
      "After padding:  [   0    0    0    0    0   59 4424   55  129  374  422   94 5347 1421\n",
      "  716 4425  453   19   59 3765   35  985 5348  581 6748 1613 4426  290\n",
      " 5349 1500]\n"
     ]
    }
   ],
   "source": [
    "some_number = 2\n",
    "print('Before padding: ', x_train_idx[some_number])\n",
    "print('After padding: ', x_train_pad[some_number])"
   ]
  },
  {
   "cell_type": "code",
   "execution_count": null,
   "metadata": {
    "id": "dTSKsQDAUCnL"
   },
   "outputs": [],
   "source": [
    "# create Tensor datasets\n",
    "train_data = TensorDataset(torch.from_numpy(x_train_pad), torch.from_numpy(y_train_np))\n",
    "valid_data = TensorDataset(torch.from_numpy(x_test_pad), torch.from_numpy(y_test_np))\n",
    "\n",
    "# Batch size (this is an important hyperparameter)\n",
    "batch_size = 100\n",
    "\n",
    "# dataloaders\n",
    "# make sure to SHUFFLE your data\n",
    "train_loader = DataLoader(train_data, shuffle=True, batch_size=batch_size,drop_last = True)\n",
    "valid_loader = DataLoader(valid_data, shuffle=True, batch_size=batch_size,drop_last = True)"
   ]
  },
  {
   "cell_type": "code",
   "execution_count": null,
   "metadata": {
    "colab": {
     "base_uri": "https://localhost:8080/"
    },
    "collapsed": true,
    "id": "KDgkImaKZl55",
    "outputId": "84da92e3-7f12-42f4-bc92-c3c6348ec46e"
   },
   "outputs": [
    {
     "name": "stdout",
     "output_type": "stream",
     "text": [
      "Sample input size:  torch.Size([100, 30])\n",
      "Sample input: \n",
      " tensor([[    0,     0,     0,  ...,     0,    98,   390],\n",
      "        [    0,     0,     0,  ...,   270,   163,   139],\n",
      "        [    0,     0,     0,  ...,   127,  2135,  1579],\n",
      "        ...,\n",
      "        [    0,     0,     0,  ...,     6,   335,   944],\n",
      "        [    0,     0,     0,  ...,   266, 11160,  5893],\n",
      "        [    0,     0,     0,  ...,   486,   278,   447]])\n",
      "Sample input: \n",
      " tensor([3, 1, 3, 0, 2, 0, 0, 2, 2, 4, 4, 1, 1, 3, 3, 3, 3, 1, 2, 4, 2, 3, 3, 1,\n",
      "        2, 2, 1, 1, 0, 0, 1, 3, 3, 4, 1, 1, 4, 3, 3, 1, 2, 3, 3, 1, 1, 2, 3, 3,\n",
      "        2, 3, 1, 1, 2, 2, 0, 1, 2, 4, 4, 0, 3, 4, 2, 1, 1, 1, 0, 2, 1, 3, 1, 4,\n",
      "        0, 3, 0, 2, 2, 2, 3, 3, 2, 1, 2, 3, 3, 2, 4, 1, 3, 2, 0, 1, 2, 0, 3, 3,\n",
      "        0, 1, 1, 1])\n"
     ]
    }
   ],
   "source": [
    "# Obtain one batch of training data\n",
    "dataiter = iter(train_loader)\n",
    "sample_x, sample_y = dataiter.__next__()\n",
    "\n",
    "print('Sample input size: ', sample_x.size()) # batch_size, seq_length\n",
    "print('Sample input: \\n', sample_x)\n",
    "print('Sample input: \\n', sample_y)"
   ]
  },
  {
   "cell_type": "code",
   "execution_count": null,
   "metadata": {
    "id": "3-wqxcf7ZpaW"
   },
   "outputs": [],
   "source": [
    "class SentimentRNN(nn.Module):\n",
    "  def __init__(self,no_layers,vocab_size,hidden_dim,embedding_dim,drop_prob=0.1):\n",
    "    super(SentimentRNN,self).__init__()\n",
    "\n",
    "    self.output_dim = output_dim\n",
    "    self.hidden_dim = hidden_dim\n",
    "    self.no_layers = no_layers\n",
    "    self.vocab_size = vocab_size\n",
    "    self.drop_prob = drop_prob\n",
    "\n",
    "    # Embedding Layer\n",
    "    self.embedding = nn.Embedding(vocab_size, embedding_dim)\n",
    "\n",
    "    # LSTM Layers\n",
    "    self.lstm = nn.LSTM(input_size=embedding_dim,hidden_size=self.hidden_dim,\n",
    "                        num_layers=no_layers, batch_first=True,\n",
    "                        dropout=self.drop_prob)\n",
    "\n",
    "    # Dropout layer\n",
    "    self.dropout = nn.Dropout(drop_prob)\n",
    "\n",
    "    # Linear and Sigmoid layer\n",
    "    self.fc = nn.Linear(self.hidden_dim, output_dim)\n",
    "    self.sig = nn.Sigmoid()\n",
    "\n",
    "  def forward(self,x,hidden):\n",
    "    batch_size = x.size(0)\n",
    "\n",
    "    # Embedding out\n",
    "    embeds = self.embedding(x)\n",
    "    #Shape: [batch_size x max_length x embedding_dim]\n",
    "\n",
    "    # LSTM out\n",
    "    lstm_out, hidden = self.lstm(embeds, hidden)\n",
    "    # Shape: [batch_size x max_length x hidden_dim]\n",
    "\n",
    "    # Select the activation of the last Hidden Layer\n",
    "    lstm_out = lstm_out[:,-1,:].contiguous()\n",
    "    # Shape: [batch_size x hidden_dim]\n",
    "\n",
    "    ## You can instead average the activations across all the times\n",
    "    # lstm_out = torch.mean(lstm_out, 1).contiguous()\n",
    "\n",
    "    # Dropout and Fully connected layer\n",
    "    out = self.dropout(lstm_out)\n",
    "    out = self.fc(out)\n",
    "\n",
    "    # Sigmoid function\n",
    "    sig_out = self.sig(out)\n",
    "\n",
    "    # return last sigmoid output and hidden state\n",
    "    return sig_out, hidden\n",
    "\n",
    "  def init_hidden(self, batch_size):\n",
    "    ''' Initializes hidden state '''\n",
    "    # Create two new tensors with sizes n_layers x batch_size x hidden_dim,\n",
    "    # initialized to zero, for hidden state and cell state of LSTM\n",
    "    h0 = torch.zeros((self.no_layers,batch_size,self.hidden_dim)).to(device)\n",
    "    c0 = torch.zeros((self.no_layers,batch_size,self.hidden_dim)).to(device)\n",
    "    hidden = (h0,c0)\n",
    "    return hidden"
   ]
  },
  {
   "cell_type": "code",
   "execution_count": null,
   "metadata": {
    "id": "m6c9nXbJZ4Gm"
   },
   "outputs": [],
   "source": [
    "# Parameters of our network\n",
    "\n",
    "# Size of our vocabulary\n",
    "vocab_size = num_words_dict\n",
    "\n",
    "# Embedding dimension\n",
    "embedding_dim = 32\n",
    "\n",
    "# Number of stacked LSTM layers\n",
    "no_layers = 2\n",
    "\n",
    "# Dimension of the hidden layer in LSTMs\n",
    "hidden_dim = 64\n",
    "\n",
    "# Dropout parameter for regularization\n",
    "output_dim = 1\n",
    "\n",
    "# Dropout parameter for regularization\n",
    "drop_prob = 0.25"
   ]
  },
  {
   "cell_type": "code",
   "execution_count": null,
   "metadata": {
    "colab": {
     "base_uri": "https://localhost:8080/"
    },
    "id": "Vli73vfqZ6M4",
    "outputId": "c4f5e1b9-9d39-46eb-f002-4d3f29e4db86"
   },
   "outputs": [
    {
     "name": "stdout",
     "output_type": "stream",
     "text": [
      "SentimentRNN(\n",
      "  (embedding): Embedding(30000, 32)\n",
      "  (lstm): LSTM(32, 64, num_layers=2, batch_first=True, dropout=0.25)\n",
      "  (dropout): Dropout(p=0.25, inplace=False)\n",
      "  (fc): Linear(in_features=64, out_features=1, bias=True)\n",
      "  (sig): Sigmoid()\n",
      ")\n"
     ]
    }
   ],
   "source": [
    "# Let's define our model\n",
    "model = SentimentRNN(no_layers, vocab_size, hidden_dim,\n",
    "                     embedding_dim, drop_prob=drop_prob)\n",
    "# Moving to gpu\n",
    "model.to(device)\n",
    "print(model)"
   ]
  },
  {
   "cell_type": "code",
   "execution_count": null,
   "metadata": {
    "colab": {
     "base_uri": "https://localhost:8080/"
    },
    "id": "VoQmnaS0Z9D2",
    "outputId": "1b5cfdf6-a08e-4797-b455-a828bfe4fb97"
   },
   "outputs": [
    {
     "name": "stdout",
     "output_type": "stream",
     "text": [
      "Total Number of parameters:  1018433\n"
     ]
    }
   ],
   "source": [
    "# How many trainable parameters does our model have?\n",
    "model_parameters = filter(lambda p: p.requires_grad, model.parameters())\n",
    "params = sum([np.prod(p.size()) for p in model_parameters])\n",
    "print('Total Number of parameters: ',params)"
   ]
  },
  {
   "cell_type": "code",
   "execution_count": null,
   "metadata": {
    "id": "kA-rXnxVZ_6v"
   },
   "outputs": [],
   "source": [
    "# loss and optimization functions\n",
    "lr = 0.1\n",
    "\n",
    "# Binary crossentropy is a good loss function for a binary classification problem\n",
    "criterion = nn.CrossEntropyLoss()\n",
    "\n",
    "# We choose an Adam optimizer\n",
    "optimizer = torch.optim.Adam(model.parameters(), lr=lr)\n",
    "\n",
    "# function to predict accuracy\n",
    "def acc(pred,label):\n",
    "  pred = torch.round(pred.squeeze())\n",
    "  return torch.sum(pred == label.squeeze()).item()"
   ]
  },
  {
   "cell_type": "code",
   "execution_count": null,
   "metadata": {
    "colab": {
     "base_uri": "https://localhost:8080/",
     "height": 1000
    },
    "id": "cjWYk40laDGd",
    "outputId": "a483b8c7-b32a-48dc-a51d-add38992ccfe"
   },
   "outputs": [
    {
     "name": "stdout",
     "output_type": "stream",
     "text": [
      "Epoch 1\n",
      "train_loss : 947.4520651424632 val_loss : 946.3579323508523\n",
      "train_accuracy : 12.909644194756552 val_accuracy : 12.53393665158371\n",
      "Validation loss decreased (inf --> 946.357932).  Saving model ...\n",
      "==================================================\n",
      "Epoch 2\n",
      "train_loss : 947.2090274586398 val_loss : 944.5907343084162\n",
      "train_accuracy : 12.827715355805244 val_accuracy : 12.53393665158371\n",
      "Validation loss decreased (946.357932 --> 944.590734).  Saving model ...\n",
      "==================================================\n",
      "Epoch 3\n",
      "train_loss : 947.3841193704044 val_loss : 946.1136197176846\n",
      "train_accuracy : 13.026685393258427 val_accuracy : 12.57918552036199\n",
      "==================================================\n",
      "Epoch 4\n",
      "train_loss : 946.8126170438878 val_loss : 945.3490212180398\n",
      "train_accuracy : 13.588483146067414 val_accuracy : 12.53393665158371\n",
      "==================================================\n",
      "Epoch 5\n",
      "train_loss : 947.0305419921875 val_loss : 945.1674111106179\n",
      "train_accuracy : 13.178838951310862 val_accuracy : 17.420814479638008\n",
      "==================================================\n",
      "Epoch 6\n",
      "train_loss : 946.1689998851103 val_loss : 945.4313520951705\n",
      "train_accuracy : 22.343164794007492 val_accuracy : 12.57918552036199\n",
      "==================================================\n",
      "Epoch 7\n",
      "train_loss : 947.5879258099724 val_loss : 944.7280245694247\n",
      "train_accuracy : 20.868445692883896 val_accuracy : 28.50678733031674\n",
      "==================================================\n",
      "Epoch 8\n",
      "train_loss : 947.0680312212776 val_loss : 945.3242742365056\n",
      "train_accuracy : 24.707397003745317 val_accuracy : 27.737556561085974\n",
      "==================================================\n",
      "Epoch 9\n",
      "train_loss : 946.0091854319853 val_loss : 943.4143593528054\n",
      "train_accuracy : 23.618913857677903 val_accuracy : 26.42533936651584\n",
      "Validation loss decreased (944.590734 --> 943.414359).  Saving model ...\n",
      "==================================================\n",
      "Epoch 10\n",
      "train_loss : 945.5596177045037 val_loss : 942.0655656294389\n",
      "train_accuracy : 23.85299625468165 val_accuracy : 26.199095022624437\n",
      "Validation loss decreased (943.414359 --> 942.065566).  Saving model ...\n",
      "==================================================\n",
      "Epoch 11\n",
      "train_loss : 944.9593319163603 val_loss : 943.9411204944957\n",
      "train_accuracy : 21.82818352059925 val_accuracy : 28.55203619909502\n",
      "==================================================\n",
      "Epoch 12\n",
      "train_loss : 947.1535465016085 val_loss : 945.1352039683949\n",
      "train_accuracy : 18.890449438202246 val_accuracy : 12.895927601809957\n",
      "==================================================\n",
      "Epoch 13\n",
      "train_loss : 947.3368623621324 val_loss : 946.0747236772017\n",
      "train_accuracy : 12.909644194756552 val_accuracy : 12.53393665158371\n",
      "==================================================\n",
      "Epoch 14\n",
      "train_loss : 947.1443064970128 val_loss : 945.2154513272372\n",
      "train_accuracy : 12.72237827715356 val_accuracy : 12.669683257918551\n",
      "==================================================\n",
      "Epoch 15\n",
      "train_loss : 949.7385490866268 val_loss : 949.0767461603338\n",
      "train_accuracy : 14.03323970037453 val_accuracy : 22.986425339366516\n",
      "==================================================\n",
      "Epoch 16\n",
      "train_loss : 952.339315257353 val_loss : 946.9400052157315\n",
      "train_accuracy : 19.206460674157302 val_accuracy : 19.185520361990953\n",
      "==================================================\n",
      "Epoch 17\n",
      "train_loss : 949.52881936466 val_loss : 945.7997159090909\n",
      "train_accuracy : 13.576779026217228 val_accuracy : 12.57918552036199\n",
      "==================================================\n",
      "Epoch 18\n",
      "train_loss : 947.6637623506434 val_loss : 946.466893976385\n",
      "train_accuracy : 12.71067415730337 val_accuracy : 12.53393665158371\n",
      "==================================================\n",
      "Epoch 19\n",
      "train_loss : 947.6592500574449 val_loss : 944.590234929865\n",
      "train_accuracy : 12.72237827715356 val_accuracy : 12.57918552036199\n",
      "==================================================\n",
      "Epoch 20\n",
      "train_loss : 947.1397597369025 val_loss : 946.7964921431108\n",
      "train_accuracy : 12.827715355805244 val_accuracy : 12.44343891402715\n",
      "==================================================\n",
      "Epoch 21\n",
      "train_loss : 948.7908009248621 val_loss : 946.3669738769531\n",
      "train_accuracy : 13.09691011235955 val_accuracy : 12.986425339366518\n",
      "==================================================\n",
      "Epoch 22\n",
      "train_loss : 951.0562421013327 val_loss : 948.333290793679\n",
      "train_accuracy : 13.424625468164795 val_accuracy : 13.30316742081448\n",
      "==================================================\n",
      "Epoch 23\n",
      "train_loss : 950.745809397978 val_loss : 948.1006081321023\n",
      "train_accuracy : 13.330992509363297 val_accuracy : 12.850678733031673\n",
      "==================================================\n",
      "Epoch 24\n",
      "train_loss : 950.7718003216912 val_loss : 944.987079967152\n",
      "train_accuracy : 13.904494382022472 val_accuracy : 12.714932126696832\n",
      "==================================================\n",
      "Epoch 25\n",
      "train_loss : 952.779549632353 val_loss : 951.5377613414418\n",
      "train_accuracy : 14.12687265917603 val_accuracy : 18.597285067873305\n",
      "==================================================\n",
      "Epoch 26\n",
      "train_loss : 954.4543291877297 val_loss : 946.0671997070312\n",
      "train_accuracy : 22.659176029962545 val_accuracy : 28.3710407239819\n",
      "==================================================\n",
      "Epoch 27\n",
      "train_loss : 949.0446403952205 val_loss : 949.4383350719105\n",
      "train_accuracy : 25.409644194756552 val_accuracy : 27.692307692307693\n",
      "==================================================\n",
      "Epoch 28\n",
      "train_loss : 952.9610681870405 val_loss : 947.3627901944247\n",
      "train_accuracy : 23.525280898876407 val_accuracy : 27.330316742081447\n",
      "==================================================\n",
      "Epoch 29\n",
      "train_loss : 953.4860890107997 val_loss : 950.8140702681108\n",
      "train_accuracy : 22.916666666666664 val_accuracy : 24.8868778280543\n",
      "==================================================\n",
      "Epoch 30\n",
      "train_loss : 957.534710334329 val_loss : 952.1199424050071\n",
      "train_accuracy : 20.950374531835205 val_accuracy : 24.615384615384617\n",
      "==================================================\n",
      "Epoch 31\n",
      "train_loss : 956.7918370863971 val_loss : 950.707108931108\n",
      "train_accuracy : 21.161048689138575 val_accuracy : 24.8868778280543\n",
      "==================================================\n",
      "Epoch 32\n",
      "train_loss : 956.3405524758732 val_loss : 950.3732604980469\n",
      "train_accuracy : 21.910112359550563 val_accuracy : 25.746606334841626\n",
      "==================================================\n",
      "Epoch 33\n",
      "train_loss : 953.5826401654411 val_loss : 945.3557239879261\n",
      "train_accuracy : 23.302902621722847 val_accuracy : 28.190045248868778\n",
      "==================================================\n",
      "Epoch 34\n",
      "train_loss : 950.6617352653952 val_loss : 945.682803067294\n",
      "train_accuracy : 25.070224719101127 val_accuracy : 28.41628959276018\n",
      "==================================================\n",
      "Epoch 35\n",
      "train_loss : 948.2969403435202 val_loss : 945.152246648615\n",
      "train_accuracy : 25.71395131086142 val_accuracy : 28.50678733031674\n",
      "==================================================\n",
      "Epoch 36\n",
      "train_loss : 947.8807229434742 val_loss : 945.3158957741477\n",
      "train_accuracy : 25.807584269662918 val_accuracy : 28.46153846153846\n",
      "==================================================\n",
      "Epoch 37\n",
      "train_loss : 948.3445506376379 val_loss : 947.1997930353338\n",
      "train_accuracy : 25.79588014981273 val_accuracy : 28.55203619909502\n",
      "==================================================\n",
      "Epoch 38\n",
      "train_loss : 947.9694134880515 val_loss : 944.6879522150213\n",
      "train_accuracy : 25.842696629213485 val_accuracy : 28.50678733031674\n",
      "==================================================\n",
      "Epoch 39\n",
      "train_loss : 947.1842127182905 val_loss : 944.2692149769176\n",
      "train_accuracy : 25.819288389513105 val_accuracy : 28.55203619909502\n",
      "==================================================\n",
      "Epoch 40\n",
      "train_loss : 948.6666116153492 val_loss : 945.7342723499645\n",
      "train_accuracy : 25.76076779026217 val_accuracy : 28.41628959276018\n",
      "==================================================\n",
      "Epoch 41\n",
      "train_loss : 947.2561250574448 val_loss : 946.3624822443181\n",
      "train_accuracy : 25.85440074906367 val_accuracy : 28.50678733031674\n",
      "==================================================\n",
      "Epoch 42\n",
      "train_loss : 947.2020773494945 val_loss : 944.4785461425781\n",
      "train_accuracy : 25.85440074906367 val_accuracy : 28.55203619909502\n",
      "==================================================\n",
      "Epoch 43\n",
      "train_loss : 947.635693359375 val_loss : 945.733809037642\n",
      "train_accuracy : 25.842696629213485 val_accuracy : 28.46153846153846\n",
      "==================================================\n",
      "Epoch 44\n",
      "train_loss : 948.5025756835937 val_loss : 945.3158652565696\n",
      "train_accuracy : 25.842696629213485 val_accuracy : 28.55203619909502\n",
      "==================================================\n",
      "Epoch 45\n",
      "train_loss : 947.4232608570773 val_loss : 943.2228365811435\n",
      "train_accuracy : 25.85440074906367 val_accuracy : 28.64253393665158\n",
      "==================================================\n",
      "Epoch 46\n",
      "train_loss : 947.2569393382353 val_loss : 944.8972140225497\n",
      "train_accuracy : 25.866104868913858 val_accuracy : 28.41628959276018\n",
      "==================================================\n",
      "Epoch 47\n",
      "train_loss : 947.6368839039523 val_loss : 945.1065340909091\n",
      "train_accuracy : 25.866104868913858 val_accuracy : 28.5972850678733\n",
      "==================================================\n",
      "Epoch 48\n",
      "train_loss : 947.5813404756434 val_loss : 946.5717995383523\n",
      "train_accuracy : 25.79588014981273 val_accuracy : 28.41628959276018\n",
      "==================================================\n",
      "Epoch 49\n",
      "train_loss : 947.7442856732537 val_loss : 944.4785600142045\n",
      "train_accuracy : 25.784176029962545 val_accuracy : 28.5972850678733\n",
      "==================================================\n",
      "Epoch 50\n",
      "train_loss : 947.5272202435661 val_loss : 945.1065202192826\n",
      "train_accuracy : 25.784176029962545 val_accuracy : 28.46153846153846\n",
      "==================================================\n",
      "Epoch 51\n",
      "train_loss : 947.9607306985295 val_loss : 944.4785433682529\n",
      "train_accuracy : 25.866104868913858 val_accuracy : 28.55203619909502\n",
      "==================================================\n",
      "Epoch 52\n",
      "train_loss : 947.5814912683824 val_loss : 945.3158624822444\n",
      "train_accuracy : 25.79588014981273 val_accuracy : 28.55203619909502\n",
      "==================================================\n",
      "Epoch 53\n",
      "train_loss : 947.3105863683364 val_loss : 943.8505776145241\n",
      "train_accuracy : 25.79588014981273 val_accuracy : 28.5972850678733\n",
      "==================================================\n",
      "Epoch 54\n",
      "train_loss : 948.1233096852022 val_loss : 944.6878828568892\n",
      "train_accuracy : 25.819288389513105 val_accuracy : 28.5972850678733\n",
      "==================================================\n",
      "Epoch 55\n",
      "train_loss : 947.6898552389706 val_loss : 946.1531621759588\n",
      "train_accuracy : 25.88951310861423 val_accuracy : 28.46153846153846\n",
      "==================================================\n",
      "Epoch 56\n",
      "train_loss : 948.340034754136 val_loss : 944.6878967285156\n",
      "train_accuracy : 25.77247191011236 val_accuracy : 28.41628959276018\n",
      "==================================================\n",
      "Epoch 57\n",
      "train_loss : 947.5815350700827 val_loss : 945.1065285422585\n",
      "train_accuracy : 25.8309925093633 val_accuracy : 28.46153846153846\n",
      "==================================================\n",
      "Epoch 58\n",
      "train_loss : 947.7982393152573 val_loss : 945.9438226873225\n",
      "train_accuracy : 25.8309925093633 val_accuracy : 28.50678733031674\n",
      "==================================================\n",
      "Epoch 59\n",
      "train_loss : 947.2566198012408 val_loss : 945.9438393332741\n",
      "train_accuracy : 25.85440074906367 val_accuracy : 28.50678733031674\n",
      "==================================================\n",
      "Epoch 60\n",
      "train_loss : 947.2564668543198 val_loss : 945.5251908735795\n",
      "train_accuracy : 25.877808988764045 val_accuracy : 28.5972850678733\n",
      "==================================================\n",
      "Epoch 61\n",
      "train_loss : 947.6356768439798 val_loss : 945.1065285422585\n",
      "train_accuracy : 25.8309925093633 val_accuracy : 28.50678733031674\n",
      "==================================================\n",
      "Epoch 62\n",
      "train_loss : 948.17744140625 val_loss : 946.571816184304\n",
      "train_accuracy : 25.749063670411985 val_accuracy : 28.46153846153846\n",
      "==================================================\n"
     ]
    },
    {
     "ename": "KeyboardInterrupt",
     "evalue": "",
     "output_type": "error",
     "traceback": [
      "\u001b[0;31m---------------------------------------------------------------------------\u001b[0m",
      "\u001b[0;31mKeyboardInterrupt\u001b[0m                         Traceback (most recent call last)",
      "\u001b[0;32m<ipython-input-52-bff2d869febb>\u001b[0m in \u001b[0;36m<cell line: 15>\u001b[0;34m()\u001b[0m\n\u001b[1;32m     36\u001b[0m     \u001b[0;31m# Calculate the loss and perform backprop\u001b[0m\u001b[0;34m\u001b[0m\u001b[0;34m\u001b[0m\u001b[0m\n\u001b[1;32m     37\u001b[0m     \u001b[0mloss\u001b[0m \u001b[0;34m=\u001b[0m \u001b[0mcriterion\u001b[0m\u001b[0;34m(\u001b[0m\u001b[0moutput\u001b[0m\u001b[0;34m.\u001b[0m\u001b[0msqueeze\u001b[0m\u001b[0;34m(\u001b[0m\u001b[0;34m)\u001b[0m\u001b[0;34m,\u001b[0m \u001b[0mlabels\u001b[0m\u001b[0;34m.\u001b[0m\u001b[0mfloat\u001b[0m\u001b[0;34m(\u001b[0m\u001b[0;34m)\u001b[0m\u001b[0;34m)\u001b[0m\u001b[0;34m\u001b[0m\u001b[0;34m\u001b[0m\u001b[0m\n\u001b[0;32m---> 38\u001b[0;31m     \u001b[0mloss\u001b[0m\u001b[0;34m.\u001b[0m\u001b[0mbackward\u001b[0m\u001b[0;34m(\u001b[0m\u001b[0;34m)\u001b[0m\u001b[0;34m\u001b[0m\u001b[0;34m\u001b[0m\u001b[0m\n\u001b[0m\u001b[1;32m     39\u001b[0m     \u001b[0mtrain_losses\u001b[0m\u001b[0;34m.\u001b[0m\u001b[0mappend\u001b[0m\u001b[0;34m(\u001b[0m\u001b[0mloss\u001b[0m\u001b[0;34m.\u001b[0m\u001b[0mitem\u001b[0m\u001b[0;34m(\u001b[0m\u001b[0;34m)\u001b[0m\u001b[0;34m)\u001b[0m\u001b[0;34m\u001b[0m\u001b[0;34m\u001b[0m\u001b[0m\n\u001b[1;32m     40\u001b[0m \u001b[0;34m\u001b[0m\u001b[0m\n",
      "\u001b[0;32m/usr/local/lib/python3.10/dist-packages/torch/_tensor.py\u001b[0m in \u001b[0;36mbackward\u001b[0;34m(self, gradient, retain_graph, create_graph, inputs)\u001b[0m\n\u001b[1;32m    523\u001b[0m                 \u001b[0minputs\u001b[0m\u001b[0;34m=\u001b[0m\u001b[0minputs\u001b[0m\u001b[0;34m,\u001b[0m\u001b[0;34m\u001b[0m\u001b[0;34m\u001b[0m\u001b[0m\n\u001b[1;32m    524\u001b[0m             )\n\u001b[0;32m--> 525\u001b[0;31m         torch.autograd.backward(\n\u001b[0m\u001b[1;32m    526\u001b[0m             \u001b[0mself\u001b[0m\u001b[0;34m,\u001b[0m \u001b[0mgradient\u001b[0m\u001b[0;34m,\u001b[0m \u001b[0mretain_graph\u001b[0m\u001b[0;34m,\u001b[0m \u001b[0mcreate_graph\u001b[0m\u001b[0;34m,\u001b[0m \u001b[0minputs\u001b[0m\u001b[0;34m=\u001b[0m\u001b[0minputs\u001b[0m\u001b[0;34m\u001b[0m\u001b[0;34m\u001b[0m\u001b[0m\n\u001b[1;32m    527\u001b[0m         )\n",
      "\u001b[0;32m/usr/local/lib/python3.10/dist-packages/torch/autograd/__init__.py\u001b[0m in \u001b[0;36mbackward\u001b[0;34m(tensors, grad_tensors, retain_graph, create_graph, grad_variables, inputs)\u001b[0m\n\u001b[1;32m    265\u001b[0m     \u001b[0;31m# some Python versions print out the first line of a multi-line function\u001b[0m\u001b[0;34m\u001b[0m\u001b[0;34m\u001b[0m\u001b[0m\n\u001b[1;32m    266\u001b[0m     \u001b[0;31m# calls in the traceback and some print out the last line\u001b[0m\u001b[0;34m\u001b[0m\u001b[0;34m\u001b[0m\u001b[0m\n\u001b[0;32m--> 267\u001b[0;31m     _engine_run_backward(\n\u001b[0m\u001b[1;32m    268\u001b[0m         \u001b[0mtensors\u001b[0m\u001b[0;34m,\u001b[0m\u001b[0;34m\u001b[0m\u001b[0;34m\u001b[0m\u001b[0m\n\u001b[1;32m    269\u001b[0m         \u001b[0mgrad_tensors_\u001b[0m\u001b[0;34m,\u001b[0m\u001b[0;34m\u001b[0m\u001b[0;34m\u001b[0m\u001b[0m\n",
      "\u001b[0;32m/usr/local/lib/python3.10/dist-packages/torch/autograd/graph.py\u001b[0m in \u001b[0;36m_engine_run_backward\u001b[0;34m(t_outputs, *args, **kwargs)\u001b[0m\n\u001b[1;32m    742\u001b[0m         \u001b[0munregister_hooks\u001b[0m \u001b[0;34m=\u001b[0m \u001b[0m_register_logging_hooks_on_whole_graph\u001b[0m\u001b[0;34m(\u001b[0m\u001b[0mt_outputs\u001b[0m\u001b[0;34m)\u001b[0m\u001b[0;34m\u001b[0m\u001b[0;34m\u001b[0m\u001b[0m\n\u001b[1;32m    743\u001b[0m     \u001b[0;32mtry\u001b[0m\u001b[0;34m:\u001b[0m\u001b[0;34m\u001b[0m\u001b[0;34m\u001b[0m\u001b[0m\n\u001b[0;32m--> 744\u001b[0;31m         return Variable._execution_engine.run_backward(  # Calls into the C++ engine to run the backward pass\n\u001b[0m\u001b[1;32m    745\u001b[0m             \u001b[0mt_outputs\u001b[0m\u001b[0;34m,\u001b[0m \u001b[0;34m*\u001b[0m\u001b[0margs\u001b[0m\u001b[0;34m,\u001b[0m \u001b[0;34m**\u001b[0m\u001b[0mkwargs\u001b[0m\u001b[0;34m\u001b[0m\u001b[0;34m\u001b[0m\u001b[0m\n\u001b[1;32m    746\u001b[0m         )  # Calls into the C++ engine to run the backward pass\n",
      "\u001b[0;31mKeyboardInterrupt\u001b[0m: "
     ]
    }
   ],
   "source": [
    "# Number of training Epochs\n",
    "epochs = 900\n",
    "\n",
    "# Maximum absolute value accepted for the gradeint\n",
    "clip = 5\n",
    "\n",
    "# Initial Loss value (assumed big)\n",
    "valid_loss_min = np.inf\n",
    "\n",
    "# Lists to follow the evolution of the loss and accuracy\n",
    "epoch_tr_loss,epoch_vl_loss = [],[]\n",
    "epoch_tr_acc,epoch_vl_acc = [],[]\n",
    "\n",
    "# Train for a number of Epochs\n",
    "for epoch in range(epochs):\n",
    "  train_losses = []\n",
    "  train_acc = 0.0\n",
    "  model.train()\n",
    "\n",
    "  for inputs, labels in train_loader:\n",
    "\n",
    "    # Initialize hidden state\n",
    "    h = model.init_hidden(batch_size)\n",
    "    # Creating new variables for the hidden state\n",
    "    h = tuple([each.data.to(device) for each in h])\n",
    "\n",
    "    # Move batch inputs and labels to gpu\n",
    "    inputs, labels = inputs.to(device), labels.to(device)\n",
    "\n",
    "    # Set gradient to zero\n",
    "    model.zero_grad()\n",
    "\n",
    "    # Compute model output\n",
    "    output,h = model(inputs,h)\n",
    "\n",
    "    # Calculate the loss and perform backprop\n",
    "    loss = criterion(output.squeeze(), labels.float())\n",
    "    loss.backward()\n",
    "    train_losses.append(loss.item())\n",
    "\n",
    "    # calculating accuracy\n",
    "    accuracy = acc(output,labels)\n",
    "    train_acc += accuracy\n",
    "\n",
    "    #`clip_grad_norm` helps prevent the exploding gradient problem in RNNs / LSTMs.\n",
    "    nn.utils.clip_grad_norm_(model.parameters(), clip)\n",
    "    optimizer.step()\n",
    "\n",
    "\n",
    "  # Evaluate on the validation set for this epoch\n",
    "  val_losses = []\n",
    "  val_acc = 0.0\n",
    "  model.eval()\n",
    "  for inputs, labels in valid_loader:\n",
    "\n",
    "    # Initialize hidden state\n",
    "    val_h = model.init_hidden(batch_size)\n",
    "    val_h = tuple([each.data.to(device) for each in val_h])\n",
    "\n",
    "    # Move batch inputs and labels to gpu\n",
    "    inputs, labels = inputs.to(device), labels.to(device)\n",
    "\n",
    "    # Compute model output\n",
    "    output, val_h = model(inputs, val_h)\n",
    "\n",
    "    # Compute Loss\n",
    "    val_loss = criterion(output.squeeze(), labels.float())\n",
    "\n",
    "    val_losses.append(val_loss.item())\n",
    "\n",
    "    accuracy = acc(output,labels)\n",
    "    val_acc += accuracy\n",
    "\n",
    "  epoch_train_loss = np.mean(train_losses)\n",
    "  epoch_val_loss = np.mean(val_losses)\n",
    "  epoch_train_acc = train_acc/len(train_loader.dataset)\n",
    "  epoch_val_acc = val_acc/len(valid_loader.dataset)\n",
    "  epoch_tr_loss.append(epoch_train_loss)\n",
    "  epoch_vl_loss.append(epoch_val_loss)\n",
    "  epoch_tr_acc.append(epoch_train_acc)\n",
    "  epoch_vl_acc.append(epoch_val_acc)\n",
    "  print(f'Epoch {epoch+1}')\n",
    "  print(f'train_loss : {epoch_train_loss} val_loss : {epoch_val_loss}')\n",
    "  print(f'train_accuracy : {epoch_train_acc*100} val_accuracy : {epoch_val_acc*100}')\n",
    "  if epoch_val_loss <= valid_loss_min:\n",
    "    print('Validation loss decreased ({:.6f} --> {:.6f}).  Saving model ...'.format(valid_loss_min,epoch_val_loss))\n",
    "    # torch.save(model.state_dict(), '../working/state_dict.pt')\n",
    "    valid_loss_min = epoch_val_loss\n",
    "  print(25*'==')"
   ]
  },
  {
   "cell_type": "code",
   "execution_count": null,
   "metadata": {
    "id": "W0y1lVmVbThn"
   },
   "outputs": [],
   "source": [
    "fig = plt.figure(figsize = (20, 6))\n",
    "plt.subplot(1, 2, 1)\n",
    "plt.plot(epoch_tr_acc, label='Train Acc')\n",
    "plt.plot(epoch_vl_acc, label='Validation Acc')\n",
    "plt.title(\"Accuracy\")\n",
    "plt.legend()\n",
    "plt.grid()\n",
    "\n",
    "plt.subplot(1, 2, 2)\n",
    "plt.plot(epoch_tr_loss, label='Train loss')\n",
    "plt.plot(epoch_vl_loss, label='Validation loss')\n",
    "plt.title(\"Loss\")\n",
    "plt.legend()\n",
    "plt.grid()\n",
    "\n",
    "plt.show()"
   ]
  }
 ],
 "metadata": {
  "accelerator": "GPU",
  "colab": {
   "collapsed_sections": [
    "eKDq340f-9xM",
    "um6KwkbXOjRk"
   ],
   "gpuType": "T4",
   "provenance": []
  },
  "kernelspec": {
   "display_name": "Python 3 (ipykernel)",
   "language": "python",
   "name": "python3"
  },
  "language_info": {
   "codemirror_mode": {
    "name": "ipython",
    "version": 3
   },
   "file_extension": ".py",
   "mimetype": "text/x-python",
   "name": "python",
   "nbconvert_exporter": "python",
   "pygments_lexer": "ipython3",
   "version": "3.8.0"
  },
  "widgets": {
   "application/vnd.jupyter.widget-state+json": {
    "028cd2c2722d49869c6f521dcdd3395c": {
     "model_module": "@jupyter-widgets/base",
     "model_module_version": "1.2.0",
     "model_name": "LayoutModel",
     "state": {
      "_model_module": "@jupyter-widgets/base",
      "_model_module_version": "1.2.0",
      "_model_name": "LayoutModel",
      "_view_count": null,
      "_view_module": "@jupyter-widgets/base",
      "_view_module_version": "1.2.0",
      "_view_name": "LayoutView",
      "align_content": null,
      "align_items": null,
      "align_self": null,
      "border": null,
      "bottom": null,
      "display": null,
      "flex": null,
      "flex_flow": null,
      "grid_area": null,
      "grid_auto_columns": null,
      "grid_auto_flow": null,
      "grid_auto_rows": null,
      "grid_column": null,
      "grid_gap": null,
      "grid_row": null,
      "grid_template_areas": null,
      "grid_template_columns": null,
      "grid_template_rows": null,
      "height": null,
      "justify_content": null,
      "justify_items": null,
      "left": null,
      "margin": null,
      "max_height": null,
      "max_width": null,
      "min_height": null,
      "min_width": null,
      "object_fit": null,
      "object_position": null,
      "order": null,
      "overflow": null,
      "overflow_x": null,
      "overflow_y": null,
      "padding": null,
      "right": null,
      "top": null,
      "visibility": null,
      "width": null
     }
    },
    "04015ad0ee994a629ad1d11075105fa2": {
     "model_module": "@jupyter-widgets/base",
     "model_module_version": "1.2.0",
     "model_name": "LayoutModel",
     "state": {
      "_model_module": "@jupyter-widgets/base",
      "_model_module_version": "1.2.0",
      "_model_name": "LayoutModel",
      "_view_count": null,
      "_view_module": "@jupyter-widgets/base",
      "_view_module_version": "1.2.0",
      "_view_name": "LayoutView",
      "align_content": null,
      "align_items": null,
      "align_self": null,
      "border": null,
      "bottom": null,
      "display": null,
      "flex": null,
      "flex_flow": null,
      "grid_area": null,
      "grid_auto_columns": null,
      "grid_auto_flow": null,
      "grid_auto_rows": null,
      "grid_column": null,
      "grid_gap": null,
      "grid_row": null,
      "grid_template_areas": null,
      "grid_template_columns": null,
      "grid_template_rows": null,
      "height": null,
      "justify_content": null,
      "justify_items": null,
      "left": null,
      "margin": null,
      "max_height": null,
      "max_width": null,
      "min_height": null,
      "min_width": null,
      "object_fit": null,
      "object_position": null,
      "order": null,
      "overflow": null,
      "overflow_x": null,
      "overflow_y": null,
      "padding": null,
      "right": null,
      "top": null,
      "visibility": null,
      "width": null
     }
    },
    "0f3ecc641c1142ba971a137b53704f96": {
     "model_module": "@jupyter-widgets/base",
     "model_module_version": "1.2.0",
     "model_name": "LayoutModel",
     "state": {
      "_model_module": "@jupyter-widgets/base",
      "_model_module_version": "1.2.0",
      "_model_name": "LayoutModel",
      "_view_count": null,
      "_view_module": "@jupyter-widgets/base",
      "_view_module_version": "1.2.0",
      "_view_name": "LayoutView",
      "align_content": null,
      "align_items": null,
      "align_self": null,
      "border": null,
      "bottom": null,
      "display": null,
      "flex": null,
      "flex_flow": null,
      "grid_area": null,
      "grid_auto_columns": null,
      "grid_auto_flow": null,
      "grid_auto_rows": null,
      "grid_column": null,
      "grid_gap": null,
      "grid_row": null,
      "grid_template_areas": null,
      "grid_template_columns": null,
      "grid_template_rows": null,
      "height": null,
      "justify_content": null,
      "justify_items": null,
      "left": null,
      "margin": null,
      "max_height": null,
      "max_width": null,
      "min_height": null,
      "min_width": null,
      "object_fit": null,
      "object_position": null,
      "order": null,
      "overflow": null,
      "overflow_x": null,
      "overflow_y": null,
      "padding": null,
      "right": null,
      "top": null,
      "visibility": null,
      "width": null
     }
    },
    "13cbf4dd63064d6f8e9d59675f0ce7a7": {
     "model_module": "@jupyter-widgets/controls",
     "model_module_version": "1.5.0",
     "model_name": "HTMLModel",
     "state": {
      "_dom_classes": [],
      "_model_module": "@jupyter-widgets/controls",
      "_model_module_version": "1.5.0",
      "_model_name": "HTMLModel",
      "_view_count": null,
      "_view_module": "@jupyter-widgets/controls",
      "_view_module_version": "1.5.0",
      "_view_name": "HTMLView",
      "description": "",
      "description_tooltip": null,
      "layout": "IPY_MODEL_6ce6cf63c537455e97ad70e4e5cc35cf",
      "placeholder": "​",
      "style": "IPY_MODEL_2cfc25e0a71f468aa7ab24bac3da2a4e",
      "value": " 8544/8544 [00:01&lt;00:00, 5069.57it/s]"
     }
    },
    "150b8d72ddad41d39801cc5001e28760": {
     "model_module": "@jupyter-widgets/controls",
     "model_module_version": "1.5.0",
     "model_name": "ProgressStyleModel",
     "state": {
      "_model_module": "@jupyter-widgets/controls",
      "_model_module_version": "1.5.0",
      "_model_name": "ProgressStyleModel",
      "_view_count": null,
      "_view_module": "@jupyter-widgets/base",
      "_view_module_version": "1.2.0",
      "_view_name": "StyleView",
      "bar_color": null,
      "description_width": ""
     }
    },
    "15e28dedbadd45f385295712bf610722": {
     "model_module": "@jupyter-widgets/controls",
     "model_module_version": "1.5.0",
     "model_name": "HTMLModel",
     "state": {
      "_dom_classes": [],
      "_model_module": "@jupyter-widgets/controls",
      "_model_module_version": "1.5.0",
      "_model_name": "HTMLModel",
      "_view_count": null,
      "_view_module": "@jupyter-widgets/controls",
      "_view_module_version": "1.5.0",
      "_view_name": "HTMLView",
      "description": "",
      "description_tooltip": null,
      "layout": "IPY_MODEL_18ad9d7b16b041d797c6b69ea6f35d1f",
      "placeholder": "​",
      "style": "IPY_MODEL_27c89d8328c249ecbcd508083b8cbfac",
      "value": "100%"
     }
    },
    "18ad9d7b16b041d797c6b69ea6f35d1f": {
     "model_module": "@jupyter-widgets/base",
     "model_module_version": "1.2.0",
     "model_name": "LayoutModel",
     "state": {
      "_model_module": "@jupyter-widgets/base",
      "_model_module_version": "1.2.0",
      "_model_name": "LayoutModel",
      "_view_count": null,
      "_view_module": "@jupyter-widgets/base",
      "_view_module_version": "1.2.0",
      "_view_name": "LayoutView",
      "align_content": null,
      "align_items": null,
      "align_self": null,
      "border": null,
      "bottom": null,
      "display": null,
      "flex": null,
      "flex_flow": null,
      "grid_area": null,
      "grid_auto_columns": null,
      "grid_auto_flow": null,
      "grid_auto_rows": null,
      "grid_column": null,
      "grid_gap": null,
      "grid_row": null,
      "grid_template_areas": null,
      "grid_template_columns": null,
      "grid_template_rows": null,
      "height": null,
      "justify_content": null,
      "justify_items": null,
      "left": null,
      "margin": null,
      "max_height": null,
      "max_width": null,
      "min_height": null,
      "min_width": null,
      "object_fit": null,
      "object_position": null,
      "order": null,
      "overflow": null,
      "overflow_x": null,
      "overflow_y": null,
      "padding": null,
      "right": null,
      "top": null,
      "visibility": null,
      "width": null
     }
    },
    "1f3e5eb75b494f6d8000f1f9a206ce93": {
     "model_module": "@jupyter-widgets/controls",
     "model_module_version": "1.5.0",
     "model_name": "DescriptionStyleModel",
     "state": {
      "_model_module": "@jupyter-widgets/controls",
      "_model_module_version": "1.5.0",
      "_model_name": "DescriptionStyleModel",
      "_view_count": null,
      "_view_module": "@jupyter-widgets/base",
      "_view_module_version": "1.2.0",
      "_view_name": "StyleView",
      "description_width": ""
     }
    },
    "1fe38c87494249eca1a8760d1f127822": {
     "model_module": "@jupyter-widgets/base",
     "model_module_version": "1.2.0",
     "model_name": "LayoutModel",
     "state": {
      "_model_module": "@jupyter-widgets/base",
      "_model_module_version": "1.2.0",
      "_model_name": "LayoutModel",
      "_view_count": null,
      "_view_module": "@jupyter-widgets/base",
      "_view_module_version": "1.2.0",
      "_view_name": "LayoutView",
      "align_content": null,
      "align_items": null,
      "align_self": null,
      "border": null,
      "bottom": null,
      "display": null,
      "flex": null,
      "flex_flow": null,
      "grid_area": null,
      "grid_auto_columns": null,
      "grid_auto_flow": null,
      "grid_auto_rows": null,
      "grid_column": null,
      "grid_gap": null,
      "grid_row": null,
      "grid_template_areas": null,
      "grid_template_columns": null,
      "grid_template_rows": null,
      "height": null,
      "justify_content": null,
      "justify_items": null,
      "left": null,
      "margin": null,
      "max_height": null,
      "max_width": null,
      "min_height": null,
      "min_width": null,
      "object_fit": null,
      "object_position": null,
      "order": null,
      "overflow": null,
      "overflow_x": null,
      "overflow_y": null,
      "padding": null,
      "right": null,
      "top": null,
      "visibility": null,
      "width": null
     }
    },
    "2268ae54c03e40a79114748517e599c4": {
     "model_module": "@jupyter-widgets/controls",
     "model_module_version": "1.5.0",
     "model_name": "HBoxModel",
     "state": {
      "_dom_classes": [],
      "_model_module": "@jupyter-widgets/controls",
      "_model_module_version": "1.5.0",
      "_model_name": "HBoxModel",
      "_view_count": null,
      "_view_module": "@jupyter-widgets/controls",
      "_view_module_version": "1.5.0",
      "_view_name": "HBoxView",
      "box_style": "",
      "children": [
       "IPY_MODEL_c3b605fe68e042ddb76a7ec19a650464",
       "IPY_MODEL_d89e29642e8140df8099ea0f966a26e5",
       "IPY_MODEL_246792c70fb7496c9cc1fefcf35f1adc"
      ],
      "layout": "IPY_MODEL_cfd8811d0955492a813f62890c4fe1c2"
     }
    },
    "246792c70fb7496c9cc1fefcf35f1adc": {
     "model_module": "@jupyter-widgets/controls",
     "model_module_version": "1.5.0",
     "model_name": "HTMLModel",
     "state": {
      "_dom_classes": [],
      "_model_module": "@jupyter-widgets/controls",
      "_model_module_version": "1.5.0",
      "_model_name": "HTMLModel",
      "_view_count": null,
      "_view_module": "@jupyter-widgets/controls",
      "_view_module_version": "1.5.0",
      "_view_name": "HTMLView",
      "description": "",
      "description_tooltip": null,
      "layout": "IPY_MODEL_c55024096de849e1985c0faa347c18ed",
      "placeholder": "​",
      "style": "IPY_MODEL_3c855e7e4f1b42a69427759db25fd5fe",
      "value": " 2210/2210 [00:00&lt;00:00, 4802.69it/s]"
     }
    },
    "2642c03e392341deba669d55cebfa884": {
     "model_module": "@jupyter-widgets/controls",
     "model_module_version": "1.5.0",
     "model_name": "FloatProgressModel",
     "state": {
      "_dom_classes": [],
      "_model_module": "@jupyter-widgets/controls",
      "_model_module_version": "1.5.0",
      "_model_name": "FloatProgressModel",
      "_view_count": null,
      "_view_module": "@jupyter-widgets/controls",
      "_view_module_version": "1.5.0",
      "_view_name": "ProgressView",
      "bar_style": "success",
      "description": "",
      "description_tooltip": null,
      "layout": "IPY_MODEL_1fe38c87494249eca1a8760d1f127822",
      "max": 8544,
      "min": 0,
      "orientation": "horizontal",
      "style": "IPY_MODEL_c422e1982da144dfba8be66156f457f6",
      "value": 8544
     }
    },
    "27c89d8328c249ecbcd508083b8cbfac": {
     "model_module": "@jupyter-widgets/controls",
     "model_module_version": "1.5.0",
     "model_name": "DescriptionStyleModel",
     "state": {
      "_model_module": "@jupyter-widgets/controls",
      "_model_module_version": "1.5.0",
      "_model_name": "DescriptionStyleModel",
      "_view_count": null,
      "_view_module": "@jupyter-widgets/base",
      "_view_module_version": "1.2.0",
      "_view_name": "StyleView",
      "description_width": ""
     }
    },
    "2cfc25e0a71f468aa7ab24bac3da2a4e": {
     "model_module": "@jupyter-widgets/controls",
     "model_module_version": "1.5.0",
     "model_name": "DescriptionStyleModel",
     "state": {
      "_model_module": "@jupyter-widgets/controls",
      "_model_module_version": "1.5.0",
      "_model_name": "DescriptionStyleModel",
      "_view_count": null,
      "_view_module": "@jupyter-widgets/base",
      "_view_module_version": "1.2.0",
      "_view_name": "StyleView",
      "description_width": ""
     }
    },
    "30367d1ccbdf4222a88d0c1d38d6f3a5": {
     "model_module": "@jupyter-widgets/base",
     "model_module_version": "1.2.0",
     "model_name": "LayoutModel",
     "state": {
      "_model_module": "@jupyter-widgets/base",
      "_model_module_version": "1.2.0",
      "_model_name": "LayoutModel",
      "_view_count": null,
      "_view_module": "@jupyter-widgets/base",
      "_view_module_version": "1.2.0",
      "_view_name": "LayoutView",
      "align_content": null,
      "align_items": null,
      "align_self": null,
      "border": null,
      "bottom": null,
      "display": null,
      "flex": null,
      "flex_flow": null,
      "grid_area": null,
      "grid_auto_columns": null,
      "grid_auto_flow": null,
      "grid_auto_rows": null,
      "grid_column": null,
      "grid_gap": null,
      "grid_row": null,
      "grid_template_areas": null,
      "grid_template_columns": null,
      "grid_template_rows": null,
      "height": null,
      "justify_content": null,
      "justify_items": null,
      "left": null,
      "margin": null,
      "max_height": null,
      "max_width": null,
      "min_height": null,
      "min_width": null,
      "object_fit": null,
      "object_position": null,
      "order": null,
      "overflow": null,
      "overflow_x": null,
      "overflow_y": null,
      "padding": null,
      "right": null,
      "top": null,
      "visibility": null,
      "width": null
     }
    },
    "303b4936aafa408f8ace4c95b7a717b4": {
     "model_module": "@jupyter-widgets/controls",
     "model_module_version": "1.5.0",
     "model_name": "DescriptionStyleModel",
     "state": {
      "_model_module": "@jupyter-widgets/controls",
      "_model_module_version": "1.5.0",
      "_model_name": "DescriptionStyleModel",
      "_view_count": null,
      "_view_module": "@jupyter-widgets/base",
      "_view_module_version": "1.2.0",
      "_view_name": "StyleView",
      "description_width": ""
     }
    },
    "357e10cfcd354aeea97f2e97fe7f343d": {
     "model_module": "@jupyter-widgets/base",
     "model_module_version": "1.2.0",
     "model_name": "LayoutModel",
     "state": {
      "_model_module": "@jupyter-widgets/base",
      "_model_module_version": "1.2.0",
      "_model_name": "LayoutModel",
      "_view_count": null,
      "_view_module": "@jupyter-widgets/base",
      "_view_module_version": "1.2.0",
      "_view_name": "LayoutView",
      "align_content": null,
      "align_items": null,
      "align_self": null,
      "border": null,
      "bottom": null,
      "display": null,
      "flex": null,
      "flex_flow": null,
      "grid_area": null,
      "grid_auto_columns": null,
      "grid_auto_flow": null,
      "grid_auto_rows": null,
      "grid_column": null,
      "grid_gap": null,
      "grid_row": null,
      "grid_template_areas": null,
      "grid_template_columns": null,
      "grid_template_rows": null,
      "height": null,
      "justify_content": null,
      "justify_items": null,
      "left": null,
      "margin": null,
      "max_height": null,
      "max_width": null,
      "min_height": null,
      "min_width": null,
      "object_fit": null,
      "object_position": null,
      "order": null,
      "overflow": null,
      "overflow_x": null,
      "overflow_y": null,
      "padding": null,
      "right": null,
      "top": null,
      "visibility": null,
      "width": null
     }
    },
    "38eab7379b644db59a103f9bc020fad9": {
     "model_module": "@jupyter-widgets/controls",
     "model_module_version": "1.5.0",
     "model_name": "HTMLModel",
     "state": {
      "_dom_classes": [],
      "_model_module": "@jupyter-widgets/controls",
      "_model_module_version": "1.5.0",
      "_model_name": "HTMLModel",
      "_view_count": null,
      "_view_module": "@jupyter-widgets/controls",
      "_view_module_version": "1.5.0",
      "_view_name": "HTMLView",
      "description": "",
      "description_tooltip": null,
      "layout": "IPY_MODEL_357e10cfcd354aeea97f2e97fe7f343d",
      "placeholder": "​",
      "style": "IPY_MODEL_f449db5b8a3447e6b6d529a4822600ec",
      "value": " 2210/2210 [00:00&lt;00:00, 4707.22it/s]"
     }
    },
    "3c855e7e4f1b42a69427759db25fd5fe": {
     "model_module": "@jupyter-widgets/controls",
     "model_module_version": "1.5.0",
     "model_name": "DescriptionStyleModel",
     "state": {
      "_model_module": "@jupyter-widgets/controls",
      "_model_module_version": "1.5.0",
      "_model_name": "DescriptionStyleModel",
      "_view_count": null,
      "_view_module": "@jupyter-widgets/base",
      "_view_module_version": "1.2.0",
      "_view_name": "StyleView",
      "description_width": ""
     }
    },
    "3e6b0f9392904d589dab63559b6839bc": {
     "model_module": "@jupyter-widgets/controls",
     "model_module_version": "1.5.0",
     "model_name": "DescriptionStyleModel",
     "state": {
      "_model_module": "@jupyter-widgets/controls",
      "_model_module_version": "1.5.0",
      "_model_name": "DescriptionStyleModel",
      "_view_count": null,
      "_view_module": "@jupyter-widgets/base",
      "_view_module_version": "1.2.0",
      "_view_name": "StyleView",
      "description_width": ""
     }
    },
    "4c54ef09b79c4e9587a8d82ec0d5b75b": {
     "model_module": "@jupyter-widgets/controls",
     "model_module_version": "1.5.0",
     "model_name": "ProgressStyleModel",
     "state": {
      "_model_module": "@jupyter-widgets/controls",
      "_model_module_version": "1.5.0",
      "_model_name": "ProgressStyleModel",
      "_view_count": null,
      "_view_module": "@jupyter-widgets/base",
      "_view_module_version": "1.2.0",
      "_view_name": "StyleView",
      "bar_color": null,
      "description_width": ""
     }
    },
    "4d767d13e98d4c38a0964b797ebe115c": {
     "model_module": "@jupyter-widgets/base",
     "model_module_version": "1.2.0",
     "model_name": "LayoutModel",
     "state": {
      "_model_module": "@jupyter-widgets/base",
      "_model_module_version": "1.2.0",
      "_model_name": "LayoutModel",
      "_view_count": null,
      "_view_module": "@jupyter-widgets/base",
      "_view_module_version": "1.2.0",
      "_view_name": "LayoutView",
      "align_content": null,
      "align_items": null,
      "align_self": null,
      "border": null,
      "bottom": null,
      "display": null,
      "flex": null,
      "flex_flow": null,
      "grid_area": null,
      "grid_auto_columns": null,
      "grid_auto_flow": null,
      "grid_auto_rows": null,
      "grid_column": null,
      "grid_gap": null,
      "grid_row": null,
      "grid_template_areas": null,
      "grid_template_columns": null,
      "grid_template_rows": null,
      "height": null,
      "justify_content": null,
      "justify_items": null,
      "left": null,
      "margin": null,
      "max_height": null,
      "max_width": null,
      "min_height": null,
      "min_width": null,
      "object_fit": null,
      "object_position": null,
      "order": null,
      "overflow": null,
      "overflow_x": null,
      "overflow_y": null,
      "padding": null,
      "right": null,
      "top": null,
      "visibility": null,
      "width": null
     }
    },
    "502eeb1294124fd5b3ea37b6c03780c8": {
     "model_module": "@jupyter-widgets/base",
     "model_module_version": "1.2.0",
     "model_name": "LayoutModel",
     "state": {
      "_model_module": "@jupyter-widgets/base",
      "_model_module_version": "1.2.0",
      "_model_name": "LayoutModel",
      "_view_count": null,
      "_view_module": "@jupyter-widgets/base",
      "_view_module_version": "1.2.0",
      "_view_name": "LayoutView",
      "align_content": null,
      "align_items": null,
      "align_self": null,
      "border": null,
      "bottom": null,
      "display": null,
      "flex": null,
      "flex_flow": null,
      "grid_area": null,
      "grid_auto_columns": null,
      "grid_auto_flow": null,
      "grid_auto_rows": null,
      "grid_column": null,
      "grid_gap": null,
      "grid_row": null,
      "grid_template_areas": null,
      "grid_template_columns": null,
      "grid_template_rows": null,
      "height": null,
      "justify_content": null,
      "justify_items": null,
      "left": null,
      "margin": null,
      "max_height": null,
      "max_width": null,
      "min_height": null,
      "min_width": null,
      "object_fit": null,
      "object_position": null,
      "order": null,
      "overflow": null,
      "overflow_x": null,
      "overflow_y": null,
      "padding": null,
      "right": null,
      "top": null,
      "visibility": null,
      "width": null
     }
    },
    "51457d2f9158453188ed35f80abaeb78": {
     "model_module": "@jupyter-widgets/base",
     "model_module_version": "1.2.0",
     "model_name": "LayoutModel",
     "state": {
      "_model_module": "@jupyter-widgets/base",
      "_model_module_version": "1.2.0",
      "_model_name": "LayoutModel",
      "_view_count": null,
      "_view_module": "@jupyter-widgets/base",
      "_view_module_version": "1.2.0",
      "_view_name": "LayoutView",
      "align_content": null,
      "align_items": null,
      "align_self": null,
      "border": null,
      "bottom": null,
      "display": null,
      "flex": null,
      "flex_flow": null,
      "grid_area": null,
      "grid_auto_columns": null,
      "grid_auto_flow": null,
      "grid_auto_rows": null,
      "grid_column": null,
      "grid_gap": null,
      "grid_row": null,
      "grid_template_areas": null,
      "grid_template_columns": null,
      "grid_template_rows": null,
      "height": null,
      "justify_content": null,
      "justify_items": null,
      "left": null,
      "margin": null,
      "max_height": null,
      "max_width": null,
      "min_height": null,
      "min_width": null,
      "object_fit": null,
      "object_position": null,
      "order": null,
      "overflow": null,
      "overflow_x": null,
      "overflow_y": null,
      "padding": null,
      "right": null,
      "top": null,
      "visibility": null,
      "width": null
     }
    },
    "52df4cc3319f41e99340f0a1ac664fdd": {
     "model_module": "@jupyter-widgets/controls",
     "model_module_version": "1.5.0",
     "model_name": "FloatProgressModel",
     "state": {
      "_dom_classes": [],
      "_model_module": "@jupyter-widgets/controls",
      "_model_module_version": "1.5.0",
      "_model_name": "FloatProgressModel",
      "_view_count": null,
      "_view_module": "@jupyter-widgets/controls",
      "_view_module_version": "1.5.0",
      "_view_name": "ProgressView",
      "bar_style": "success",
      "description": "",
      "description_tooltip": null,
      "layout": "IPY_MODEL_ec88ffe8c0d84e6b99373929a26eafc0",
      "max": 2210,
      "min": 0,
      "orientation": "horizontal",
      "style": "IPY_MODEL_150b8d72ddad41d39801cc5001e28760",
      "value": 2210
     }
    },
    "559718ff96564e5dbff2062b440d75ba": {
     "model_module": "@jupyter-widgets/base",
     "model_module_version": "1.2.0",
     "model_name": "LayoutModel",
     "state": {
      "_model_module": "@jupyter-widgets/base",
      "_model_module_version": "1.2.0",
      "_model_name": "LayoutModel",
      "_view_count": null,
      "_view_module": "@jupyter-widgets/base",
      "_view_module_version": "1.2.0",
      "_view_name": "LayoutView",
      "align_content": null,
      "align_items": null,
      "align_self": null,
      "border": null,
      "bottom": null,
      "display": null,
      "flex": null,
      "flex_flow": null,
      "grid_area": null,
      "grid_auto_columns": null,
      "grid_auto_flow": null,
      "grid_auto_rows": null,
      "grid_column": null,
      "grid_gap": null,
      "grid_row": null,
      "grid_template_areas": null,
      "grid_template_columns": null,
      "grid_template_rows": null,
      "height": null,
      "justify_content": null,
      "justify_items": null,
      "left": null,
      "margin": null,
      "max_height": null,
      "max_width": null,
      "min_height": null,
      "min_width": null,
      "object_fit": null,
      "object_position": null,
      "order": null,
      "overflow": null,
      "overflow_x": null,
      "overflow_y": null,
      "padding": null,
      "right": null,
      "top": null,
      "visibility": null,
      "width": null
     }
    },
    "624375b83d6d402f9adfaf6b0a5de08b": {
     "model_module": "@jupyter-widgets/controls",
     "model_module_version": "1.5.0",
     "model_name": "ProgressStyleModel",
     "state": {
      "_model_module": "@jupyter-widgets/controls",
      "_model_module_version": "1.5.0",
      "_model_name": "ProgressStyleModel",
      "_view_count": null,
      "_view_module": "@jupyter-widgets/base",
      "_view_module_version": "1.2.0",
      "_view_name": "StyleView",
      "bar_color": null,
      "description_width": ""
     }
    },
    "69798d61927241a6902c116e8ff091d1": {
     "model_module": "@jupyter-widgets/base",
     "model_module_version": "1.2.0",
     "model_name": "LayoutModel",
     "state": {
      "_model_module": "@jupyter-widgets/base",
      "_model_module_version": "1.2.0",
      "_model_name": "LayoutModel",
      "_view_count": null,
      "_view_module": "@jupyter-widgets/base",
      "_view_module_version": "1.2.0",
      "_view_name": "LayoutView",
      "align_content": null,
      "align_items": null,
      "align_self": null,
      "border": null,
      "bottom": null,
      "display": null,
      "flex": null,
      "flex_flow": null,
      "grid_area": null,
      "grid_auto_columns": null,
      "grid_auto_flow": null,
      "grid_auto_rows": null,
      "grid_column": null,
      "grid_gap": null,
      "grid_row": null,
      "grid_template_areas": null,
      "grid_template_columns": null,
      "grid_template_rows": null,
      "height": null,
      "justify_content": null,
      "justify_items": null,
      "left": null,
      "margin": null,
      "max_height": null,
      "max_width": null,
      "min_height": null,
      "min_width": null,
      "object_fit": null,
      "object_position": null,
      "order": null,
      "overflow": null,
      "overflow_x": null,
      "overflow_y": null,
      "padding": null,
      "right": null,
      "top": null,
      "visibility": null,
      "width": null
     }
    },
    "6ce6cf63c537455e97ad70e4e5cc35cf": {
     "model_module": "@jupyter-widgets/base",
     "model_module_version": "1.2.0",
     "model_name": "LayoutModel",
     "state": {
      "_model_module": "@jupyter-widgets/base",
      "_model_module_version": "1.2.0",
      "_model_name": "LayoutModel",
      "_view_count": null,
      "_view_module": "@jupyter-widgets/base",
      "_view_module_version": "1.2.0",
      "_view_name": "LayoutView",
      "align_content": null,
      "align_items": null,
      "align_self": null,
      "border": null,
      "bottom": null,
      "display": null,
      "flex": null,
      "flex_flow": null,
      "grid_area": null,
      "grid_auto_columns": null,
      "grid_auto_flow": null,
      "grid_auto_rows": null,
      "grid_column": null,
      "grid_gap": null,
      "grid_row": null,
      "grid_template_areas": null,
      "grid_template_columns": null,
      "grid_template_rows": null,
      "height": null,
      "justify_content": null,
      "justify_items": null,
      "left": null,
      "margin": null,
      "max_height": null,
      "max_width": null,
      "min_height": null,
      "min_width": null,
      "object_fit": null,
      "object_position": null,
      "order": null,
      "overflow": null,
      "overflow_x": null,
      "overflow_y": null,
      "padding": null,
      "right": null,
      "top": null,
      "visibility": null,
      "width": null
     }
    },
    "73d081087a914b35a21a6cf62212d3c8": {
     "model_module": "@jupyter-widgets/controls",
     "model_module_version": "1.5.0",
     "model_name": "HBoxModel",
     "state": {
      "_dom_classes": [],
      "_model_module": "@jupyter-widgets/controls",
      "_model_module_version": "1.5.0",
      "_model_name": "HBoxModel",
      "_view_count": null,
      "_view_module": "@jupyter-widgets/controls",
      "_view_module_version": "1.5.0",
      "_view_name": "HBoxView",
      "box_style": "",
      "children": [
       "IPY_MODEL_f766a02eb67c4d9fb1715170faf5f61b",
       "IPY_MODEL_52df4cc3319f41e99340f0a1ac664fdd",
       "IPY_MODEL_cbc13a568db6430f8adc01e70498236f"
      ],
      "layout": "IPY_MODEL_ab64366e3e874301bdc7b3908230ffed"
     }
    },
    "74ad2264a46e4513b17080933ea99127": {
     "model_module": "@jupyter-widgets/controls",
     "model_module_version": "1.5.0",
     "model_name": "DescriptionStyleModel",
     "state": {
      "_model_module": "@jupyter-widgets/controls",
      "_model_module_version": "1.5.0",
      "_model_name": "DescriptionStyleModel",
      "_view_count": null,
      "_view_module": "@jupyter-widgets/base",
      "_view_module_version": "1.2.0",
      "_view_name": "StyleView",
      "description_width": ""
     }
    },
    "753b2daf70464042be8f62d513ada565": {
     "model_module": "@jupyter-widgets/controls",
     "model_module_version": "1.5.0",
     "model_name": "HBoxModel",
     "state": {
      "_dom_classes": [],
      "_model_module": "@jupyter-widgets/controls",
      "_model_module_version": "1.5.0",
      "_model_name": "HBoxModel",
      "_view_count": null,
      "_view_module": "@jupyter-widgets/controls",
      "_view_module_version": "1.5.0",
      "_view_name": "HBoxView",
      "box_style": "",
      "children": [
       "IPY_MODEL_a363c7151eb3443eb1c7758117d1ae0a",
       "IPY_MODEL_2642c03e392341deba669d55cebfa884",
       "IPY_MODEL_ec853a1a1bdc484ca9a71d83149488e6"
      ],
      "layout": "IPY_MODEL_69798d61927241a6902c116e8ff091d1"
     }
    },
    "77f0d12b2c284733bfbb9dbea6edde2e": {
     "model_module": "@jupyter-widgets/controls",
     "model_module_version": "1.5.0",
     "model_name": "DescriptionStyleModel",
     "state": {
      "_model_module": "@jupyter-widgets/controls",
      "_model_module_version": "1.5.0",
      "_model_name": "DescriptionStyleModel",
      "_view_count": null,
      "_view_module": "@jupyter-widgets/base",
      "_view_module_version": "1.2.0",
      "_view_name": "StyleView",
      "description_width": ""
     }
    },
    "79b91134e7b3429391079ced17473af8": {
     "model_module": "@jupyter-widgets/base",
     "model_module_version": "1.2.0",
     "model_name": "LayoutModel",
     "state": {
      "_model_module": "@jupyter-widgets/base",
      "_model_module_version": "1.2.0",
      "_model_name": "LayoutModel",
      "_view_count": null,
      "_view_module": "@jupyter-widgets/base",
      "_view_module_version": "1.2.0",
      "_view_name": "LayoutView",
      "align_content": null,
      "align_items": null,
      "align_self": null,
      "border": null,
      "bottom": null,
      "display": null,
      "flex": null,
      "flex_flow": null,
      "grid_area": null,
      "grid_auto_columns": null,
      "grid_auto_flow": null,
      "grid_auto_rows": null,
      "grid_column": null,
      "grid_gap": null,
      "grid_row": null,
      "grid_template_areas": null,
      "grid_template_columns": null,
      "grid_template_rows": null,
      "height": null,
      "justify_content": null,
      "justify_items": null,
      "left": null,
      "margin": null,
      "max_height": null,
      "max_width": null,
      "min_height": null,
      "min_width": null,
      "object_fit": null,
      "object_position": null,
      "order": null,
      "overflow": null,
      "overflow_x": null,
      "overflow_y": null,
      "padding": null,
      "right": null,
      "top": null,
      "visibility": null,
      "width": null
     }
    },
    "7ae01872527b4a6f88a74d9e91bdb3b0": {
     "model_module": "@jupyter-widgets/base",
     "model_module_version": "1.2.0",
     "model_name": "LayoutModel",
     "state": {
      "_model_module": "@jupyter-widgets/base",
      "_model_module_version": "1.2.0",
      "_model_name": "LayoutModel",
      "_view_count": null,
      "_view_module": "@jupyter-widgets/base",
      "_view_module_version": "1.2.0",
      "_view_name": "LayoutView",
      "align_content": null,
      "align_items": null,
      "align_self": null,
      "border": null,
      "bottom": null,
      "display": null,
      "flex": null,
      "flex_flow": null,
      "grid_area": null,
      "grid_auto_columns": null,
      "grid_auto_flow": null,
      "grid_auto_rows": null,
      "grid_column": null,
      "grid_gap": null,
      "grid_row": null,
      "grid_template_areas": null,
      "grid_template_columns": null,
      "grid_template_rows": null,
      "height": null,
      "justify_content": null,
      "justify_items": null,
      "left": null,
      "margin": null,
      "max_height": null,
      "max_width": null,
      "min_height": null,
      "min_width": null,
      "object_fit": null,
      "object_position": null,
      "order": null,
      "overflow": null,
      "overflow_x": null,
      "overflow_y": null,
      "padding": null,
      "right": null,
      "top": null,
      "visibility": null,
      "width": null
     }
    },
    "7cce8cdb00b7499b96dca79bda6a6fd5": {
     "model_module": "@jupyter-widgets/controls",
     "model_module_version": "1.5.0",
     "model_name": "FloatProgressModel",
     "state": {
      "_dom_classes": [],
      "_model_module": "@jupyter-widgets/controls",
      "_model_module_version": "1.5.0",
      "_model_name": "FloatProgressModel",
      "_view_count": null,
      "_view_module": "@jupyter-widgets/controls",
      "_view_module_version": "1.5.0",
      "_view_name": "ProgressView",
      "bar_style": "success",
      "description": "",
      "description_tooltip": null,
      "layout": "IPY_MODEL_e913a9ba3fc745f7b7586e765c61dad8",
      "max": 8544,
      "min": 0,
      "orientation": "horizontal",
      "style": "IPY_MODEL_800b8f3106b6421b865e077b03ff5a95",
      "value": 8544
     }
    },
    "800b8f3106b6421b865e077b03ff5a95": {
     "model_module": "@jupyter-widgets/controls",
     "model_module_version": "1.5.0",
     "model_name": "ProgressStyleModel",
     "state": {
      "_model_module": "@jupyter-widgets/controls",
      "_model_module_version": "1.5.0",
      "_model_name": "ProgressStyleModel",
      "_view_count": null,
      "_view_module": "@jupyter-widgets/base",
      "_view_module_version": "1.2.0",
      "_view_name": "StyleView",
      "bar_color": null,
      "description_width": ""
     }
    },
    "847e59f0305c4ff28eb45937a6f6aa87": {
     "model_module": "@jupyter-widgets/controls",
     "model_module_version": "1.5.0",
     "model_name": "FloatProgressModel",
     "state": {
      "_dom_classes": [],
      "_model_module": "@jupyter-widgets/controls",
      "_model_module_version": "1.5.0",
      "_model_name": "FloatProgressModel",
      "_view_count": null,
      "_view_module": "@jupyter-widgets/controls",
      "_view_module_version": "1.5.0",
      "_view_name": "ProgressView",
      "bar_style": "success",
      "description": "",
      "description_tooltip": null,
      "layout": "IPY_MODEL_ac703d6b6bbf4eb7ba4863e31b7e1ecc",
      "max": 2210,
      "min": 0,
      "orientation": "horizontal",
      "style": "IPY_MODEL_624375b83d6d402f9adfaf6b0a5de08b",
      "value": 2210
     }
    },
    "93a62b3f15f94ff7b44ff43aa177e96e": {
     "model_module": "@jupyter-widgets/base",
     "model_module_version": "1.2.0",
     "model_name": "LayoutModel",
     "state": {
      "_model_module": "@jupyter-widgets/base",
      "_model_module_version": "1.2.0",
      "_model_name": "LayoutModel",
      "_view_count": null,
      "_view_module": "@jupyter-widgets/base",
      "_view_module_version": "1.2.0",
      "_view_name": "LayoutView",
      "align_content": null,
      "align_items": null,
      "align_self": null,
      "border": null,
      "bottom": null,
      "display": null,
      "flex": null,
      "flex_flow": null,
      "grid_area": null,
      "grid_auto_columns": null,
      "grid_auto_flow": null,
      "grid_auto_rows": null,
      "grid_column": null,
      "grid_gap": null,
      "grid_row": null,
      "grid_template_areas": null,
      "grid_template_columns": null,
      "grid_template_rows": null,
      "height": null,
      "justify_content": null,
      "justify_items": null,
      "left": null,
      "margin": null,
      "max_height": null,
      "max_width": null,
      "min_height": null,
      "min_width": null,
      "object_fit": null,
      "object_position": null,
      "order": null,
      "overflow": null,
      "overflow_x": null,
      "overflow_y": null,
      "padding": null,
      "right": null,
      "top": null,
      "visibility": null,
      "width": null
     }
    },
    "94584913477543b3ab210db470e6706d": {
     "model_module": "@jupyter-widgets/base",
     "model_module_version": "1.2.0",
     "model_name": "LayoutModel",
     "state": {
      "_model_module": "@jupyter-widgets/base",
      "_model_module_version": "1.2.0",
      "_model_name": "LayoutModel",
      "_view_count": null,
      "_view_module": "@jupyter-widgets/base",
      "_view_module_version": "1.2.0",
      "_view_name": "LayoutView",
      "align_content": null,
      "align_items": null,
      "align_self": null,
      "border": null,
      "bottom": null,
      "display": null,
      "flex": null,
      "flex_flow": null,
      "grid_area": null,
      "grid_auto_columns": null,
      "grid_auto_flow": null,
      "grid_auto_rows": null,
      "grid_column": null,
      "grid_gap": null,
      "grid_row": null,
      "grid_template_areas": null,
      "grid_template_columns": null,
      "grid_template_rows": null,
      "height": null,
      "justify_content": null,
      "justify_items": null,
      "left": null,
      "margin": null,
      "max_height": null,
      "max_width": null,
      "min_height": null,
      "min_width": null,
      "object_fit": null,
      "object_position": null,
      "order": null,
      "overflow": null,
      "overflow_x": null,
      "overflow_y": null,
      "padding": null,
      "right": null,
      "top": null,
      "visibility": null,
      "width": null
     }
    },
    "98016d7b71b345bbb4ad139f0742fa00": {
     "model_module": "@jupyter-widgets/controls",
     "model_module_version": "1.5.0",
     "model_name": "HBoxModel",
     "state": {
      "_dom_classes": [],
      "_model_module": "@jupyter-widgets/controls",
      "_model_module_version": "1.5.0",
      "_model_name": "HBoxModel",
      "_view_count": null,
      "_view_module": "@jupyter-widgets/controls",
      "_view_module_version": "1.5.0",
      "_view_name": "HBoxView",
      "box_style": "",
      "children": [
       "IPY_MODEL_15e28dedbadd45f385295712bf610722",
       "IPY_MODEL_7cce8cdb00b7499b96dca79bda6a6fd5",
       "IPY_MODEL_13cbf4dd63064d6f8e9d59675f0ce7a7"
      ],
      "layout": "IPY_MODEL_559718ff96564e5dbff2062b440d75ba"
     }
    },
    "9b13712f54914caeaaca727e4ae3d3c8": {
     "model_module": "@jupyter-widgets/controls",
     "model_module_version": "1.5.0",
     "model_name": "DescriptionStyleModel",
     "state": {
      "_model_module": "@jupyter-widgets/controls",
      "_model_module_version": "1.5.0",
      "_model_name": "DescriptionStyleModel",
      "_view_count": null,
      "_view_module": "@jupyter-widgets/base",
      "_view_module_version": "1.2.0",
      "_view_name": "StyleView",
      "description_width": ""
     }
    },
    "9cdc48fd39b64bf38a1fa6db900cfe5b": {
     "model_module": "@jupyter-widgets/controls",
     "model_module_version": "1.5.0",
     "model_name": "HTMLModel",
     "state": {
      "_dom_classes": [],
      "_model_module": "@jupyter-widgets/controls",
      "_model_module_version": "1.5.0",
      "_model_name": "HTMLModel",
      "_view_count": null,
      "_view_module": "@jupyter-widgets/controls",
      "_view_module_version": "1.5.0",
      "_view_name": "HTMLView",
      "description": "",
      "description_tooltip": null,
      "layout": "IPY_MODEL_502eeb1294124fd5b3ea37b6c03780c8",
      "placeholder": "​",
      "style": "IPY_MODEL_303b4936aafa408f8ace4c95b7a717b4",
      "value": "100%"
     }
    },
    "a363c7151eb3443eb1c7758117d1ae0a": {
     "model_module": "@jupyter-widgets/controls",
     "model_module_version": "1.5.0",
     "model_name": "HTMLModel",
     "state": {
      "_dom_classes": [],
      "_model_module": "@jupyter-widgets/controls",
      "_model_module_version": "1.5.0",
      "_model_name": "HTMLModel",
      "_view_count": null,
      "_view_module": "@jupyter-widgets/controls",
      "_view_module_version": "1.5.0",
      "_view_name": "HTMLView",
      "description": "",
      "description_tooltip": null,
      "layout": "IPY_MODEL_30367d1ccbdf4222a88d0c1d38d6f3a5",
      "placeholder": "​",
      "style": "IPY_MODEL_74ad2264a46e4513b17080933ea99127",
      "value": "100%"
     }
    },
    "ab64366e3e874301bdc7b3908230ffed": {
     "model_module": "@jupyter-widgets/base",
     "model_module_version": "1.2.0",
     "model_name": "LayoutModel",
     "state": {
      "_model_module": "@jupyter-widgets/base",
      "_model_module_version": "1.2.0",
      "_model_name": "LayoutModel",
      "_view_count": null,
      "_view_module": "@jupyter-widgets/base",
      "_view_module_version": "1.2.0",
      "_view_name": "LayoutView",
      "align_content": null,
      "align_items": null,
      "align_self": null,
      "border": null,
      "bottom": null,
      "display": null,
      "flex": null,
      "flex_flow": null,
      "grid_area": null,
      "grid_auto_columns": null,
      "grid_auto_flow": null,
      "grid_auto_rows": null,
      "grid_column": null,
      "grid_gap": null,
      "grid_row": null,
      "grid_template_areas": null,
      "grid_template_columns": null,
      "grid_template_rows": null,
      "height": null,
      "justify_content": null,
      "justify_items": null,
      "left": null,
      "margin": null,
      "max_height": null,
      "max_width": null,
      "min_height": null,
      "min_width": null,
      "object_fit": null,
      "object_position": null,
      "order": null,
      "overflow": null,
      "overflow_x": null,
      "overflow_y": null,
      "padding": null,
      "right": null,
      "top": null,
      "visibility": null,
      "width": null
     }
    },
    "ac703d6b6bbf4eb7ba4863e31b7e1ecc": {
     "model_module": "@jupyter-widgets/base",
     "model_module_version": "1.2.0",
     "model_name": "LayoutModel",
     "state": {
      "_model_module": "@jupyter-widgets/base",
      "_model_module_version": "1.2.0",
      "_model_name": "LayoutModel",
      "_view_count": null,
      "_view_module": "@jupyter-widgets/base",
      "_view_module_version": "1.2.0",
      "_view_name": "LayoutView",
      "align_content": null,
      "align_items": null,
      "align_self": null,
      "border": null,
      "bottom": null,
      "display": null,
      "flex": null,
      "flex_flow": null,
      "grid_area": null,
      "grid_auto_columns": null,
      "grid_auto_flow": null,
      "grid_auto_rows": null,
      "grid_column": null,
      "grid_gap": null,
      "grid_row": null,
      "grid_template_areas": null,
      "grid_template_columns": null,
      "grid_template_rows": null,
      "height": null,
      "justify_content": null,
      "justify_items": null,
      "left": null,
      "margin": null,
      "max_height": null,
      "max_width": null,
      "min_height": null,
      "min_width": null,
      "object_fit": null,
      "object_position": null,
      "order": null,
      "overflow": null,
      "overflow_x": null,
      "overflow_y": null,
      "padding": null,
      "right": null,
      "top": null,
      "visibility": null,
      "width": null
     }
    },
    "bf8e990ab56e42bb93f9d90b48a7fb76": {
     "model_module": "@jupyter-widgets/controls",
     "model_module_version": "1.5.0",
     "model_name": "DescriptionStyleModel",
     "state": {
      "_model_module": "@jupyter-widgets/controls",
      "_model_module_version": "1.5.0",
      "_model_name": "DescriptionStyleModel",
      "_view_count": null,
      "_view_module": "@jupyter-widgets/base",
      "_view_module_version": "1.2.0",
      "_view_name": "StyleView",
      "description_width": ""
     }
    },
    "c3b605fe68e042ddb76a7ec19a650464": {
     "model_module": "@jupyter-widgets/controls",
     "model_module_version": "1.5.0",
     "model_name": "HTMLModel",
     "state": {
      "_dom_classes": [],
      "_model_module": "@jupyter-widgets/controls",
      "_model_module_version": "1.5.0",
      "_model_name": "HTMLModel",
      "_view_count": null,
      "_view_module": "@jupyter-widgets/controls",
      "_view_module_version": "1.5.0",
      "_view_name": "HTMLView",
      "description": "",
      "description_tooltip": null,
      "layout": "IPY_MODEL_93a62b3f15f94ff7b44ff43aa177e96e",
      "placeholder": "​",
      "style": "IPY_MODEL_3e6b0f9392904d589dab63559b6839bc",
      "value": "100%"
     }
    },
    "c422e1982da144dfba8be66156f457f6": {
     "model_module": "@jupyter-widgets/controls",
     "model_module_version": "1.5.0",
     "model_name": "ProgressStyleModel",
     "state": {
      "_model_module": "@jupyter-widgets/controls",
      "_model_module_version": "1.5.0",
      "_model_name": "ProgressStyleModel",
      "_view_count": null,
      "_view_module": "@jupyter-widgets/base",
      "_view_module_version": "1.2.0",
      "_view_name": "StyleView",
      "bar_color": null,
      "description_width": ""
     }
    },
    "c55024096de849e1985c0faa347c18ed": {
     "model_module": "@jupyter-widgets/base",
     "model_module_version": "1.2.0",
     "model_name": "LayoutModel",
     "state": {
      "_model_module": "@jupyter-widgets/base",
      "_model_module_version": "1.2.0",
      "_model_name": "LayoutModel",
      "_view_count": null,
      "_view_module": "@jupyter-widgets/base",
      "_view_module_version": "1.2.0",
      "_view_name": "LayoutView",
      "align_content": null,
      "align_items": null,
      "align_self": null,
      "border": null,
      "bottom": null,
      "display": null,
      "flex": null,
      "flex_flow": null,
      "grid_area": null,
      "grid_auto_columns": null,
      "grid_auto_flow": null,
      "grid_auto_rows": null,
      "grid_column": null,
      "grid_gap": null,
      "grid_row": null,
      "grid_template_areas": null,
      "grid_template_columns": null,
      "grid_template_rows": null,
      "height": null,
      "justify_content": null,
      "justify_items": null,
      "left": null,
      "margin": null,
      "max_height": null,
      "max_width": null,
      "min_height": null,
      "min_width": null,
      "object_fit": null,
      "object_position": null,
      "order": null,
      "overflow": null,
      "overflow_x": null,
      "overflow_y": null,
      "padding": null,
      "right": null,
      "top": null,
      "visibility": null,
      "width": null
     }
    },
    "c9aa9a2f2cf64178aec741114f535e57": {
     "model_module": "@jupyter-widgets/controls",
     "model_module_version": "1.5.0",
     "model_name": "HBoxModel",
     "state": {
      "_dom_classes": [],
      "_model_module": "@jupyter-widgets/controls",
      "_model_module_version": "1.5.0",
      "_model_name": "HBoxModel",
      "_view_count": null,
      "_view_module": "@jupyter-widgets/controls",
      "_view_module_version": "1.5.0",
      "_view_name": "HBoxView",
      "box_style": "",
      "children": [
       "IPY_MODEL_d2b76f72a1ef42ebb3fd26267cd64b92",
       "IPY_MODEL_847e59f0305c4ff28eb45937a6f6aa87",
       "IPY_MODEL_38eab7379b644db59a103f9bc020fad9"
      ],
      "layout": "IPY_MODEL_ce04247c9ea24888a51833a9d7a0767d"
     }
    },
    "cbc13a568db6430f8adc01e70498236f": {
     "model_module": "@jupyter-widgets/controls",
     "model_module_version": "1.5.0",
     "model_name": "HTMLModel",
     "state": {
      "_dom_classes": [],
      "_model_module": "@jupyter-widgets/controls",
      "_model_module_version": "1.5.0",
      "_model_name": "HTMLModel",
      "_view_count": null,
      "_view_module": "@jupyter-widgets/controls",
      "_view_module_version": "1.5.0",
      "_view_name": "HTMLView",
      "description": "",
      "description_tooltip": null,
      "layout": "IPY_MODEL_7ae01872527b4a6f88a74d9e91bdb3b0",
      "placeholder": "​",
      "style": "IPY_MODEL_cd34ee19fb8f4932b32368a48feaffa9",
      "value": " 2210/2210 [00:00&lt;00:00, 3964.85it/s]"
     }
    },
    "cd34ee19fb8f4932b32368a48feaffa9": {
     "model_module": "@jupyter-widgets/controls",
     "model_module_version": "1.5.0",
     "model_name": "DescriptionStyleModel",
     "state": {
      "_model_module": "@jupyter-widgets/controls",
      "_model_module_version": "1.5.0",
      "_model_name": "DescriptionStyleModel",
      "_view_count": null,
      "_view_module": "@jupyter-widgets/base",
      "_view_module_version": "1.2.0",
      "_view_name": "StyleView",
      "description_width": ""
     }
    },
    "ce04247c9ea24888a51833a9d7a0767d": {
     "model_module": "@jupyter-widgets/base",
     "model_module_version": "1.2.0",
     "model_name": "LayoutModel",
     "state": {
      "_model_module": "@jupyter-widgets/base",
      "_model_module_version": "1.2.0",
      "_model_name": "LayoutModel",
      "_view_count": null,
      "_view_module": "@jupyter-widgets/base",
      "_view_module_version": "1.2.0",
      "_view_name": "LayoutView",
      "align_content": null,
      "align_items": null,
      "align_self": null,
      "border": null,
      "bottom": null,
      "display": null,
      "flex": null,
      "flex_flow": null,
      "grid_area": null,
      "grid_auto_columns": null,
      "grid_auto_flow": null,
      "grid_auto_rows": null,
      "grid_column": null,
      "grid_gap": null,
      "grid_row": null,
      "grid_template_areas": null,
      "grid_template_columns": null,
      "grid_template_rows": null,
      "height": null,
      "justify_content": null,
      "justify_items": null,
      "left": null,
      "margin": null,
      "max_height": null,
      "max_width": null,
      "min_height": null,
      "min_width": null,
      "object_fit": null,
      "object_position": null,
      "order": null,
      "overflow": null,
      "overflow_x": null,
      "overflow_y": null,
      "padding": null,
      "right": null,
      "top": null,
      "visibility": null,
      "width": null
     }
    },
    "cfd8811d0955492a813f62890c4fe1c2": {
     "model_module": "@jupyter-widgets/base",
     "model_module_version": "1.2.0",
     "model_name": "LayoutModel",
     "state": {
      "_model_module": "@jupyter-widgets/base",
      "_model_module_version": "1.2.0",
      "_model_name": "LayoutModel",
      "_view_count": null,
      "_view_module": "@jupyter-widgets/base",
      "_view_module_version": "1.2.0",
      "_view_name": "LayoutView",
      "align_content": null,
      "align_items": null,
      "align_self": null,
      "border": null,
      "bottom": null,
      "display": null,
      "flex": null,
      "flex_flow": null,
      "grid_area": null,
      "grid_auto_columns": null,
      "grid_auto_flow": null,
      "grid_auto_rows": null,
      "grid_column": null,
      "grid_gap": null,
      "grid_row": null,
      "grid_template_areas": null,
      "grid_template_columns": null,
      "grid_template_rows": null,
      "height": null,
      "justify_content": null,
      "justify_items": null,
      "left": null,
      "margin": null,
      "max_height": null,
      "max_width": null,
      "min_height": null,
      "min_width": null,
      "object_fit": null,
      "object_position": null,
      "order": null,
      "overflow": null,
      "overflow_x": null,
      "overflow_y": null,
      "padding": null,
      "right": null,
      "top": null,
      "visibility": null,
      "width": null
     }
    },
    "cfdaed2848d843c48885a200f856ab38": {
     "model_module": "@jupyter-widgets/controls",
     "model_module_version": "1.5.0",
     "model_name": "ProgressStyleModel",
     "state": {
      "_model_module": "@jupyter-widgets/controls",
      "_model_module_version": "1.5.0",
      "_model_name": "ProgressStyleModel",
      "_view_count": null,
      "_view_module": "@jupyter-widgets/base",
      "_view_module_version": "1.2.0",
      "_view_name": "StyleView",
      "bar_color": null,
      "description_width": ""
     }
    },
    "d2b76f72a1ef42ebb3fd26267cd64b92": {
     "model_module": "@jupyter-widgets/controls",
     "model_module_version": "1.5.0",
     "model_name": "HTMLModel",
     "state": {
      "_dom_classes": [],
      "_model_module": "@jupyter-widgets/controls",
      "_model_module_version": "1.5.0",
      "_model_name": "HTMLModel",
      "_view_count": null,
      "_view_module": "@jupyter-widgets/controls",
      "_view_module_version": "1.5.0",
      "_view_name": "HTMLView",
      "description": "",
      "description_tooltip": null,
      "layout": "IPY_MODEL_51457d2f9158453188ed35f80abaeb78",
      "placeholder": "​",
      "style": "IPY_MODEL_1f3e5eb75b494f6d8000f1f9a206ce93",
      "value": "100%"
     }
    },
    "d89e29642e8140df8099ea0f966a26e5": {
     "model_module": "@jupyter-widgets/controls",
     "model_module_version": "1.5.0",
     "model_name": "FloatProgressModel",
     "state": {
      "_dom_classes": [],
      "_model_module": "@jupyter-widgets/controls",
      "_model_module_version": "1.5.0",
      "_model_name": "FloatProgressModel",
      "_view_count": null,
      "_view_module": "@jupyter-widgets/controls",
      "_view_module_version": "1.5.0",
      "_view_name": "ProgressView",
      "bar_style": "success",
      "description": "",
      "description_tooltip": null,
      "layout": "IPY_MODEL_79b91134e7b3429391079ced17473af8",
      "max": 2210,
      "min": 0,
      "orientation": "horizontal",
      "style": "IPY_MODEL_cfdaed2848d843c48885a200f856ab38",
      "value": 2210
     }
    },
    "e4510e9064ed454e9c545871809f2227": {
     "model_module": "@jupyter-widgets/controls",
     "model_module_version": "1.5.0",
     "model_name": "HTMLModel",
     "state": {
      "_dom_classes": [],
      "_model_module": "@jupyter-widgets/controls",
      "_model_module_version": "1.5.0",
      "_model_name": "HTMLModel",
      "_view_count": null,
      "_view_module": "@jupyter-widgets/controls",
      "_view_module_version": "1.5.0",
      "_view_name": "HTMLView",
      "description": "",
      "description_tooltip": null,
      "layout": "IPY_MODEL_028cd2c2722d49869c6f521dcdd3395c",
      "placeholder": "​",
      "style": "IPY_MODEL_bf8e990ab56e42bb93f9d90b48a7fb76",
      "value": " 1101/1101 [00:00&lt;00:00, 4739.06it/s]"
     }
    },
    "e913a9ba3fc745f7b7586e765c61dad8": {
     "model_module": "@jupyter-widgets/base",
     "model_module_version": "1.2.0",
     "model_name": "LayoutModel",
     "state": {
      "_model_module": "@jupyter-widgets/base",
      "_model_module_version": "1.2.0",
      "_model_name": "LayoutModel",
      "_view_count": null,
      "_view_module": "@jupyter-widgets/base",
      "_view_module_version": "1.2.0",
      "_view_name": "LayoutView",
      "align_content": null,
      "align_items": null,
      "align_self": null,
      "border": null,
      "bottom": null,
      "display": null,
      "flex": null,
      "flex_flow": null,
      "grid_area": null,
      "grid_auto_columns": null,
      "grid_auto_flow": null,
      "grid_auto_rows": null,
      "grid_column": null,
      "grid_gap": null,
      "grid_row": null,
      "grid_template_areas": null,
      "grid_template_columns": null,
      "grid_template_rows": null,
      "height": null,
      "justify_content": null,
      "justify_items": null,
      "left": null,
      "margin": null,
      "max_height": null,
      "max_width": null,
      "min_height": null,
      "min_width": null,
      "object_fit": null,
      "object_position": null,
      "order": null,
      "overflow": null,
      "overflow_x": null,
      "overflow_y": null,
      "padding": null,
      "right": null,
      "top": null,
      "visibility": null,
      "width": null
     }
    },
    "eac4bb4b36a44922bf09d73df57dec9d": {
     "model_module": "@jupyter-widgets/controls",
     "model_module_version": "1.5.0",
     "model_name": "FloatProgressModel",
     "state": {
      "_dom_classes": [],
      "_model_module": "@jupyter-widgets/controls",
      "_model_module_version": "1.5.0",
      "_model_name": "FloatProgressModel",
      "_view_count": null,
      "_view_module": "@jupyter-widgets/controls",
      "_view_module_version": "1.5.0",
      "_view_name": "ProgressView",
      "bar_style": "success",
      "description": "",
      "description_tooltip": null,
      "layout": "IPY_MODEL_04015ad0ee994a629ad1d11075105fa2",
      "max": 1101,
      "min": 0,
      "orientation": "horizontal",
      "style": "IPY_MODEL_4c54ef09b79c4e9587a8d82ec0d5b75b",
      "value": 1101
     }
    },
    "ec853a1a1bdc484ca9a71d83149488e6": {
     "model_module": "@jupyter-widgets/controls",
     "model_module_version": "1.5.0",
     "model_name": "HTMLModel",
     "state": {
      "_dom_classes": [],
      "_model_module": "@jupyter-widgets/controls",
      "_model_module_version": "1.5.0",
      "_model_name": "HTMLModel",
      "_view_count": null,
      "_view_module": "@jupyter-widgets/controls",
      "_view_module_version": "1.5.0",
      "_view_name": "HTMLView",
      "description": "",
      "description_tooltip": null,
      "layout": "IPY_MODEL_0f3ecc641c1142ba971a137b53704f96",
      "placeholder": "​",
      "style": "IPY_MODEL_77f0d12b2c284733bfbb9dbea6edde2e",
      "value": " 8544/8544 [00:03&lt;00:00, 4964.38it/s]"
     }
    },
    "ec88ffe8c0d84e6b99373929a26eafc0": {
     "model_module": "@jupyter-widgets/base",
     "model_module_version": "1.2.0",
     "model_name": "LayoutModel",
     "state": {
      "_model_module": "@jupyter-widgets/base",
      "_model_module_version": "1.2.0",
      "_model_name": "LayoutModel",
      "_view_count": null,
      "_view_module": "@jupyter-widgets/base",
      "_view_module_version": "1.2.0",
      "_view_name": "LayoutView",
      "align_content": null,
      "align_items": null,
      "align_self": null,
      "border": null,
      "bottom": null,
      "display": null,
      "flex": null,
      "flex_flow": null,
      "grid_area": null,
      "grid_auto_columns": null,
      "grid_auto_flow": null,
      "grid_auto_rows": null,
      "grid_column": null,
      "grid_gap": null,
      "grid_row": null,
      "grid_template_areas": null,
      "grid_template_columns": null,
      "grid_template_rows": null,
      "height": null,
      "justify_content": null,
      "justify_items": null,
      "left": null,
      "margin": null,
      "max_height": null,
      "max_width": null,
      "min_height": null,
      "min_width": null,
      "object_fit": null,
      "object_position": null,
      "order": null,
      "overflow": null,
      "overflow_x": null,
      "overflow_y": null,
      "padding": null,
      "right": null,
      "top": null,
      "visibility": null,
      "width": null
     }
    },
    "ed9d4a5484b541499bc5ab75a121f5c5": {
     "model_module": "@jupyter-widgets/controls",
     "model_module_version": "1.5.0",
     "model_name": "HBoxModel",
     "state": {
      "_dom_classes": [],
      "_model_module": "@jupyter-widgets/controls",
      "_model_module_version": "1.5.0",
      "_model_name": "HBoxModel",
      "_view_count": null,
      "_view_module": "@jupyter-widgets/controls",
      "_view_module_version": "1.5.0",
      "_view_name": "HBoxView",
      "box_style": "",
      "children": [
       "IPY_MODEL_9cdc48fd39b64bf38a1fa6db900cfe5b",
       "IPY_MODEL_eac4bb4b36a44922bf09d73df57dec9d",
       "IPY_MODEL_e4510e9064ed454e9c545871809f2227"
      ],
      "layout": "IPY_MODEL_4d767d13e98d4c38a0964b797ebe115c"
     }
    },
    "f449db5b8a3447e6b6d529a4822600ec": {
     "model_module": "@jupyter-widgets/controls",
     "model_module_version": "1.5.0",
     "model_name": "DescriptionStyleModel",
     "state": {
      "_model_module": "@jupyter-widgets/controls",
      "_model_module_version": "1.5.0",
      "_model_name": "DescriptionStyleModel",
      "_view_count": null,
      "_view_module": "@jupyter-widgets/base",
      "_view_module_version": "1.2.0",
      "_view_name": "StyleView",
      "description_width": ""
     }
    },
    "f766a02eb67c4d9fb1715170faf5f61b": {
     "model_module": "@jupyter-widgets/controls",
     "model_module_version": "1.5.0",
     "model_name": "HTMLModel",
     "state": {
      "_dom_classes": [],
      "_model_module": "@jupyter-widgets/controls",
      "_model_module_version": "1.5.0",
      "_model_name": "HTMLModel",
      "_view_count": null,
      "_view_module": "@jupyter-widgets/controls",
      "_view_module_version": "1.5.0",
      "_view_name": "HTMLView",
      "description": "",
      "description_tooltip": null,
      "layout": "IPY_MODEL_94584913477543b3ab210db470e6706d",
      "placeholder": "​",
      "style": "IPY_MODEL_9b13712f54914caeaaca727e4ae3d3c8",
      "value": "100%"
     }
    }
   }
  }
 },
 "nbformat": 4,
 "nbformat_minor": 1
}
